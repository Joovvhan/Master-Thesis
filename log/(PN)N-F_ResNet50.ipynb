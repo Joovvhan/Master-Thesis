{
  "nbformat": 4,
  "nbformat_minor": 0,
  "metadata": {
    "colab": {
      "name": "Transfer Learning Clean Up.ipynb",
      "version": "0.3.2",
      "provenance": [],
      "include_colab_link": true
    },
    "kernelspec": {
      "name": "python3",
      "display_name": "Python 3"
    },
    "accelerator": "GPU"
  },
  "cells": [
    {
      "cell_type": "markdown",
      "metadata": {
        "id": "view-in-github",
        "colab_type": "text"
      },
      "source": [
        "<a href=\"https://colab.research.google.com/github/Joovvhan/Master-Thesis/blob/master/log/(PN)N-F_ResNet50.ipynb\" target=\"_parent\"><img src=\"https://colab.research.google.com/assets/colab-badge.svg\" alt=\"Open In Colab\"/></a>"
      ]
    },
    {
      "metadata": {
        "id": "c3821KWLNey6",
        "colab_type": "code",
        "outputId": "d89e6cf2-7ba1-46bb-aa88-fa6e7b619a99",
        "colab": {
          "base_uri": "https://localhost:8080/",
          "height": 35
        }
      },
      "cell_type": "code",
      "source": [
        "# Import necessary modules\n",
        "\n",
        "import os\n",
        "import matplotlib.pyplot as plt\n",
        "import numpy as np\n",
        "import scipy.io.wavfile as wf\n",
        "import time\n",
        "import glob\n",
        "import datetime\n",
        "\n",
        "from tqdm import trange\n",
        "\n",
        "# Import Keras modules\n",
        "\n",
        "from keras.preprocessing import image\n",
        "from keras.layers import Input, Flatten, Dense, Dropout, GlobalAveragePooling2D\n",
        "from keras.models import Sequential\n",
        "from keras import backend as K\n",
        "from keras.models import load_model\n"
      ],
      "execution_count": 3,
      "outputs": [
        {
          "output_type": "stream",
          "text": [
            "Using TensorFlow backend.\n"
          ],
          "name": "stderr"
        }
      ]
    },
    {
      "metadata": {
        "id": "nxSASpgF7unA",
        "colab_type": "code",
        "colab": {}
      },
      "cell_type": "code",
      "source": [
        "# Mount google drive\n",
        "\n",
        "# from google.colab import drive\n",
        "# drive.mount('/content/gdrive')\n",
        "# os.listdir('gdrive/My Drive/Colab')"
      ],
      "execution_count": 0,
      "outputs": []
    },
    {
      "metadata": {
        "id": "rw9NU8Xjwcz2",
        "colab_type": "code",
        "colab": {}
      },
      "cell_type": "code",
      "source": [
        "# Set data directories\n",
        "\n",
        "dataPath = '''D:\\\\0_Joowhan's Paper\\\\Synthesized\\\\Total\\\\Impulse'''\n",
        "modelPath = '''D:\\\\0_Joowhan's Paper\\\\Synthesized\\\\Total\\\\Model'''\n",
        "\n",
        "\n",
        "# Changed variable names to normal and fault\n",
        "# Changed variable names from folder to path\n",
        "# Need to consider multiple folders\n",
        "# Need to add files to be tested\n",
        "\n",
        "# folderNormal = ['P1N1', 'P2N1', 'P3N1', 'P4N1', 'P5N1']\n",
        "folderNormal = list()\n",
        "\n",
        "for x in range(1, 6):\n",
        "    for y in range(1, 6):\n",
        "        if (x <= 2 and y <= 2):\n",
        "            folderNormal.append('P{}N{}'.format(x, y))\n",
        "\n",
        "folderFault = list()\n",
        "\n",
        "# folderFault = ['P1N5', 'P2N5', 'P3N5', 'P4N5', 'P5N5']\n",
        "\n",
        "for x in range(1, 6):\n",
        "    for y in range(1, 6):\n",
        "        if (x == 5 or y == 5):\n",
        "            folderFault.append('P{}N{}'.format(x, y))\n",
        "\n",
        "\n",
        "pathNormal = list()\n",
        "pathFault = list()\n",
        "\n",
        "for i in range(len(folderNormal)):\n",
        "    pathNormal.append(dataPath + '/' + folderNormal[i])\n",
        "    \n",
        "for i in range(len(folderFault)):\n",
        "    pathFault.append(dataPath + '/' + folderFault[i])"
      ],
      "execution_count": 0,
      "outputs": []
    },
    {
      "metadata": {
        "id": "xgGP7PZO-rTA",
        "colab_type": "code",
        "colab": {}
      },
      "cell_type": "code",
      "source": [
        "# Specgram settings\n",
        "\n",
        "nsc = 1470\n",
        "nov = nsc/2\n",
        "nff = nsc \n",
        "imgSize = 224\n",
        "\n",
        "# pretrainedModel = 'VGG19'\n",
        "# pretrainedModel = 'Xception'\n",
        "pretrainedModel = 'ResNet50'\n",
        "\n",
        "# pretrainedModel = 'DenseNet169'\n",
        "# pretrainedModel = 'InceptionV3'\n",
        "\n",
        "\n",
        "lastActivation = 'softmax'\n",
        "sizeBatch = 4\n",
        "numEpochs = 12\n",
        "verb = 1\n",
        "\n",
        "\n",
        "# Learning parameters\n",
        "\n",
        "trainingRatio = 0.8\n",
        "\n",
        "totalDataNum = 1000\n",
        "repeat = 5"
      ],
      "execution_count": 0,
      "outputs": []
    },
    {
      "metadata": {
        "id": "5AskF2qFT2xr",
        "colab_type": "code",
        "outputId": "0e163063-81ce-4d2a-c0a5-92437ab6e63b",
        "colab": {
          "base_uri": "https://localhost:8080/",
          "height": 179
        }
      },
      "cell_type": "code",
      "source": [
        "startNum = 0\n",
        "\n",
        "pickNum = int(np.ceil(totalDataNum / len(pathNormal)))\n",
        "\n",
        "for i in range(startNum, len(pathNormal)):\n",
        "\n",
        "    npyTestPath = glob.glob(pathNormal[i] + '/' + '*Image_With_Label.npy')\n",
        "    data = np.load(npyTestPath[0])\n",
        "    \n",
        "    pickIdx = np.random.choice(1000, pickNum, replace=False)\n",
        "    pickIdx.sort()\n",
        "    \n",
        "#     imgs = np.moveaxis(np.dstack(data[:, 0]), 2, 0)\n",
        "#     label = data[:, 1:5]\n",
        "\n",
        "    imgs = np.moveaxis(np.dstack(data[pickIdx, 0]), 2, 0)\n",
        "    label = data[pickIdx, 1:5]\n",
        "    \n",
        "    if i == startNum:\n",
        "        labelListNormal = label\n",
        "        imgsNormal = imgs\n",
        "    else:\n",
        "        labelListNormal = np.vstack([labelListNormal, label])\n",
        "        imgsNormal = np.vstack([imgsNormal, imgs])\n",
        "\n",
        "    print('Normal Image Shape From {}: {}:'.format(pathNormal[i], totalDataNum))    \n",
        "    print('Selected {}/{}:'.format(pickNum * (i + 1), len(data)))    \n",
        "    \n",
        "    \n",
        "print('Normal Image Shape: {}'.format(imgsNormal.shape))\n"
      ],
      "execution_count": 7,
      "outputs": [
        {
          "output_type": "stream",
          "text": [
            "Normal Image Shape From D:\\0_Joowhan's Paper\\Synthesized\\Total\\Impulse/P1N1: 1000:\n",
            "Selected 250/1000:\n",
            "Normal Image Shape From D:\\0_Joowhan's Paper\\Synthesized\\Total\\Impulse/P1N2: 1000:\n",
            "Selected 500/1000:\n",
            "Normal Image Shape From D:\\0_Joowhan's Paper\\Synthesized\\Total\\Impulse/P2N1: 1000:\n",
            "Selected 750/1000:\n",
            "Normal Image Shape From D:\\0_Joowhan's Paper\\Synthesized\\Total\\Impulse/P2N2: 1000:\n",
            "Selected 1000/1000:\n",
            "Normal Image Shape: (1000, 224, 224)\n"
          ],
          "name": "stdout"
        }
      ]
    },
    {
      "metadata": {
        "id": "P_MZtpk3Br_i",
        "colab_type": "code",
        "outputId": "256174ae-3005-406e-a7fc-924488002329",
        "colab": {
          "base_uri": "https://localhost:8080/",
          "height": 359
        }
      },
      "cell_type": "code",
      "source": [
        "startNum = 0\n",
        "\n",
        "pickNum = int(np.ceil(totalDataNum / len(pathFault)))\n",
        "\n",
        "for i in range(startNum, len(pathFault)):\n",
        "\n",
        "    npyTestPath = glob.glob(pathFault[i] + '/' + '*Image_With_Label.npy')\n",
        "    data = np.load(npyTestPath[0])\n",
        "    \n",
        "    pickIdx = np.random.choice(1000, pickNum, replace=False)\n",
        "    pickIdx.sort()\n",
        "    \n",
        "#     imgs = np.moveaxis(np.dstack(data[:, 0]), 2, 0)\n",
        "#     label = data[:, 1:5]\n",
        "    \n",
        "    imgs = np.moveaxis(np.dstack(data[pickIdx, 0]), 2, 0)\n",
        "    label = data[pickIdx, 1:5]\n",
        "    \n",
        "    if i == startNum:\n",
        "        labelListFault = label\n",
        "        imgsFault = imgs\n",
        "    else:\n",
        "        labelListFault = np.vstack([labelListFault, label])\n",
        "        imgsFault = np.vstack([imgsFault, imgs])\n",
        "\n",
        "    print('Fault Image Shape From {}: {}:'.format(pathFault[i], totalDataNum))    \n",
        "    print('Selected {}/{}:'.format(pickNum * (i + 1), len(data)))     \n",
        "    \n",
        "print('Fault Image Shape: {}'.format(imgsFault.shape))"
      ],
      "execution_count": 8,
      "outputs": [
        {
          "output_type": "stream",
          "text": [
            "Fault Image Shape From D:\\0_Joowhan's Paper\\Synthesized\\Total\\Impulse/P1N5: 1000:\n",
            "Selected 112/1000:\n",
            "Fault Image Shape From D:\\0_Joowhan's Paper\\Synthesized\\Total\\Impulse/P2N5: 1000:\n",
            "Selected 224/1000:\n",
            "Fault Image Shape From D:\\0_Joowhan's Paper\\Synthesized\\Total\\Impulse/P3N5: 1000:\n",
            "Selected 336/1000:\n",
            "Fault Image Shape From D:\\0_Joowhan's Paper\\Synthesized\\Total\\Impulse/P4N5: 1000:\n",
            "Selected 448/1000:\n",
            "Fault Image Shape From D:\\0_Joowhan's Paper\\Synthesized\\Total\\Impulse/P5N1: 1000:\n",
            "Selected 560/1000:\n",
            "Fault Image Shape From D:\\0_Joowhan's Paper\\Synthesized\\Total\\Impulse/P5N2: 1000:\n",
            "Selected 672/1000:\n",
            "Fault Image Shape From D:\\0_Joowhan's Paper\\Synthesized\\Total\\Impulse/P5N3: 1000:\n",
            "Selected 784/1000:\n",
            "Fault Image Shape From D:\\0_Joowhan's Paper\\Synthesized\\Total\\Impulse/P5N4: 1000:\n",
            "Selected 896/1000:\n",
            "Fault Image Shape From D:\\0_Joowhan's Paper\\Synthesized\\Total\\Impulse/P5N5: 1000:\n",
            "Selected 1008/1000:\n",
            "Fault Image Shape: (1008, 224, 224)\n"
          ],
          "name": "stdout"
        }
      ]
    },
    {
      "metadata": {
        "id": "e91QsAurSkIP",
        "colab_type": "code",
        "outputId": "ae474a86-65e9-4c2f-ce42-2089c29b0657",
        "colab": {
          "base_uri": "https://localhost:8080/",
          "height": 215
        }
      },
      "cell_type": "code",
      "source": [
        "# Change name from imgsF1 or imgsF5 to imgsNormal and imgsFault\n",
        "\n",
        "dataNumNormal = len(imgsNormal)\n",
        "dataNumFault = len(imgsFault)\n",
        "dataNumNormalTrain = int(dataNumNormal * trainingRatio)\n",
        "dataNumFaultTrain = int(dataNumFault * trainingRatio)\n",
        "dataNumNormalTest = dataNumNormal - dataNumNormalTrain\n",
        "dataNumFaultTest = dataNumFault - dataNumFaultTrain\n",
        "\n",
        "print('Normal Train:Test = {:d}:{:d}'.format(dataNumNormalTrain, dataNumNormalTest))\n",
        "print('Fault  Train:Test = {:d}:{:d}\\n'.format(dataNumFaultTrain, dataNumFaultTest))\n",
        "\n",
        "trainIdxNormal = np.random.choice(dataNumNormal - 1, dataNumNormalTrain, replace=False)\n",
        "testIdxNormal = list(set(range(0, dataNumNormal)) - set(trainIdxNormal))\n",
        "\n",
        "trainImgsNormal = imgsNormal[trainIdxNormal, :, :]\n",
        "testImgsNormal = imgsNormal[testIdxNormal, :, :]\n",
        "\n",
        "print('Normal Training Image Shape {}'.format(trainImgsNormal.shape))\n",
        "print('Normal Test Image Shape {}\\n'.format(testImgsNormal.shape))\n",
        "\n",
        "trainIdxFault  = np.random.choice(dataNumFault - 1, dataNumFaultTrain, replace=False)\n",
        "testIdxFault = list(set(range(0, dataNumFault)) - set(trainIdxFault))\n",
        "\n",
        "trainImgsFault = imgsFault[trainIdxFault, :, :]\n",
        "testImgsFault = imgsFault[testIdxFault, :, :]\n",
        "\n",
        "print('Fault Training Image Shape {}'.format(trainImgsFault.shape))\n",
        "print('Fault Test Image Shape {}\\n'.format(testImgsFault.shape))\n",
        "\n",
        "trainImgs = np.vstack([trainImgsNormal, trainImgsFault])\n",
        "testImgs = np.vstack([testImgsNormal, testImgsFault])\n",
        "\n",
        "print('Training Image Shape {}'.format(trainImgs.shape))\n",
        "print('Test Image Shape {}'.format(testImgs.shape))"
      ],
      "execution_count": 9,
      "outputs": [
        {
          "output_type": "stream",
          "text": [
            "Normal Train:Test = 800:200\n",
            "Fault  Train:Test = 806:202\n",
            "\n",
            "Normal Training Image Shape (800, 224, 224)\n",
            "Normal Test Image Shape (200, 224, 224)\n",
            "\n",
            "Fault Training Image Shape (806, 224, 224)\n",
            "Fault Test Image Shape (202, 224, 224)\n",
            "\n",
            "Training Image Shape (1606, 224, 224)\n",
            "Test Image Shape (402, 224, 224)\n"
          ],
          "name": "stdout"
        }
      ]
    },
    {
      "metadata": {
        "id": "MoE7f_hzs0av",
        "colab_type": "text"
      },
      "cell_type": "markdown",
      "source": [
        ""
      ]
    },
    {
      "metadata": {
        "id": "feQ_AHAcUgHD",
        "colab_type": "code",
        "outputId": "a29c8457-8d3d-434f-fc72-93c860d63c21",
        "colab": {
          "base_uri": "https://localhost:8080/",
          "height": 53
        }
      },
      "cell_type": "code",
      "source": [
        "trainMean = np.mean(trainImgs)\n",
        "trainStd = np.std(trainImgs)\n",
        "\n",
        "print('Mean of Training Image: {}'.format(trainMean))\n",
        "print('Standard Deviation of Training Image: {}'.format(trainStd))"
      ],
      "execution_count": 10,
      "outputs": [
        {
          "output_type": "stream",
          "text": [
            "Mean of Training Image: -79.2125888777502\n",
            "Standard Deviation of Training Image: 8.118581527896263\n"
          ],
          "name": "stdout"
        }
      ]
    },
    {
      "metadata": {
        "id": "wUi9IuXNUpir",
        "colab_type": "code",
        "colab": {}
      },
      "cell_type": "code",
      "source": [
        "# Should Change Norm to Normalized\n",
        "\n",
        "trainImgsNorm = (trainImgs - trainMean) / trainStd\n",
        "testImgsNorm = (testImgs - trainMean) / trainStd\n",
        "\n",
        "trainImgsNorm = trainImgsNorm.reshape(list(trainImgsNorm.shape) + [1])\n",
        "testImgsNorm = testImgsNorm.reshape(list(testImgsNorm.shape) + [1])"
      ],
      "execution_count": 0,
      "outputs": []
    },
    {
      "metadata": {
        "id": "aklxiPz1Ve4n",
        "colab_type": "code",
        "outputId": "807db963-e048-485f-afa5-262dc67d500c",
        "colab": {
          "base_uri": "https://localhost:8080/",
          "height": 53
        }
      },
      "cell_type": "code",
      "source": [
        "X_train = np.stack([trainImgsNorm[:, :, :, 0], trainImgsNorm[:, :, :, 0], trainImgsNorm[:, :, :, 0]], axis = -1)\n",
        "X_test = np.stack([testImgsNorm[:, :, :, 0], testImgsNorm[:, :, :, 0], testImgsNorm[:, :, :, 0]], axis = -1)\n",
        "\n",
        "print('X_train Shape: {}'.format(X_train.shape))\n",
        "print('X_test  Shape: {}'.format(X_test.shape))"
      ],
      "execution_count": 12,
      "outputs": [
        {
          "output_type": "stream",
          "text": [
            "X_train Shape: (1606, 224, 224, 3)\n",
            "X_test  Shape: (402, 224, 224, 3)\n"
          ],
          "name": "stdout"
        }
      ]
    },
    {
      "metadata": {
        "id": "sRgIPzT7K_YP",
        "colab_type": "code",
        "outputId": "7e1c23f7-5c36-46d6-83c6-05ab1f61ceb3",
        "colab": {
          "base_uri": "https://localhost:8080/",
          "height": 53
        }
      },
      "cell_type": "code",
      "source": [
        "trainLabelNormal = np.stack((np.ones(dataNumNormalTrain), np.zeros(dataNumNormalTrain)), axis = -1)\n",
        "testLabelNormal = np.stack((np.ones(dataNumNormalTest), np.zeros(dataNumNormalTest)), axis = -1)\n",
        "\n",
        "trainLabelFault = np.stack((np.zeros(dataNumFaultTrain), np.ones(dataNumFaultTrain)), axis = -1)\n",
        "testLabelFault = np.stack((np.zeros(dataNumFaultTest), np.ones(dataNumFaultTest)), axis = -1)\n",
        "\n",
        "Y_train = np.vstack((trainLabelNormal, trainLabelFault))\n",
        "Y_test = np.vstack((testLabelNormal, testLabelFault))\n",
        "\n",
        "print('Y_train Normal:Fault = {:d}:{:d}'.format(len(trainLabelNormal), len(trainLabelFault)))\n",
        "print('Y_test  Normal:Fault = {:d}:{:d}'.format(len(testLabelNormal), len(testLabelFault)))"
      ],
      "execution_count": 13,
      "outputs": [
        {
          "output_type": "stream",
          "text": [
            "Y_train Normal:Fault = 800:806\n",
            "Y_test  Normal:Fault = 200:202\n"
          ],
          "name": "stdout"
        }
      ]
    },
    {
      "metadata": {
        "id": "kczwZk7Tbp5C",
        "colab_type": "code",
        "outputId": "29d32414-33de-42f2-a43e-1465c86fc2c3",
        "colab": {
          "base_uri": "https://localhost:8080/",
          "height": 2683
        }
      },
      "cell_type": "code",
      "source": [
        "from keras.applications import VGG19\n",
        "from keras.applications import VGG16\n",
        "from keras.applications.resnet50 import ResNet50\n",
        "from keras.applications.xception import Xception\n",
        "from keras.applications.densenet import DenseNet169\n",
        "from keras.applications.densenet import DenseNet201\n",
        "from keras.applications.inception_v3 import InceptionV3\n",
        "\n",
        "# pretrainedModel = 'ResNet50'\n",
        "# lastActivation = 'softmax'\n",
        "# lossFunction = 'binary_crossentropy'\n",
        "# sizeBatch = 2\n",
        "# numEpochs = 2\n",
        "# verb = 1\n",
        "\n",
        "for rp in range(repeat):\n",
        "\n",
        "    # Refresh all background variables\n",
        "    K.clear_session()\n",
        "\n",
        "    input_tensor = Input(shape=(imgSize, imgSize, 3))\n",
        "\n",
        "    # Building sequential model with name 'model'\n",
        "    model = Sequential()\n",
        "\n",
        "    # Model selection\n",
        "\n",
        "    if (pretrainedModel == 'VGG16'):\n",
        "\n",
        "        modelWoTop = VGG16(input_tensor=input_tensor, weights='imagenet', include_top=False)\n",
        "        model.add(modelWoTop)\n",
        "        model.add(Flatten())\n",
        "        model.add(Dense(4096, activation='relu'))\n",
        "        model.add(Dropout(0.5))\n",
        "        model.add(Dense(4096, activation='relu'))\n",
        "        model.add(Dropout(0.5))\n",
        "        model.add(Dense(2, activation=lastActivation))\n",
        "\n",
        "    elif (pretrainedModel == 'VGG19'):\n",
        "\n",
        "        modelWoTop = VGG19(input_tensor=input_tensor, weights='imagenet', include_top=False)\n",
        "        model.add(modelWoTop)\n",
        "        model.add(Flatten())\n",
        "        model.add(Dense(4096, activation='relu'))\n",
        "        model.add(Dropout(0.5))\n",
        "        model.add(Dense(4096, activation='relu'))\n",
        "        model.add(Dropout(0.5))\n",
        "        model.add(Dense(2, activation=lastActivation))\n",
        "\n",
        "    elif pretrainedModel == 'ResNet50':\n",
        "\n",
        "        modelWoTop = ResNet50(input_tensor=input_tensor, weights='imagenet', include_top=False)\n",
        "        model.add(modelWoTop)\n",
        "        model.add(Flatten())\n",
        "        model.add(Dense(2, activation=lastActivation))\n",
        "\n",
        "    elif (pretrainedModel == 'InceptionV3'):\n",
        "        modelWoTop = InceptionV3(input_tensor=input_tensor, weights='imagenet', include_top=False)\n",
        "        model.add(modelWoTop)\n",
        "        model.add(GlobalAveragePooling2D())\n",
        "        model.add(Dense(2, activation=lastActivation))\n",
        "\n",
        "    elif (pretrainedModel == 'Xception'):\n",
        "        modelWoTop = Xception(input_tensor=input_tensor, weights='imagenet', include_top=False)\n",
        "        model.add(modelWoTop)\n",
        "        model.add(GlobalAveragePooling2D())\n",
        "        model.add(Dense(2, activation=lastActivation))\n",
        "\n",
        "    elif (pretrainedModel == 'DenseNet169'):\n",
        "\n",
        "        modelWoTop = DenseNet169(input_tensor=input_tensor, weights='imagenet', include_top=False)\n",
        "        model.add(modelWoTop)\n",
        "        model.add(GlobalAveragePooling2D())\n",
        "        model.add(Dense(2, activation=lastActivation))\n",
        "\n",
        "    elif (pretrainedModel == 'DenseNet201'):\n",
        "        modelWoTop = DenseNet201(input_tensor=input_tensor, weights='imagenet', include_top=False)\n",
        "        model.add(modelWoTop)\n",
        "        model.add(GlobalAveragePooling2D())\n",
        "        model.add(Dense(2, activation=lastActivation))\n",
        "\n",
        "    else:\n",
        "        print('Invalid Pretrained Model Selection')\n",
        "\n",
        "\n",
        "\n",
        "    # Model compiling\n",
        "\n",
        "    print('Compiling Pretrained {} Model'.format(model.layers[0].name))\n",
        "\n",
        "    model.compile(loss='binary_crossentropy',\n",
        "                  optimizer='adam',\n",
        "                  metrics=['accuracy'])\n",
        "\n",
        "    print('Training Pretrained {} Model'.format(model.layers[0].name))\n",
        "    print('Batch Size: {}\\t Epochs: {}\\t\\n'.format(sizeBatch, numEpochs))\n",
        "\n",
        "    model.fit(X_train, Y_train,\n",
        "              batch_size=sizeBatch, epochs=numEpochs, verbose=1,\n",
        "              validation_data=(X_test, Y_test))"
      ],
      "execution_count": 14,
      "outputs": [
        {
          "output_type": "stream",
          "text": [
            "c:\\users\\주환\\appdata\\local\\conda\\conda\\envs\\paper\\lib\\site-packages\\keras_applications\\resnet50.py:263: UserWarning: The output shape of `ResNet50(include_top=False)` has been changed since Keras 2.2.0.\n",
            "  warnings.warn('The output shape of `ResNet50(include_top=False)` '\n"
          ],
          "name": "stderr"
        },
        {
          "output_type": "stream",
          "text": [
            "Compiling Pretrained resnet50 Model\n",
            "Training Pretrained resnet50 Model\n",
            "Batch Size: 4\t Epochs: 12\t\n",
            "\n",
            "Train on 1606 samples, validate on 402 samples\n",
            "Epoch 1/12\n",
            "1606/1606 [==============================] - 81s 50ms/step - loss: 7.8610 - acc: 0.5056 - val_loss: 7.9752 - val_acc: 0.5025\n",
            "Epoch 2/12\n",
            "1606/1606 [==============================] - 67s 42ms/step - loss: 7.9852 - acc: 0.5019 - val_loss: 7.9752 - val_acc: 0.5025\n",
            "Epoch 3/12\n",
            "1606/1606 [==============================] - 67s 42ms/step - loss: 7.9852 - acc: 0.5019 - val_loss: 7.9752 - val_acc: 0.5025\n",
            "Epoch 4/12\n",
            "1606/1606 [==============================] - 68s 42ms/step - loss: 7.9852 - acc: 0.5019 - val_loss: 7.9752 - val_acc: 0.5025\n",
            "Epoch 5/12\n",
            "1606/1606 [==============================] - 68s 42ms/step - loss: 7.9852 - acc: 0.5019 - val_loss: 7.9752 - val_acc: 0.5025\n",
            "Epoch 6/12\n",
            "1606/1606 [==============================] - 68s 42ms/step - loss: 7.9852 - acc: 0.5019 - val_loss: 7.9752 - val_acc: 0.5025\n",
            "Epoch 7/12\n",
            "1606/1606 [==============================] - 68s 42ms/step - loss: 7.9852 - acc: 0.5019 - val_loss: 7.9752 - val_acc: 0.5025\n",
            "Epoch 8/12\n",
            "1606/1606 [==============================] - 68s 42ms/step - loss: 7.9852 - acc: 0.5019 - val_loss: 7.9752 - val_acc: 0.5025\n",
            "Epoch 9/12\n",
            "1606/1606 [==============================] - 68s 43ms/step - loss: 7.9852 - acc: 0.5019 - val_loss: 7.9752 - val_acc: 0.5025\n",
            "Epoch 10/12\n",
            "1606/1606 [==============================] - 68s 42ms/step - loss: 7.9852 - acc: 0.5019 - val_loss: 7.9752 - val_acc: 0.5025\n",
            "Epoch 11/12\n",
            "1606/1606 [==============================] - 68s 42ms/step - loss: 7.9852 - acc: 0.5019 - val_loss: 7.9752 - val_acc: 0.5025\n",
            "Epoch 12/12\n",
            "1606/1606 [==============================] - 68s 42ms/step - loss: 7.9852 - acc: 0.5019 - val_loss: 7.9752 - val_acc: 0.5025\n",
            "Compiling Pretrained resnet50 Model\n",
            "Training Pretrained resnet50 Model\n",
            "Batch Size: 4\t Epochs: 12\t\n",
            "\n",
            "Train on 1606 samples, validate on 402 samples\n",
            "Epoch 1/12\n",
            "1606/1606 [==============================] - 79s 49ms/step - loss: 1.8269 - acc: 0.7578 - val_loss: 1.5898 - val_acc: 0.7811\n",
            "Epoch 2/12\n",
            "1606/1606 [==============================] - 67s 42ms/step - loss: 1.7078 - acc: 0.7615 - val_loss: 1.6073 - val_acc: 0.8284\n",
            "Epoch 3/12\n",
            "1606/1606 [==============================] - 68s 42ms/step - loss: 1.1025 - acc: 0.8257 - val_loss: 2.1063 - val_acc: 0.8060\n",
            "Epoch 4/12\n",
            "1606/1606 [==============================] - 68s 42ms/step - loss: 1.2639 - acc: 0.8200 - val_loss: 0.3761 - val_acc: 0.8781\n",
            "Epoch 5/12\n",
            "1606/1606 [==============================] - 68s 42ms/step - loss: 0.8894 - acc: 0.8568 - val_loss: 0.3017 - val_acc: 0.8930\n",
            "Epoch 6/12\n",
            "1606/1606 [==============================] - 68s 42ms/step - loss: 0.8226 - acc: 0.8705 - val_loss: 0.2271 - val_acc: 0.9104\n",
            "Epoch 7/12\n",
            "1606/1606 [==============================] - 68s 42ms/step - loss: 0.6371 - acc: 0.8910 - val_loss: 0.1734 - val_acc: 0.9453\n",
            "Epoch 8/12\n",
            "1606/1606 [==============================] - 68s 42ms/step - loss: 0.7516 - acc: 0.9004 - val_loss: 0.1770 - val_acc: 0.9353\n",
            "Epoch 9/12\n",
            "1606/1606 [==============================] - 68s 42ms/step - loss: 0.7619 - acc: 0.8854 - val_loss: 0.1620 - val_acc: 0.9453\n",
            "Epoch 10/12\n",
            "1606/1606 [==============================] - 68s 42ms/step - loss: 0.6946 - acc: 0.9016 - val_loss: 0.1242 - val_acc: 0.9602\n",
            "Epoch 11/12\n",
            "1606/1606 [==============================] - 68s 42ms/step - loss: 0.8103 - acc: 0.9016 - val_loss: 0.2472 - val_acc: 0.9552\n",
            "Epoch 12/12\n",
            "1606/1606 [==============================] - 68s 42ms/step - loss: 0.7567 - acc: 0.8736 - val_loss: 0.2698 - val_acc: 0.9254\n",
            "Compiling Pretrained resnet50 Model\n",
            "Training Pretrained resnet50 Model\n",
            "Batch Size: 4\t Epochs: 12\t\n",
            "\n",
            "Train on 1606 samples, validate on 402 samples\n",
            "Epoch 1/12\n",
            "1606/1606 [==============================] - 79s 49ms/step - loss: 7.9709 - acc: 0.5019 - val_loss: 7.9752 - val_acc: 0.5025\n",
            "Epoch 2/12\n",
            "1606/1606 [==============================] - 68s 42ms/step - loss: 7.9852 - acc: 0.5019 - val_loss: 7.9752 - val_acc: 0.5025\n",
            "Epoch 3/12\n",
            "1606/1606 [==============================] - 68s 42ms/step - loss: 7.9852 - acc: 0.5019 - val_loss: 7.9752 - val_acc: 0.5025\n",
            "Epoch 4/12\n",
            "1606/1606 [==============================] - 68s 42ms/step - loss: 7.9852 - acc: 0.5019 - val_loss: 7.9752 - val_acc: 0.5025\n",
            "Epoch 5/12\n",
            "1606/1606 [==============================] - 68s 43ms/step - loss: 7.9852 - acc: 0.5019 - val_loss: 7.9752 - val_acc: 0.5025\n",
            "Epoch 6/12\n",
            "1606/1606 [==============================] - 68s 42ms/step - loss: 7.9852 - acc: 0.5019 - val_loss: 7.9752 - val_acc: 0.5025\n",
            "Epoch 7/12\n",
            "1606/1606 [==============================] - 69s 43ms/step - loss: 7.9852 - acc: 0.5019 - val_loss: 7.9752 - val_acc: 0.5025\n",
            "Epoch 8/12\n",
            "1606/1606 [==============================] - 68s 43ms/step - loss: 7.9852 - acc: 0.5019 - val_loss: 7.9752 - val_acc: 0.5025\n",
            "Epoch 9/12\n",
            "1606/1606 [==============================] - 68s 43ms/step - loss: 7.9852 - acc: 0.5019 - val_loss: 7.9752 - val_acc: 0.5025\n",
            "Epoch 10/12\n",
            "1606/1606 [==============================] - 68s 43ms/step - loss: 7.9852 - acc: 0.5019 - val_loss: 7.9752 - val_acc: 0.5025\n",
            "Epoch 11/12\n",
            "1606/1606 [==============================] - 68s 42ms/step - loss: 7.9852 - acc: 0.5019 - val_loss: 7.9752 - val_acc: 0.5025\n",
            "Epoch 12/12\n",
            "1606/1606 [==============================] - 68s 42ms/step - loss: 7.9852 - acc: 0.5019 - val_loss: 7.9752 - val_acc: 0.5025\n",
            "Compiling Pretrained resnet50 Model\n",
            "Training Pretrained resnet50 Model\n",
            "Batch Size: 4\t Epochs: 12\t\n",
            "\n",
            "Train on 1606 samples, validate on 402 samples\n",
            "Epoch 1/12\n",
            "1606/1606 [==============================] - 79s 49ms/step - loss: 8.0369 - acc: 0.4981 - val_loss: 8.0550 - val_acc: 0.4975\n",
            "Epoch 2/12\n",
            "1606/1606 [==============================] - 68s 42ms/step - loss: 8.0451 - acc: 0.4981 - val_loss: 8.0550 - val_acc: 0.4975\n",
            "Epoch 3/12\n",
            "1606/1606 [==============================] - 68s 42ms/step - loss: 8.0451 - acc: 0.4981 - val_loss: 8.0550 - val_acc: 0.4975\n",
            "Epoch 4/12\n",
            "1606/1606 [==============================] - 68s 42ms/step - loss: 8.0451 - acc: 0.4981 - val_loss: 8.0550 - val_acc: 0.4975\n",
            "Epoch 5/12\n",
            "1606/1606 [==============================] - 68s 42ms/step - loss: 8.0451 - acc: 0.4981 - val_loss: 8.0550 - val_acc: 0.4975\n",
            "Epoch 6/12\n",
            "1606/1606 [==============================] - 68s 42ms/step - loss: 8.0451 - acc: 0.4981 - val_loss: 8.0550 - val_acc: 0.4975\n",
            "Epoch 7/12\n",
            "1606/1606 [==============================] - 68s 42ms/step - loss: 8.0451 - acc: 0.4981 - val_loss: 8.0550 - val_acc: 0.4975\n",
            "Epoch 8/12\n",
            "1606/1606 [==============================] - 68s 42ms/step - loss: 8.0451 - acc: 0.4981 - val_loss: 8.0550 - val_acc: 0.4975\n",
            "Epoch 9/12\n",
            "1606/1606 [==============================] - 68s 42ms/step - loss: 8.0451 - acc: 0.4981 - val_loss: 8.0550 - val_acc: 0.4975\n",
            "Epoch 10/12\n",
            "1606/1606 [==============================] - 68s 42ms/step - loss: 8.0451 - acc: 0.4981 - val_loss: 8.0550 - val_acc: 0.4975\n",
            "Epoch 11/12\n",
            "1606/1606 [==============================] - 68s 42ms/step - loss: 8.0451 - acc: 0.4981 - val_loss: 8.0550 - val_acc: 0.4975\n",
            "Epoch 12/12\n",
            "1606/1606 [==============================] - 68s 42ms/step - loss: 8.0451 - acc: 0.4981 - val_loss: 8.0550 - val_acc: 0.4975\n",
            "Compiling Pretrained resnet50 Model\n",
            "Training Pretrained resnet50 Model\n",
            "Batch Size: 4\t Epochs: 12\t\n",
            "\n",
            "Train on 1606 samples, validate on 402 samples\n",
            "Epoch 1/12\n",
            "1606/1606 [==============================] - 79s 49ms/step - loss: 2.1718 - acc: 0.7397 - val_loss: 1.5842 - val_acc: 0.8159\n",
            "Epoch 2/12\n",
            "1606/1606 [==============================] - 68s 42ms/step - loss: 2.0616 - acc: 0.7036 - val_loss: 8.0949 - val_acc: 0.4950\n",
            "Epoch 3/12\n",
            "1606/1606 [==============================] - 68s 42ms/step - loss: 2.1946 - acc: 0.6451 - val_loss: 0.5566 - val_acc: 0.8234\n",
            "Epoch 4/12\n",
            "1606/1606 [==============================] - 68s 42ms/step - loss: 1.6202 - acc: 0.7366 - val_loss: 0.5381 - val_acc: 0.8408\n",
            "Epoch 5/12\n",
            "1606/1606 [==============================] - 68s 42ms/step - loss: 1.1444 - acc: 0.7839 - val_loss: 0.5158 - val_acc: 0.8433\n",
            "Epoch 6/12\n",
            "1606/1606 [==============================] - 68s 42ms/step - loss: 1.0523 - acc: 0.8319 - val_loss: 0.5561 - val_acc: 0.8458\n",
            "Epoch 7/12\n",
            "1606/1606 [==============================] - 68s 42ms/step - loss: 1.8439 - acc: 0.7540 - val_loss: 0.5654 - val_acc: 0.8184\n",
            "Epoch 8/12\n",
            "1606/1606 [==============================] - 68s 42ms/step - loss: 2.6645 - acc: 0.7179 - val_loss: 5.4390 - val_acc: 0.6294\n",
            "Epoch 9/12\n",
            "1606/1606 [==============================] - 68s 42ms/step - loss: 0.8815 - acc: 0.8487 - val_loss: 1.1137 - val_acc: 0.8408\n",
            "Epoch 10/12\n",
            "1606/1606 [==============================] - 68s 42ms/step - loss: 0.8601 - acc: 0.8817 - val_loss: 0.3872 - val_acc: 0.9129\n",
            "Epoch 11/12\n",
            "1606/1606 [==============================] - 68s 42ms/step - loss: 0.7411 - acc: 0.8954 - val_loss: 0.2584 - val_acc: 0.9129\n",
            "Epoch 12/12\n",
            "1606/1606 [==============================] - 68s 42ms/step - loss: 0.7402 - acc: 0.8823 - val_loss: 0.2940 - val_acc: 0.9303\n"
          ],
          "name": "stdout"
        }
      ]
    },
    {
      "metadata": {
        "id": "LMf390ePDy2_",
        "colab_type": "code",
        "colab": {
          "base_uri": "https://localhost:8080/",
          "height": 865
        },
        "outputId": "743747df-e065-4395-ae5b-05c628e06240"
      },
      "cell_type": "code",
      "source": [
        "# Refresh all background variables\n",
        "K.clear_session()\n",
        "\n",
        "input_tensor = Input(shape=(imgSize, imgSize, 3))\n",
        "\n",
        "# Building sequential model with name 'model'\n",
        "model = Sequential()\n",
        "\n",
        "# Model selection\n",
        "\n",
        "if (pretrainedModel == 'VGG16'):\n",
        "\n",
        "    modelWoTop = VGG16(input_tensor=input_tensor, weights='imagenet', include_top=False)\n",
        "    model.add(modelWoTop)\n",
        "    model.add(Flatten())\n",
        "    model.add(Dense(4096, activation='relu'))\n",
        "    model.add(Dropout(0.5))\n",
        "    model.add(Dense(4096, activation='relu'))\n",
        "    model.add(Dropout(0.5))\n",
        "    model.add(Dense(2, activation=lastActivation))\n",
        "\n",
        "elif (pretrainedModel == 'VGG19'):\n",
        "\n",
        "    modelWoTop = VGG19(input_tensor=input_tensor, weights='imagenet', include_top=False)\n",
        "    model.add(modelWoTop)\n",
        "    model.add(Flatten())\n",
        "    model.add(Dense(4096, activation='relu'))\n",
        "    model.add(Dropout(0.5))\n",
        "    model.add(Dense(4096, activation='relu'))\n",
        "    model.add(Dropout(0.5))\n",
        "    model.add(Dense(2, activation=lastActivation))\n",
        "\n",
        "elif pretrainedModel == 'ResNet50':\n",
        "\n",
        "    modelWoTop = ResNet50(input_tensor=input_tensor, weights='imagenet', include_top=False)\n",
        "    model.add(modelWoTop)\n",
        "    model.add(Flatten())\n",
        "    model.add(Dense(2, activation=lastActivation))\n",
        "\n",
        "elif (pretrainedModel == 'InceptionV3'):\n",
        "    modelWoTop = InceptionV3(input_tensor=input_tensor, weights='imagenet', include_top=False)\n",
        "    model.add(modelWoTop)\n",
        "    model.add(GlobalAveragePooling2D())\n",
        "    model.add(Dense(2, activation=lastActivation))\n",
        "\n",
        "elif (pretrainedModel == 'Xception'):\n",
        "    modelWoTop = Xception(input_tensor=input_tensor, weights='imagenet', include_top=False)\n",
        "    model.add(modelWoTop)\n",
        "    model.add(GlobalAveragePooling2D())\n",
        "    model.add(Dense(2, activation=lastActivation))\n",
        "\n",
        "elif (pretrainedModel == 'DenseNet169'):\n",
        "\n",
        "    modelWoTop = DenseNet169(input_tensor=input_tensor, weights='imagenet', include_top=False)\n",
        "    model.add(modelWoTop)\n",
        "    model.add(GlobalAveragePooling2D())\n",
        "    model.add(Dense(2, activation=lastActivation))\n",
        "\n",
        "elif (pretrainedModel == 'DenseNet201'):\n",
        "    modelWoTop = DenseNet201(input_tensor=input_tensor, weights='imagenet', include_top=False)\n",
        "    model.add(modelWoTop)\n",
        "    model.add(GlobalAveragePooling2D())\n",
        "    model.add(Dense(2, activation=lastActivation))\n",
        "\n",
        "else:\n",
        "    print('Invalid Pretrained Model Selection')\n",
        "\n",
        "\n",
        "\n",
        "# Model compiling\n",
        "\n",
        "print('Compiling Pretrained {} Model'.format(model.layers[0].name))\n",
        "\n",
        "model.compile(loss='binary_crossentropy',\n",
        "              optimizer='adam',\n",
        "              metrics=['accuracy'])\n",
        "\n",
        "numEpochs = 20\n",
        "\n",
        "print('Training Pretrained {} Model'.format(model.layers[0].name))\n",
        "print('Batch Size: {}\\t Epochs: {}\\t\\n'.format(sizeBatch, numEpochs))\n",
        "\n",
        "model.fit(X_train, Y_train,\n",
        "          batch_size=sizeBatch, epochs=numEpochs, verbose=1,\n",
        "          validation_data=(X_test, Y_test))"
      ],
      "execution_count": 15,
      "outputs": [
        {
          "output_type": "stream",
          "text": [
            "Compiling Pretrained resnet50 Model\n",
            "Training Pretrained resnet50 Model\n",
            "Batch Size: 4\t Epochs: 20\t\n",
            "\n",
            "Train on 1606 samples, validate on 402 samples\n",
            "Epoch 1/20\n",
            "1606/1606 [==============================] - 79s 49ms/step - loss: 1.2926 - acc: 0.7503 - val_loss: 1.0799 - val_acc: 0.8184\n",
            "Epoch 2/20\n",
            "1606/1606 [==============================] - 67s 42ms/step - loss: 0.8915 - acc: 0.8194 - val_loss: 2.7507 - val_acc: 0.7662\n",
            "Epoch 3/20\n",
            "1606/1606 [==============================] - 68s 42ms/step - loss: 0.8334 - acc: 0.8568 - val_loss: 0.9595 - val_acc: 0.8507\n",
            "Epoch 4/20\n",
            "1606/1606 [==============================] - 68s 42ms/step - loss: 0.8654 - acc: 0.8493 - val_loss: 0.4714 - val_acc: 0.8458\n",
            "Epoch 5/20\n",
            "1606/1606 [==============================] - 68s 42ms/step - loss: 0.8217 - acc: 0.8630 - val_loss: 0.8609 - val_acc: 0.8632\n",
            "Epoch 6/20\n",
            "1606/1606 [==============================] - 68s 42ms/step - loss: 0.9291 - acc: 0.8506 - val_loss: 1.4491 - val_acc: 0.8259\n",
            "Epoch 7/20\n",
            "1606/1606 [==============================] - 68s 42ms/step - loss: 0.9524 - acc: 0.8574 - val_loss: 0.5950 - val_acc: 0.8955\n",
            "Epoch 8/20\n",
            "1606/1606 [==============================] - 68s 42ms/step - loss: 0.8872 - acc: 0.8848 - val_loss: 0.1715 - val_acc: 0.9403\n",
            "Epoch 9/20\n",
            "1606/1606 [==============================] - 68s 42ms/step - loss: 0.7733 - acc: 0.8836 - val_loss: 0.2079 - val_acc: 0.9328\n",
            "Epoch 10/20\n",
            "1606/1606 [==============================] - 68s 42ms/step - loss: 0.8705 - acc: 0.8730 - val_loss: 0.4922 - val_acc: 0.8980\n",
            "Epoch 11/20\n",
            "1606/1606 [==============================] - 68s 42ms/step - loss: 0.9222 - acc: 0.8593 - val_loss: 0.2841 - val_acc: 0.8955\n",
            "Epoch 12/20\n",
            "1606/1606 [==============================] - 68s 42ms/step - loss: 0.8841 - acc: 0.8829 - val_loss: 0.3150 - val_acc: 0.9204\n",
            "Epoch 13/20\n",
            "1606/1606 [==============================] - 68s 42ms/step - loss: 0.8165 - acc: 0.8804 - val_loss: 0.3345 - val_acc: 0.9303\n",
            "Epoch 14/20\n",
            "1606/1606 [==============================] - 68s 42ms/step - loss: 0.6387 - acc: 0.9153 - val_loss: 0.1537 - val_acc: 0.9453\n",
            "Epoch 15/20\n",
            "1606/1606 [==============================] - 68s 42ms/step - loss: 0.7163 - acc: 0.9147 - val_loss: 0.1377 - val_acc: 0.9652\n",
            "Epoch 16/20\n",
            "1606/1606 [==============================] - 68s 42ms/step - loss: 0.6734 - acc: 0.9054 - val_loss: 0.1838 - val_acc: 0.9428\n",
            "Epoch 17/20\n",
            "1606/1606 [==============================] - 68s 42ms/step - loss: 0.5256 - acc: 0.9191 - val_loss: 0.1535 - val_acc: 0.9453\n",
            "Epoch 18/20\n",
            "1606/1606 [==============================] - 68s 42ms/step - loss: 0.5406 - acc: 0.9228 - val_loss: 0.1528 - val_acc: 0.9453\n",
            "Epoch 19/20\n",
            "1606/1606 [==============================] - 68s 42ms/step - loss: 0.7089 - acc: 0.9184 - val_loss: 0.2236 - val_acc: 0.9080\n",
            "Epoch 20/20\n",
            "1606/1606 [==============================] - 68s 42ms/step - loss: 0.7130 - acc: 0.9203 - val_loss: 0.2379 - val_acc: 0.9602\n"
          ],
          "name": "stdout"
        },
        {
          "output_type": "execute_result",
          "data": {
            "text/plain": [
              "<keras.callbacks.History at 0x200c156bd30>"
            ]
          },
          "metadata": {
            "tags": []
          },
          "execution_count": 15
        }
      ]
    },
    {
      "metadata": {
        "id": "jKgFIa4gkgkk",
        "colab_type": "code",
        "colab": {
          "base_uri": "https://localhost:8080/",
          "height": 217
        },
        "outputId": "5b97507b-963b-4694-8f65-6add567abc5c"
      },
      "cell_type": "code",
      "source": [
        "model.fit(X_train, Y_train,\n",
        "          batch_size=sizeBatch, epochs=4, verbose=1,\n",
        "          validation_data=(X_test, Y_test))"
      ],
      "execution_count": 16,
      "outputs": [
        {
          "output_type": "stream",
          "text": [
            "Train on 1606 samples, validate on 402 samples\n",
            "Epoch 1/4\n",
            "1606/1606 [==============================] - 68s 42ms/step - loss: 0.8564 - acc: 0.9209 - val_loss: 3.8823 - val_acc: 0.7463\n",
            "Epoch 2/4\n",
            "1606/1606 [==============================] - 68s 42ms/step - loss: 0.8584 - acc: 0.9147 - val_loss: 0.4860 - val_acc: 0.9552\n",
            "Epoch 3/4\n",
            "1606/1606 [==============================] - 68s 42ms/step - loss: 0.8656 - acc: 0.9041 - val_loss: 0.2843 - val_acc: 0.9055\n",
            "Epoch 4/4\n",
            "1606/1606 [==============================] - 68s 42ms/step - loss: 0.7965 - acc: 0.9153 - val_loss: 0.1596 - val_acc: 0.9527\n"
          ],
          "name": "stdout"
        },
        {
          "output_type": "execute_result",
          "data": {
            "text/plain": [
              "<keras.callbacks.History at 0x1feab3c6e10>"
            ]
          },
          "metadata": {
            "tags": []
          },
          "execution_count": 16
        }
      ]
    },
    {
      "metadata": {
        "id": "wIlomC_jUUhL",
        "colab_type": "code",
        "colab": {
          "base_uri": "https://localhost:8080/",
          "height": 217
        },
        "outputId": "fb3d15e7-70ec-4357-8ef0-460acbf652de"
      },
      "cell_type": "code",
      "source": [
        "model.fit(X_train, Y_train,\n",
        "          batch_size=sizeBatch, epochs=4, verbose=1,\n",
        "          validation_data=(X_test, Y_test))"
      ],
      "execution_count": 17,
      "outputs": [
        {
          "output_type": "stream",
          "text": [
            "Train on 1606 samples, validate on 402 samples\n",
            "Epoch 1/4\n",
            "1606/1606 [==============================] - 68s 42ms/step - loss: 0.6647 - acc: 0.9253 - val_loss: 0.1327 - val_acc: 0.9527\n",
            "Epoch 2/4\n",
            "1606/1606 [==============================] - 68s 42ms/step - loss: 0.6067 - acc: 0.9309 - val_loss: 0.1215 - val_acc: 0.9627\n",
            "Epoch 3/4\n",
            "1606/1606 [==============================] - 68s 42ms/step - loss: 1.2746 - acc: 0.8923 - val_loss: 5.3098 - val_acc: 0.6642\n",
            "Epoch 4/4\n",
            "1606/1606 [==============================] - 68s 42ms/step - loss: 1.5101 - acc: 0.8773 - val_loss: 0.1380 - val_acc: 0.9751\n"
          ],
          "name": "stdout"
        },
        {
          "output_type": "execute_result",
          "data": {
            "text/plain": [
              "<keras.callbacks.History at 0x1feab3c60b8>"
            ]
          },
          "metadata": {
            "tags": []
          },
          "execution_count": 17
        }
      ]
    },
    {
      "metadata": {
        "id": "ARcwG8qbueCc",
        "colab_type": "code",
        "colab": {
          "base_uri": "https://localhost:8080/",
          "height": 361
        },
        "outputId": "a942b6ff-396b-4300-aebe-da6f000ab40d"
      },
      "cell_type": "code",
      "source": [
        "model.fit(X_train, Y_train,\n",
        "          batch_size=sizeBatch, epochs=8, verbose=1,\n",
        "          validation_data=(X_test, Y_test))"
      ],
      "execution_count": 21,
      "outputs": [
        {
          "output_type": "stream",
          "text": [
            "Train on 1606 samples, validate on 402 samples\n",
            "Epoch 1/8\n",
            "1606/1606 [==============================] - 67s 42ms/step - loss: 0.5885 - acc: 0.9408 - val_loss: 0.0946 - val_acc: 0.9751\n",
            "Epoch 2/8\n",
            "1606/1606 [==============================] - 67s 42ms/step - loss: 0.7264 - acc: 0.9265 - val_loss: 0.1860 - val_acc: 0.9478\n",
            "Epoch 3/8\n",
            "1606/1606 [==============================] - 67s 42ms/step - loss: 0.7519 - acc: 0.9184 - val_loss: 0.2092 - val_acc: 0.9527\n",
            "Epoch 4/8\n",
            "1606/1606 [==============================] - 68s 42ms/step - loss: 0.6394 - acc: 0.9340 - val_loss: 0.2020 - val_acc: 0.9577\n",
            "Epoch 5/8\n",
            "1606/1606 [==============================] - 68s 42ms/step - loss: 0.5387 - acc: 0.9290 - val_loss: 0.0899 - val_acc: 0.9776\n",
            "Epoch 6/8\n",
            "1606/1606 [==============================] - 68s 42ms/step - loss: 0.5214 - acc: 0.9433 - val_loss: 0.0975 - val_acc: 0.9751\n",
            "Epoch 7/8\n",
            "1606/1606 [==============================] - 68s 42ms/step - loss: 0.4381 - acc: 0.9514 - val_loss: 0.1269 - val_acc: 0.9677\n",
            "Epoch 8/8\n",
            "1606/1606 [==============================] - 68s 42ms/step - loss: 0.5753 - acc: 0.9433 - val_loss: 0.1765 - val_acc: 0.9726\n"
          ],
          "name": "stdout"
        },
        {
          "output_type": "execute_result",
          "data": {
            "text/plain": [
              "<keras.callbacks.History at 0x1fdffe6acc0>"
            ]
          },
          "metadata": {
            "tags": []
          },
          "execution_count": 21
        }
      ]
    },
    {
      "metadata": {
        "id": "1Rm8ALcuwmJ2",
        "colab_type": "code",
        "colab": {
          "base_uri": "https://localhost:8080/",
          "height": 361
        },
        "outputId": "d36b829e-1b3d-44d3-c46c-3b76f31dce51"
      },
      "cell_type": "code",
      "source": [
        "model.fit(X_train, Y_train,\n",
        "          batch_size=sizeBatch, epochs=8, verbose=1,\n",
        "          validation_data=(X_test, Y_test))"
      ],
      "execution_count": 24,
      "outputs": [
        {
          "output_type": "stream",
          "text": [
            "Train on 1606 samples, validate on 402 samples\n",
            "Epoch 1/8\n",
            "1606/1606 [==============================] - 68s 42ms/step - loss: 0.5947 - acc: 0.9433 - val_loss: 0.1455 - val_acc: 0.9677\n",
            "Epoch 2/8\n",
            "1606/1606 [==============================] - 68s 42ms/step - loss: 0.5413 - acc: 0.9483 - val_loss: 0.2388 - val_acc: 0.9403\n",
            "Epoch 3/8\n",
            "1606/1606 [==============================] - 68s 42ms/step - loss: 0.6446 - acc: 0.9402 - val_loss: 0.1001 - val_acc: 0.9801\n",
            "Epoch 4/8\n",
            "1606/1606 [==============================] - 68s 42ms/step - loss: 0.4397 - acc: 0.9620 - val_loss: 0.0953 - val_acc: 0.9801\n",
            "Epoch 5/8\n",
            "1606/1606 [==============================] - 68s 42ms/step - loss: 0.4540 - acc: 0.9633 - val_loss: 0.1259 - val_acc: 0.9751\n",
            "Epoch 6/8\n",
            "1606/1606 [==============================] - 68s 42ms/step - loss: 0.4329 - acc: 0.9633 - val_loss: 0.1113 - val_acc: 0.9776\n",
            "Epoch 7/8\n",
            "1606/1606 [==============================] - 68s 42ms/step - loss: 0.5036 - acc: 0.9595 - val_loss: 0.1323 - val_acc: 0.9751\n",
            "Epoch 8/8\n",
            "1606/1606 [==============================] - 68s 42ms/step - loss: 0.6328 - acc: 0.9340 - val_loss: 0.1152 - val_acc: 0.9677\n"
          ],
          "name": "stdout"
        },
        {
          "output_type": "execute_result",
          "data": {
            "text/plain": [
              "<keras.callbacks.History at 0x200b95af710>"
            ]
          },
          "metadata": {
            "tags": []
          },
          "execution_count": 24
        }
      ]
    },
    {
      "metadata": {
        "id": "KCrYHgV4oXj7",
        "colab_type": "code",
        "colab": {
          "base_uri": "https://localhost:8080/",
          "height": 361
        },
        "outputId": "77664ac4-a856-408e-a8a4-4b3e4cd101f0"
      },
      "cell_type": "code",
      "source": [
        "model.fit(X_train, Y_train,\n",
        "          batch_size=sizeBatch, epochs=8, verbose=1,\n",
        "          validation_data=(X_test, Y_test))"
      ],
      "execution_count": 25,
      "outputs": [
        {
          "output_type": "stream",
          "text": [
            "Train on 1606 samples, validate on 402 samples\n",
            "Epoch 1/8\n",
            "1606/1606 [==============================] - 67s 42ms/step - loss: 0.4677 - acc: 0.9614 - val_loss: 0.1436 - val_acc: 0.9677\n",
            "Epoch 2/8\n",
            "1606/1606 [==============================] - 67s 42ms/step - loss: 0.5773 - acc: 0.9558 - val_loss: 0.1962 - val_acc: 0.9502\n",
            "Epoch 3/8\n",
            "1606/1606 [==============================] - 67s 42ms/step - loss: 0.5281 - acc: 0.9583 - val_loss: 0.1457 - val_acc: 0.9776\n",
            "Epoch 4/8\n",
            "1606/1606 [==============================] - 67s 42ms/step - loss: 0.3370 - acc: 0.9726 - val_loss: 0.1225 - val_acc: 0.9751\n",
            "Epoch 5/8\n",
            "1606/1606 [==============================] - 67s 42ms/step - loss: 0.5053 - acc: 0.9639 - val_loss: 0.1026 - val_acc: 0.9801\n",
            "Epoch 6/8\n",
            "1606/1606 [==============================] - 67s 42ms/step - loss: 0.5060 - acc: 0.9658 - val_loss: 0.1262 - val_acc: 0.9701\n",
            "Epoch 7/8\n",
            "1606/1606 [==============================] - 68s 42ms/step - loss: 0.4516 - acc: 0.9670 - val_loss: 0.1104 - val_acc: 0.9751\n",
            "Epoch 8/8\n",
            "1606/1606 [==============================] - 67s 42ms/step - loss: 0.5171 - acc: 0.9595 - val_loss: 0.1380 - val_acc: 0.9677\n"
          ],
          "name": "stdout"
        },
        {
          "output_type": "execute_result",
          "data": {
            "text/plain": [
              "<keras.callbacks.History at 0x200b95af550>"
            ]
          },
          "metadata": {
            "tags": []
          },
          "execution_count": 25
        }
      ]
    },
    {
      "metadata": {
        "id": "agqqH8sf3CiV",
        "colab_type": "code",
        "colab": {}
      },
      "cell_type": "code",
      "source": [
        "# K.clear_session()\n",
        "\n",
        "# input_tensor = Input(shape=(imgSize, imgSize, 3))\n",
        "\n",
        "# # Building sequential model with name 'model'\n",
        "# model = Sequential()\n",
        "\n",
        "# modelWoTop = ResNet50(input_tensor=input_tensor, weights='imagenet', include_top=False)\n",
        "# model.add(modelWoTop)\n",
        "# model.add(Flatten())\n",
        "# model.add(Dense(2, activation=lastActivation))\n",
        "\n",
        "# # Model compiling\n",
        "\n",
        "# print('Compiling Pretrained {} Model'.format(model.layers[0].name))\n",
        "\n",
        "# model.compile(loss='binary_crossentropy',\n",
        "#               optimizer='adam',\n",
        "#               metrics=['accuracy'])\n",
        "\n",
        "# numEpochs = 1\n",
        "\n",
        "# print('Training Pretrained {} Model'.format(model.layers[0].name))\n",
        "# print('Batch Size: {}\\t Epochs: {}\\t\\n'.format(sizeBatch, numEpochs))\n",
        "\n",
        "# model.fit(X_train, Y_train,\n",
        "#           batch_size=sizeBatch, epochs=numEpochs, verbose=1,\n",
        "#           validation_data=(X_test, Y_test))"
      ],
      "execution_count": 0,
      "outputs": []
    },
    {
      "metadata": {
        "id": "qexmaPZVz04q",
        "colab_type": "code",
        "outputId": "f6693cf9-f7be-45d9-c325-de89c2d636a9",
        "colab": {
          "base_uri": "https://localhost:8080/",
          "height": 269
        }
      },
      "cell_type": "code",
      "source": [
        "Y_pred = model.predict(X_test)\n",
        "\n",
        "plt.subplot(3, 1, 1)\n",
        "plt.plot(Y_test[:, 1], 'r')\n",
        "\n",
        "plt.subplot(3, 1, 2)\n",
        "plt.plot(Y_pred[:, 1], 'b')\n",
        "\n",
        "plt.subplot(3, 1, 3)\n",
        "plt.plot(Y_test[:, 1] - Y_pred[:, 1], 'g')\n",
        "\n",
        "plt.show()"
      ],
      "execution_count": 26,
      "outputs": [
        {
          "output_type": "display_data",
          "data": {
            "text/plain": [
              "<Figure size 432x288 with 3 Axes>"
            ],
            "image/png": "[encoded data removed]"
          },
          "metadata": {
            "tags": [],
            "needs_background": "light"
          }
        }
      ]
    },
    {
      "metadata": {
        "id": "IPTFOJh3DTgq",
        "colab_type": "code",
        "outputId": "1a984e39-d747-42d9-cf4d-e5dec2836c61",
        "colab": {
          "base_uri": "https://localhost:8080/",
          "height": 53
        }
      },
      "cell_type": "code",
      "source": [
        "now = datetime.datetime.now()\n",
        "\n",
        "# modelSaved = '{}-{}_{}_{}.h5'.format(folderNormal, folderFault, pretrainedModel, now.strftime('%m-%d-%H:%M:%S'))\n",
        "\n",
        "modelSaved = '(PN){}-{}_{}_{}.h5'.format('N', 'F', pretrainedModel, now.strftime('%m-%d-%H-%M-%S'))\n",
        "meanSaved = 'mean_{}.npy'.format(now.strftime('%m-%d-%H-%M-%S'))\n",
        "stdSaved = 'std_{}.npy'.format(now.strftime('%m-%d-%H-%M-%S'))\n",
        "\n",
        "inputStr = input('''Save Model as '{}'? (y/n)\\n'''.format(modelSaved))\n",
        "\n",
        "if (inputStr == 'y' or inputStr == 'Y'):  \n",
        "    model.save(modelPath + '/{}'.format(modelSaved))\n",
        "    np.save(modelPath + '/{}'.format(meanSaved), trainMean)\n",
        "    np.save(modelPath + '/{}'.format(stdSaved), trainStd)"
      ],
      "execution_count": 27,
      "outputs": [
        {
          "output_type": "stream",
          "text": [
            "Save Model as '(PN)N-F_ResNet50_11-20-10-12-41.h5'? (y/n)\n",
            "n\n"
          ],
          "name": "stdout"
        }
      ]
    }
  ]
}