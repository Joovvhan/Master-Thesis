{
  "nbformat": 4,
  "nbformat_minor": 0,
  "metadata": {
    "colab": {
      "name": "Transfer Learning Clean Up.ipynb",
      "version": "0.3.2",
      "provenance": [],
      "include_colab_link": true
    },
    "kernelspec": {
      "name": "python3",
      "display_name": "Python 3"
    },
    "accelerator": "GPU"
  },
  "cells": [
    {
      "cell_type": "markdown",
      "metadata": {
        "id": "view-in-github",
        "colab_type": "text"
      },
      "source": [
        "<a href=\"https://colab.research.google.com/github/Joovvhan/Master-Thesis/blob/master/log/(PN)N-F_Inception.ipynb\" target=\"_parent\"><img src=\"https://colab.research.google.com/assets/colab-badge.svg\" alt=\"Open In Colab\"/></a>"
      ]
    },
    {
      "metadata": {
        "id": "c3821KWLNey6",
        "colab_type": "code",
        "outputId": "70912d82-e642-426e-90c5-59b83022075f",
        "colab": {
          "base_uri": "https://localhost:8080/",
          "height": 35
        }
      },
      "cell_type": "code",
      "source": [
        "# Import necessary modules\n",
        "\n",
        "import os\n",
        "import matplotlib.pyplot as plt\n",
        "import numpy as np\n",
        "import scipy.io.wavfile as wf\n",
        "import time\n",
        "import glob\n",
        "import datetime\n",
        "\n",
        "from tqdm import trange\n",
        "\n",
        "# Import Keras modules\n",
        "\n",
        "from keras.preprocessing import image\n",
        "from keras.layers import Input, Flatten, Dense, Dropout, GlobalAveragePooling2D\n",
        "from keras.models import Sequential\n",
        "from keras import backend as K\n",
        "from keras.models import load_model\n"
      ],
      "execution_count": 1,
      "outputs": [
        {
          "output_type": "stream",
          "text": [
            "Using TensorFlow backend.\n"
          ],
          "name": "stderr"
        }
      ]
    },
    {
      "metadata": {
        "id": "nxSASpgF7unA",
        "colab_type": "code",
        "colab": {}
      },
      "cell_type": "code",
      "source": [
        "# Mount google drive\n",
        "\n",
        "# from google.colab import drive\n",
        "# drive.mount('/content/gdrive')\n",
        "# os.listdir('gdrive/My Drive/Colab')"
      ],
      "execution_count": 0,
      "outputs": []
    },
    {
      "metadata": {
        "id": "rw9NU8Xjwcz2",
        "colab_type": "code",
        "colab": {}
      },
      "cell_type": "code",
      "source": [
        "# Set data directories\n",
        "\n",
        "dataPath = '''D:\\\\0_Joowhan's Paper\\\\Synthesized\\\\Total\\\\Impulse'''\n",
        "modelPath = '''D:\\\\0_Joowhan's Paper\\\\Synthesized\\\\Total\\\\Model'''\n",
        "\n",
        "\n",
        "# Changed variable names to normal and fault\n",
        "# Changed variable names from folder to path\n",
        "# Need to consider multiple folders\n",
        "# Need to add files to be tested\n",
        "\n",
        "# folderNormal = ['P1N1', 'P2N1', 'P3N1', 'P4N1', 'P5N1']\n",
        "folderNormal = list()\n",
        "\n",
        "for x in range(1, 6):\n",
        "    for y in range(1, 6):\n",
        "        if (x <= 2 and y <= 2):\n",
        "            folderNormal.append('P{}N{}'.format(x, y))\n",
        "\n",
        "folderFault = list()\n",
        "\n",
        "# folderFault = ['P1N5', 'P2N5', 'P3N5', 'P4N5', 'P5N5']\n",
        "\n",
        "for x in range(1, 6):\n",
        "    for y in range(1, 6):\n",
        "        if (x == 5 or y == 5):\n",
        "            folderFault.append('P{}N{}'.format(x, y))\n",
        "\n",
        "\n",
        "pathNormal = list()\n",
        "pathFault = list()\n",
        "\n",
        "for i in range(len(folderNormal)):\n",
        "    pathNormal.append(dataPath + '/' + folderNormal[i])\n",
        "    \n",
        "for i in range(len(folderFault)):\n",
        "    pathFault.append(dataPath + '/' + folderFault[i])"
      ],
      "execution_count": 0,
      "outputs": []
    },
    {
      "metadata": {
        "id": "xgGP7PZO-rTA",
        "colab_type": "code",
        "colab": {}
      },
      "cell_type": "code",
      "source": [
        "# Specgram settings\n",
        "\n",
        "nsc = 1470\n",
        "nov = nsc/2\n",
        "nff = nsc \n",
        "imgSize = 224\n",
        "\n",
        "# pretrainedModel = 'VGG19'\n",
        "# pretrainedModel = 'Xception'\n",
        "# pretrainedModel = 'ResNet50'\n",
        "\n",
        "# pretrainedModel = 'DenseNet169'\n",
        "pretrainedModel = 'InceptionV3'\n",
        "\n",
        "\n",
        "lastActivation = 'softmax'\n",
        "sizeBatch = 4\n",
        "numEpochs = 12\n",
        "verb = 1\n",
        "\n",
        "\n",
        "# Learning parameters\n",
        "\n",
        "trainingRatio = 0.8\n",
        "\n",
        "totalDataNum = 1000\n",
        "repeat = 5"
      ],
      "execution_count": 0,
      "outputs": []
    },
    {
      "metadata": {
        "id": "5AskF2qFT2xr",
        "colab_type": "code",
        "outputId": "14bffba0-41c7-4f49-b3e7-cf72fa3e0342",
        "colab": {
          "base_uri": "https://localhost:8080/",
          "height": 179
        }
      },
      "cell_type": "code",
      "source": [
        "startNum = 0\n",
        "\n",
        "pickNum = int(np.ceil(totalDataNum / len(pathNormal)))\n",
        "\n",
        "for i in range(startNum, len(pathNormal)):\n",
        "\n",
        "    npyTestPath = glob.glob(pathNormal[i] + '/' + '*Image_With_Label.npy')\n",
        "    data = np.load(npyTestPath[0])\n",
        "    \n",
        "    pickIdx = np.random.choice(1000, pickNum, replace=False)\n",
        "    pickIdx.sort()\n",
        "    \n",
        "#     imgs = np.moveaxis(np.dstack(data[:, 0]), 2, 0)\n",
        "#     label = data[:, 1:5]\n",
        "\n",
        "    imgs = np.moveaxis(np.dstack(data[pickIdx, 0]), 2, 0)\n",
        "    label = data[pickIdx, 1:5]\n",
        "    \n",
        "    if i == startNum:\n",
        "        labelListNormal = label\n",
        "        imgsNormal = imgs\n",
        "    else:\n",
        "        labelListNormal = np.vstack([labelListNormal, label])\n",
        "        imgsNormal = np.vstack([imgsNormal, imgs])\n",
        "\n",
        "    print('Normal Image Shape From {}: {}:'.format(pathNormal[i], totalDataNum))    \n",
        "    print('Selected {}/{}:'.format(pickNum * (i + 1), len(data)))    \n",
        "    \n",
        "    \n",
        "print('Normal Image Shape: {}'.format(imgsNormal.shape))\n"
      ],
      "execution_count": 5,
      "outputs": [
        {
          "output_type": "stream",
          "text": [
            "Normal Image Shape From D:\\0_Joowhan's Paper\\Synthesized\\Total\\Impulse/P1N1: 1000:\n",
            "Selected 250/1000:\n",
            "Normal Image Shape From D:\\0_Joowhan's Paper\\Synthesized\\Total\\Impulse/P1N2: 1000:\n",
            "Selected 500/1000:\n",
            "Normal Image Shape From D:\\0_Joowhan's Paper\\Synthesized\\Total\\Impulse/P2N1: 1000:\n",
            "Selected 750/1000:\n",
            "Normal Image Shape From D:\\0_Joowhan's Paper\\Synthesized\\Total\\Impulse/P2N2: 1000:\n",
            "Selected 1000/1000:\n",
            "Normal Image Shape: (1000, 224, 224)\n"
          ],
          "name": "stdout"
        }
      ]
    },
    {
      "metadata": {
        "id": "P_MZtpk3Br_i",
        "colab_type": "code",
        "outputId": "1e58bd16-f06c-485c-b6d6-906df5251ef0",
        "colab": {
          "base_uri": "https://localhost:8080/",
          "height": 359
        }
      },
      "cell_type": "code",
      "source": [
        "startNum = 0\n",
        "\n",
        "pickNum = int(np.ceil(totalDataNum / len(pathFault)))\n",
        "\n",
        "for i in range(startNum, len(pathFault)):\n",
        "\n",
        "    npyTestPath = glob.glob(pathFault[i] + '/' + '*Image_With_Label.npy')\n",
        "    data = np.load(npyTestPath[0])\n",
        "    \n",
        "    pickIdx = np.random.choice(1000, pickNum, replace=False)\n",
        "    pickIdx.sort()\n",
        "    \n",
        "#     imgs = np.moveaxis(np.dstack(data[:, 0]), 2, 0)\n",
        "#     label = data[:, 1:5]\n",
        "    \n",
        "    imgs = np.moveaxis(np.dstack(data[pickIdx, 0]), 2, 0)\n",
        "    label = data[pickIdx, 1:5]\n",
        "    \n",
        "    if i == startNum:\n",
        "        labelListFault = label\n",
        "        imgsFault = imgs\n",
        "    else:\n",
        "        labelListFault = np.vstack([labelListFault, label])\n",
        "        imgsFault = np.vstack([imgsFault, imgs])\n",
        "\n",
        "    print('Fault Image Shape From {}: {}:'.format(pathFault[i], totalDataNum))    \n",
        "    print('Selected {}/{}:'.format(pickNum * (i + 1), len(data)))     \n",
        "    \n",
        "print('Fault Image Shape: {}'.format(imgsFault.shape))"
      ],
      "execution_count": 6,
      "outputs": [
        {
          "output_type": "stream",
          "text": [
            "Fault Image Shape From D:\\0_Joowhan's Paper\\Synthesized\\Total\\Impulse/P1N5: 1000:\n",
            "Selected 112/1000:\n",
            "Fault Image Shape From D:\\0_Joowhan's Paper\\Synthesized\\Total\\Impulse/P2N5: 1000:\n",
            "Selected 224/1000:\n",
            "Fault Image Shape From D:\\0_Joowhan's Paper\\Synthesized\\Total\\Impulse/P3N5: 1000:\n",
            "Selected 336/1000:\n",
            "Fault Image Shape From D:\\0_Joowhan's Paper\\Synthesized\\Total\\Impulse/P4N5: 1000:\n",
            "Selected 448/1000:\n",
            "Fault Image Shape From D:\\0_Joowhan's Paper\\Synthesized\\Total\\Impulse/P5N1: 1000:\n",
            "Selected 560/1000:\n",
            "Fault Image Shape From D:\\0_Joowhan's Paper\\Synthesized\\Total\\Impulse/P5N2: 1000:\n",
            "Selected 672/1000:\n",
            "Fault Image Shape From D:\\0_Joowhan's Paper\\Synthesized\\Total\\Impulse/P5N3: 1000:\n",
            "Selected 784/1000:\n",
            "Fault Image Shape From D:\\0_Joowhan's Paper\\Synthesized\\Total\\Impulse/P5N4: 1000:\n",
            "Selected 896/1000:\n",
            "Fault Image Shape From D:\\0_Joowhan's Paper\\Synthesized\\Total\\Impulse/P5N5: 1000:\n",
            "Selected 1008/1000:\n",
            "Fault Image Shape: (1008, 224, 224)\n"
          ],
          "name": "stdout"
        }
      ]
    },
    {
      "metadata": {
        "id": "e91QsAurSkIP",
        "colab_type": "code",
        "outputId": "aa7820c9-b461-45c7-844b-59f4934b6e63",
        "colab": {
          "base_uri": "https://localhost:8080/",
          "height": 215
        }
      },
      "cell_type": "code",
      "source": [
        "# Change name from imgsF1 or imgsF5 to imgsNormal and imgsFault\n",
        "\n",
        "dataNumNormal = len(imgsNormal)\n",
        "dataNumFault = len(imgsFault)\n",
        "dataNumNormalTrain = int(dataNumNormal * trainingRatio)\n",
        "dataNumFaultTrain = int(dataNumFault * trainingRatio)\n",
        "dataNumNormalTest = dataNumNormal - dataNumNormalTrain\n",
        "dataNumFaultTest = dataNumFault - dataNumFaultTrain\n",
        "\n",
        "print('Normal Train:Test = {:d}:{:d}'.format(dataNumNormalTrain, dataNumNormalTest))\n",
        "print('Fault  Train:Test = {:d}:{:d}\\n'.format(dataNumFaultTrain, dataNumFaultTest))\n",
        "\n",
        "trainIdxNormal = np.random.choice(dataNumNormal - 1, dataNumNormalTrain, replace=False)\n",
        "testIdxNormal = list(set(range(0, dataNumNormal)) - set(trainIdxNormal))\n",
        "\n",
        "trainImgsNormal = imgsNormal[trainIdxNormal, :, :]\n",
        "testImgsNormal = imgsNormal[testIdxNormal, :, :]\n",
        "\n",
        "print('Normal Training Image Shape {}'.format(trainImgsNormal.shape))\n",
        "print('Normal Test Image Shape {}\\n'.format(testImgsNormal.shape))\n",
        "\n",
        "trainIdxFault  = np.random.choice(dataNumFault - 1, dataNumFaultTrain, replace=False)\n",
        "testIdxFault = list(set(range(0, dataNumFault)) - set(trainIdxFault))\n",
        "\n",
        "trainImgsFault = imgsFault[trainIdxFault, :, :]\n",
        "testImgsFault = imgsFault[testIdxFault, :, :]\n",
        "\n",
        "print('Fault Training Image Shape {}'.format(trainImgsFault.shape))\n",
        "print('Fault Test Image Shape {}\\n'.format(testImgsFault.shape))\n",
        "\n",
        "trainImgs = np.vstack([trainImgsNormal, trainImgsFault])\n",
        "testImgs = np.vstack([testImgsNormal, testImgsFault])\n",
        "\n",
        "print('Training Image Shape {}'.format(trainImgs.shape))\n",
        "print('Test Image Shape {}'.format(testImgs.shape))"
      ],
      "execution_count": 7,
      "outputs": [
        {
          "output_type": "stream",
          "text": [
            "Normal Train:Test = 800:200\n",
            "Fault  Train:Test = 806:202\n",
            "\n",
            "Normal Training Image Shape (800, 224, 224)\n",
            "Normal Test Image Shape (200, 224, 224)\n",
            "\n",
            "Fault Training Image Shape (806, 224, 224)\n",
            "Fault Test Image Shape (202, 224, 224)\n",
            "\n",
            "Training Image Shape (1606, 224, 224)\n",
            "Test Image Shape (402, 224, 224)\n"
          ],
          "name": "stdout"
        }
      ]
    },
    {
      "metadata": {
        "id": "MoE7f_hzs0av",
        "colab_type": "text"
      },
      "cell_type": "markdown",
      "source": [
        ""
      ]
    },
    {
      "metadata": {
        "id": "feQ_AHAcUgHD",
        "colab_type": "code",
        "outputId": "2d840c73-09de-4707-ebea-d72e7c1b9a70",
        "colab": {
          "base_uri": "https://localhost:8080/",
          "height": 53
        }
      },
      "cell_type": "code",
      "source": [
        "trainMean = np.mean(trainImgs)\n",
        "trainStd = np.std(trainImgs)\n",
        "\n",
        "print('Mean of Training Image: {}'.format(trainMean))\n",
        "print('Standard Deviation of Training Image: {}'.format(trainStd))"
      ],
      "execution_count": 8,
      "outputs": [
        {
          "output_type": "stream",
          "text": [
            "Mean of Training Image: -79.20158041963678\n",
            "Standard Deviation of Training Image: 8.123772694967995\n"
          ],
          "name": "stdout"
        }
      ]
    },
    {
      "metadata": {
        "id": "wUi9IuXNUpir",
        "colab_type": "code",
        "colab": {}
      },
      "cell_type": "code",
      "source": [
        "# Should Change Norm to Normalized\n",
        "\n",
        "trainImgsNorm = (trainImgs - trainMean) / trainStd\n",
        "testImgsNorm = (testImgs - trainMean) / trainStd\n",
        "\n",
        "trainImgsNorm = trainImgsNorm.reshape(list(trainImgsNorm.shape) + [1])\n",
        "testImgsNorm = testImgsNorm.reshape(list(testImgsNorm.shape) + [1])"
      ],
      "execution_count": 0,
      "outputs": []
    },
    {
      "metadata": {
        "id": "aklxiPz1Ve4n",
        "colab_type": "code",
        "outputId": "a7f275a6-db90-4fda-cce9-358557656fbd",
        "colab": {
          "base_uri": "https://localhost:8080/",
          "height": 53
        }
      },
      "cell_type": "code",
      "source": [
        "X_train = np.stack([trainImgsNorm[:, :, :, 0], trainImgsNorm[:, :, :, 0], trainImgsNorm[:, :, :, 0]], axis = -1)\n",
        "X_test = np.stack([testImgsNorm[:, :, :, 0], testImgsNorm[:, :, :, 0], testImgsNorm[:, :, :, 0]], axis = -1)\n",
        "\n",
        "print('X_train Shape: {}'.format(X_train.shape))\n",
        "print('X_test  Shape: {}'.format(X_test.shape))"
      ],
      "execution_count": 10,
      "outputs": [
        {
          "output_type": "stream",
          "text": [
            "X_train Shape: (1606, 224, 224, 3)\n",
            "X_test  Shape: (402, 224, 224, 3)\n"
          ],
          "name": "stdout"
        }
      ]
    },
    {
      "metadata": {
        "id": "sRgIPzT7K_YP",
        "colab_type": "code",
        "outputId": "9f020a15-2cbf-4860-f4dd-a0bcba67b84e",
        "colab": {
          "base_uri": "https://localhost:8080/",
          "height": 53
        }
      },
      "cell_type": "code",
      "source": [
        "trainLabelNormal = np.stack((np.ones(dataNumNormalTrain), np.zeros(dataNumNormalTrain)), axis = -1)\n",
        "testLabelNormal = np.stack((np.ones(dataNumNormalTest), np.zeros(dataNumNormalTest)), axis = -1)\n",
        "\n",
        "trainLabelFault = np.stack((np.zeros(dataNumFaultTrain), np.ones(dataNumFaultTrain)), axis = -1)\n",
        "testLabelFault = np.stack((np.zeros(dataNumFaultTest), np.ones(dataNumFaultTest)), axis = -1)\n",
        "\n",
        "Y_train = np.vstack((trainLabelNormal, trainLabelFault))\n",
        "Y_test = np.vstack((testLabelNormal, testLabelFault))\n",
        "\n",
        "print('Y_train Normal:Fault = {:d}:{:d}'.format(len(trainLabelNormal), len(trainLabelFault)))\n",
        "print('Y_test  Normal:Fault = {:d}:{:d}'.format(len(testLabelNormal), len(testLabelFault)))"
      ],
      "execution_count": 11,
      "outputs": [
        {
          "output_type": "stream",
          "text": [
            "Y_train Normal:Fault = 800:806\n",
            "Y_test  Normal:Fault = 200:202\n"
          ],
          "name": "stdout"
        }
      ]
    },
    {
      "metadata": {
        "id": "kczwZk7Tbp5C",
        "colab_type": "code",
        "outputId": "006edf68-358a-44c9-a575-45e594838d53",
        "colab": {
          "base_uri": "https://localhost:8080/",
          "height": 2647
        }
      },
      "cell_type": "code",
      "source": [
        "from keras.applications import VGG19\n",
        "from keras.applications import VGG16\n",
        "from keras.applications.resnet50 import ResNet50\n",
        "from keras.applications.xception import Xception\n",
        "from keras.applications.densenet import DenseNet169\n",
        "from keras.applications.densenet import DenseNet201\n",
        "from keras.applications.inception_v3 import InceptionV3\n",
        "\n",
        "# pretrainedModel = 'ResNet50'\n",
        "# lastActivation = 'softmax'\n",
        "# lossFunction = 'binary_crossentropy'\n",
        "# sizeBatch = 2\n",
        "# numEpochs = 2\n",
        "# verb = 1\n",
        "\n",
        "for rp in range(repeat):\n",
        "\n",
        "    # Refresh all background variables\n",
        "    K.clear_session()\n",
        "\n",
        "    input_tensor = Input(shape=(imgSize, imgSize, 3))\n",
        "\n",
        "    # Building sequential model with name 'model'\n",
        "    model = Sequential()\n",
        "\n",
        "    # Model selection\n",
        "\n",
        "    if (pretrainedModel == 'VGG16'):\n",
        "\n",
        "        modelWoTop = VGG16(input_tensor=input_tensor, weights='imagenet', include_top=False)\n",
        "        model.add(modelWoTop)\n",
        "        model.add(Flatten())\n",
        "        model.add(Dense(4096, activation='relu'))\n",
        "        model.add(Dropout(0.5))\n",
        "        model.add(Dense(4096, activation='relu'))\n",
        "        model.add(Dropout(0.5))\n",
        "        model.add(Dense(2, activation=lastActivation))\n",
        "\n",
        "    elif (pretrainedModel == 'VGG19'):\n",
        "\n",
        "        modelWoTop = VGG19(input_tensor=input_tensor, weights='imagenet', include_top=False)\n",
        "        model.add(modelWoTop)\n",
        "        model.add(Flatten())\n",
        "        model.add(Dense(4096, activation='relu'))\n",
        "        model.add(Dropout(0.5))\n",
        "        model.add(Dense(4096, activation='relu'))\n",
        "        model.add(Dropout(0.5))\n",
        "        model.add(Dense(2, activation=lastActivation))\n",
        "\n",
        "    elif pretrainedModel == 'ResNet50':\n",
        "\n",
        "        modelWoTop = ResNet50(input_tensor=input_tensor, weights='imagenet', include_top=False)\n",
        "        model.add(modelWoTop)\n",
        "        model.add(Flatten())\n",
        "        model.add(Dense(2, activation=lastActivation))\n",
        "\n",
        "    elif (pretrainedModel == 'InceptionV3'):\n",
        "        modelWoTop = InceptionV3(input_tensor=input_tensor, weights='imagenet', include_top=False)\n",
        "        model.add(modelWoTop)\n",
        "        model.add(GlobalAveragePooling2D())\n",
        "        model.add(Dense(2, activation=lastActivation))\n",
        "\n",
        "    elif (pretrainedModel == 'Xception'):\n",
        "        modelWoTop = Xception(input_tensor=input_tensor, weights='imagenet', include_top=False)\n",
        "        model.add(modelWoTop)\n",
        "        model.add(GlobalAveragePooling2D())\n",
        "        model.add(Dense(2, activation=lastActivation))\n",
        "\n",
        "    elif (pretrainedModel == 'DenseNet169'):\n",
        "\n",
        "        modelWoTop = DenseNet169(input_tensor=input_tensor, weights='imagenet', include_top=False)\n",
        "        model.add(modelWoTop)\n",
        "        model.add(GlobalAveragePooling2D())\n",
        "        model.add(Dense(2, activation=lastActivation))\n",
        "\n",
        "    elif (pretrainedModel == 'DenseNet201'):\n",
        "        modelWoTop = DenseNet201(input_tensor=input_tensor, weights='imagenet', include_top=False)\n",
        "        model.add(modelWoTop)\n",
        "        model.add(GlobalAveragePooling2D())\n",
        "        model.add(Dense(2, activation=lastActivation))\n",
        "\n",
        "    else:\n",
        "        print('Invalid Pretrained Model Selection')\n",
        "\n",
        "\n",
        "\n",
        "    # Model compiling\n",
        "\n",
        "    print('Compiling Pretrained {} Model'.format(model.layers[0].name))\n",
        "\n",
        "    model.compile(loss='binary_crossentropy',\n",
        "                  optimizer='adam',\n",
        "                  metrics=['accuracy'])\n",
        "\n",
        "    print('Training Pretrained {} Model'.format(model.layers[0].name))\n",
        "    print('Batch Size: {}\\t Epochs: {}\\t\\n'.format(sizeBatch, numEpochs))\n",
        "\n",
        "    model.fit(X_train, Y_train,\n",
        "              batch_size=sizeBatch, epochs=numEpochs, verbose=1,\n",
        "              validation_data=(X_test, Y_test))"
      ],
      "execution_count": 12,
      "outputs": [
        {
          "output_type": "stream",
          "text": [
            "Compiling Pretrained inception_v3 Model\n",
            "Training Pretrained inception_v3 Model\n",
            "Batch Size: 4\t Epochs: 12\t\n",
            "\n",
            "Train on 1606 samples, validate on 402 samples\n",
            "Epoch 1/12\n",
            "1606/1606 [==============================] - 72s 45ms/step - loss: 0.4208 - acc: 0.8443 - val_loss: 0.2094 - val_acc: 0.9179\n",
            "Epoch 2/12\n",
            "1606/1606 [==============================] - 55s 35ms/step - loss: 0.3323 - acc: 0.8823 - val_loss: 1.2356 - val_acc: 0.8010\n",
            "Epoch 3/12\n",
            "1606/1606 [==============================] - 55s 34ms/step - loss: 0.2544 - acc: 0.9166 - val_loss: 0.4954 - val_acc: 0.6816\n",
            "Epoch 4/12\n",
            "1606/1606 [==============================] - 56s 35ms/step - loss: 0.1992 - acc: 0.9284 - val_loss: 0.0818 - val_acc: 0.9751\n",
            "Epoch 5/12\n",
            "1606/1606 [==============================] - 57s 35ms/step - loss: 0.1971 - acc: 0.9284 - val_loss: 0.0997 - val_acc: 0.9751\n",
            "Epoch 6/12\n",
            "1606/1606 [==============================] - 56s 35ms/step - loss: 0.1691 - acc: 0.9396 - val_loss: 0.1079 - val_acc: 0.9652\n",
            "Epoch 7/12\n",
            "1606/1606 [==============================] - 56s 35ms/step - loss: 0.1334 - acc: 0.9626 - val_loss: 0.8242 - val_acc: 0.8532\n",
            "Epoch 8/12\n",
            "1606/1606 [==============================] - 56s 35ms/step - loss: 0.1076 - acc: 0.9714 - val_loss: 0.0570 - val_acc: 0.9826\n",
            "Epoch 9/12\n",
            "1606/1606 [==============================] - 56s 35ms/step - loss: 0.0821 - acc: 0.9745 - val_loss: 0.0650 - val_acc: 0.9801\n",
            "Epoch 10/12\n",
            "1606/1606 [==============================] - 57s 35ms/step - loss: 0.0645 - acc: 0.9813 - val_loss: 0.0583 - val_acc: 0.9826\n",
            "Epoch 11/12\n",
            "1606/1606 [==============================] - 56s 35ms/step - loss: 0.0810 - acc: 0.9695 - val_loss: 0.0635 - val_acc: 0.9876\n",
            "Epoch 12/12\n",
            "1606/1606 [==============================] - 56s 35ms/step - loss: 0.1942 - acc: 0.9328 - val_loss: 0.7764 - val_acc: 0.7836\n",
            "Compiling Pretrained inception_v3 Model\n",
            "Training Pretrained inception_v3 Model\n",
            "Batch Size: 4\t Epochs: 12\t\n",
            "\n",
            "Train on 1606 samples, validate on 402 samples\n",
            "Epoch 1/12\n",
            "1606/1606 [==============================] - 70s 44ms/step - loss: 0.5645 - acc: 0.7422 - val_loss: 4.9357 - val_acc: 0.5224\n",
            "Epoch 2/12\n",
            "1606/1606 [==============================] - 56s 35ms/step - loss: 0.4407 - acc: 0.8288 - val_loss: 6.8445 - val_acc: 0.5348\n",
            "Epoch 3/12\n",
            "1606/1606 [==============================] - 56s 35ms/step - loss: 0.3020 - acc: 0.8991 - val_loss: 0.2277 - val_acc: 0.9627\n",
            "Epoch 4/12\n",
            "1606/1606 [==============================] - 56s 35ms/step - loss: 0.2611 - acc: 0.9060 - val_loss: 0.3990 - val_acc: 0.8806\n",
            "Epoch 5/12\n",
            "1606/1606 [==============================] - 55s 34ms/step - loss: 0.2431 - acc: 0.9166 - val_loss: 6.2798 - val_acc: 0.6070\n",
            "Epoch 6/12\n",
            "1606/1606 [==============================] - 56s 35ms/step - loss: 0.3771 - acc: 0.8499 - val_loss: 1.8319 - val_acc: 0.8284\n",
            "Epoch 7/12\n",
            "1606/1606 [==============================] - 56s 35ms/step - loss: 0.2909 - acc: 0.8917 - val_loss: 0.1853 - val_acc: 0.9677\n",
            "Epoch 8/12\n",
            "1606/1606 [==============================] - 56s 35ms/step - loss: 0.2078 - acc: 0.9240 - val_loss: 0.1450 - val_acc: 0.9502\n",
            "Epoch 9/12\n",
            "1606/1606 [==============================] - 56s 35ms/step - loss: 0.1741 - acc: 0.9408 - val_loss: 0.1051 - val_acc: 0.9701\n",
            "Epoch 10/12\n",
            "1606/1606 [==============================] - 56s 35ms/step - loss: 0.1776 - acc: 0.9390 - val_loss: 0.2361 - val_acc: 0.8856\n",
            "Epoch 11/12\n",
            "1606/1606 [==============================] - 56s 35ms/step - loss: 0.1267 - acc: 0.9608 - val_loss: 0.2126 - val_acc: 0.9179\n",
            "Epoch 12/12\n",
            "1606/1606 [==============================] - 56s 35ms/step - loss: 0.1184 - acc: 0.9608 - val_loss: 2.9041 - val_acc: 0.7289\n",
            "Compiling Pretrained inception_v3 Model\n",
            "Training Pretrained inception_v3 Model\n",
            "Batch Size: 4\t Epochs: 12\t\n",
            "\n",
            "Train on 1606 samples, validate on 402 samples\n",
            "Epoch 1/12\n",
            "1606/1606 [==============================] - 71s 44ms/step - loss: 0.5422 - acc: 0.7927 - val_loss: 0.9220 - val_acc: 0.6542\n",
            "Epoch 2/12\n",
            "1606/1606 [==============================] - 56s 35ms/step - loss: 0.3980 - acc: 0.8636 - val_loss: 1.0210 - val_acc: 0.8781\n",
            "Epoch 3/12\n",
            "1606/1606 [==============================] - 56s 35ms/step - loss: 0.3395 - acc: 0.8780 - val_loss: 5.1829 - val_acc: 0.5896\n",
            "Epoch 4/12\n",
            "1606/1606 [==============================] - 56s 35ms/step - loss: 0.2693 - acc: 0.9078 - val_loss: 0.3392 - val_acc: 0.9428\n",
            "Epoch 5/12\n",
            "1606/1606 [==============================] - 56s 35ms/step - loss: 0.2265 - acc: 0.9184 - val_loss: 0.7197 - val_acc: 0.5224\n",
            "Epoch 6/12\n",
            "1606/1606 [==============================] - 56s 35ms/step - loss: 0.1399 - acc: 0.9545 - val_loss: 0.0874 - val_acc: 0.9751\n",
            "Epoch 7/12\n",
            "1606/1606 [==============================] - 56s 35ms/step - loss: 0.1736 - acc: 0.9452 - val_loss: 0.2784 - val_acc: 0.8682\n",
            "Epoch 8/12\n",
            "1606/1606 [==============================] - 57s 35ms/step - loss: 0.1471 - acc: 0.9521 - val_loss: 0.2314 - val_acc: 0.9328\n",
            "Epoch 9/12\n",
            "1606/1606 [==============================] - 56s 35ms/step - loss: 0.0994 - acc: 0.9726 - val_loss: 0.0837 - val_acc: 0.9751\n",
            "Epoch 10/12\n",
            "1606/1606 [==============================] - 57s 35ms/step - loss: 0.1629 - acc: 0.9521 - val_loss: 0.3781 - val_acc: 0.8781\n",
            "Epoch 11/12\n",
            "1606/1606 [==============================] - 56s 35ms/step - loss: 0.0747 - acc: 0.9732 - val_loss: 1.8657 - val_acc: 0.7512\n",
            "Epoch 12/12\n",
            "1606/1606 [==============================] - 56s 35ms/step - loss: 0.0896 - acc: 0.9720 - val_loss: 0.0849 - val_acc: 0.9701\n",
            "Compiling Pretrained inception_v3 Model\n",
            "Training Pretrained inception_v3 Model\n",
            "Batch Size: 4\t Epochs: 12\t\n",
            "\n",
            "Train on 1606 samples, validate on 402 samples\n",
            "Epoch 1/12\n",
            "1606/1606 [==============================] - 71s 44ms/step - loss: 0.4770 - acc: 0.8088 - val_loss: 0.6890 - val_acc: 0.6592\n",
            "Epoch 2/12\n",
            "1606/1606 [==============================] - 57s 36ms/step - loss: 0.3105 - acc: 0.9016 - val_loss: 6.0919 - val_acc: 0.5348\n",
            "Epoch 3/12\n",
            "1606/1606 [==============================] - 56s 35ms/step - loss: 0.3344 - acc: 0.8736 - val_loss: 7.9752 - val_acc: 0.5025\n",
            "Epoch 4/12\n",
            "1606/1606 [==============================] - 56s 35ms/step - loss: 0.2773 - acc: 0.8960 - val_loss: 0.1227 - val_acc: 0.9652\n",
            "Epoch 5/12\n",
            "1606/1606 [==============================] - 56s 35ms/step - loss: 0.1617 - acc: 0.9496 - val_loss: 2.7592 - val_acc: 0.7065\n",
            "Epoch 6/12\n",
            "1606/1606 [==============================] - 56s 35ms/step - loss: 0.1846 - acc: 0.9396 - val_loss: 0.2357 - val_acc: 0.8706\n",
            "Epoch 7/12\n",
            "1606/1606 [==============================] - 57s 35ms/step - loss: 0.1334 - acc: 0.9570 - val_loss: 0.0448 - val_acc: 0.9876\n",
            "Epoch 8/12\n",
            "1606/1606 [==============================] - 56s 35ms/step - loss: 0.0895 - acc: 0.9732 - val_loss: 0.1100 - val_acc: 0.9776\n",
            "Epoch 9/12\n",
            "1606/1606 [==============================] - 56s 35ms/step - loss: 0.0975 - acc: 0.9639 - val_loss: 0.0635 - val_acc: 0.9776\n",
            "Epoch 10/12\n",
            "1606/1606 [==============================] - 56s 35ms/step - loss: 0.1041 - acc: 0.9689 - val_loss: 0.0587 - val_acc: 0.9826\n",
            "Epoch 11/12\n",
            "1606/1606 [==============================] - 56s 35ms/step - loss: 0.1054 - acc: 0.9645 - val_loss: 0.0462 - val_acc: 0.9851\n",
            "Epoch 12/12\n",
            "1606/1606 [==============================] - 56s 35ms/step - loss: 0.0635 - acc: 0.9813 - val_loss: 0.0447 - val_acc: 0.9851\n",
            "Compiling Pretrained inception_v3 Model\n",
            "Training Pretrained inception_v3 Model\n",
            "Batch Size: 4\t Epochs: 12\t\n",
            "\n",
            "Train on 1606 samples, validate on 402 samples\n",
            "Epoch 1/12\n",
            "1606/1606 [==============================] - 70s 44ms/step - loss: 0.4436 - acc: 0.8406 - val_loss: 0.3370 - val_acc: 0.8806\n",
            "Epoch 2/12\n",
            "1606/1606 [==============================] - 56s 35ms/step - loss: 0.3229 - acc: 0.8910 - val_loss: 0.9688 - val_acc: 0.3632\n",
            "Epoch 3/12\n",
            "1606/1606 [==============================] - 56s 35ms/step - loss: 0.2646 - acc: 0.9016 - val_loss: 0.1526 - val_acc: 0.9627\n",
            "Epoch 4/12\n",
            "1606/1606 [==============================] - 56s 35ms/step - loss: 0.1873 - acc: 0.9390 - val_loss: 1.5519 - val_acc: 0.8781\n",
            "Epoch 5/12\n",
            "1606/1606 [==============================] - 56s 35ms/step - loss: 0.1148 - acc: 0.9695 - val_loss: 0.0614 - val_acc: 0.9851\n",
            "Epoch 6/12\n",
            "1606/1606 [==============================] - 56s 35ms/step - loss: 0.1032 - acc: 0.9664 - val_loss: 0.0604 - val_acc: 0.9776\n",
            "Epoch 7/12\n",
            "1606/1606 [==============================] - 56s 35ms/step - loss: 0.1567 - acc: 0.9521 - val_loss: 0.0873 - val_acc: 0.9701\n",
            "Epoch 8/12\n",
            "1606/1606 [==============================] - 56s 35ms/step - loss: 0.1059 - acc: 0.9701 - val_loss: 4.8093 - val_acc: 0.6841\n",
            "Epoch 9/12\n",
            "1606/1606 [==============================] - 56s 35ms/step - loss: 0.1920 - acc: 0.9346 - val_loss: 0.3459 - val_acc: 0.8458\n",
            "Epoch 10/12\n",
            "1606/1606 [==============================] - 56s 35ms/step - loss: 0.0817 - acc: 0.9751 - val_loss: 0.1527 - val_acc: 0.9577\n",
            "Epoch 11/12\n",
            "1606/1606 [==============================] - 56s 35ms/step - loss: 0.0703 - acc: 0.9788 - val_loss: 0.2237 - val_acc: 0.9428\n",
            "Epoch 12/12\n",
            "1606/1606 [==============================] - 56s 35ms/step - loss: 0.0826 - acc: 0.9757 - val_loss: 0.0447 - val_acc: 0.9925\n"
          ],
          "name": "stdout"
        }
      ]
    },
    {
      "metadata": {
        "id": "jKgFIa4gkgkk",
        "colab_type": "code",
        "colab": {}
      },
      "cell_type": "code",
      "source": [
        "# print('Training Pretrained {} Model'.format(model.layers[0].name))\n",
        "# print('Batch Size: {}\\t Epochs: {}\\t\\n'.format(sizeBatch, numEpochs))\n",
        "\n",
        "# model.fit(X_train, Y_train,\n",
        "#           batch_size=sizeBatch, epochs=1, verbose=1,\n",
        "#           validation_data=(X_test, Y_test))"
      ],
      "execution_count": 0,
      "outputs": []
    },
    {
      "metadata": {
        "id": "agqqH8sf3CiV",
        "colab_type": "code",
        "colab": {}
      },
      "cell_type": "code",
      "source": [
        "# K.clear_session()\n",
        "\n",
        "# input_tensor = Input(shape=(imgSize, imgSize, 3))\n",
        "\n",
        "# # Building sequential model with name 'model'\n",
        "# model = Sequential()\n",
        "\n",
        "# modelWoTop = ResNet50(input_tensor=input_tensor, weights='imagenet', include_top=False)\n",
        "# model.add(modelWoTop)\n",
        "# model.add(Flatten())\n",
        "# model.add(Dense(2, activation=lastActivation))\n",
        "\n",
        "# # Model compiling\n",
        "\n",
        "# print('Compiling Pretrained {} Model'.format(model.layers[0].name))\n",
        "\n",
        "# model.compile(loss='binary_crossentropy',\n",
        "#               optimizer='adam',\n",
        "#               metrics=['accuracy'])\n",
        "\n",
        "# numEpochs = 1\n",
        "\n",
        "# print('Training Pretrained {} Model'.format(model.layers[0].name))\n",
        "# print('Batch Size: {}\\t Epochs: {}\\t\\n'.format(sizeBatch, numEpochs))\n",
        "\n",
        "# model.fit(X_train, Y_train,\n",
        "#           batch_size=sizeBatch, epochs=numEpochs, verbose=1,\n",
        "#           validation_data=(X_test, Y_test))"
      ],
      "execution_count": 0,
      "outputs": []
    },
    {
      "metadata": {
        "id": "qexmaPZVz04q",
        "colab_type": "code",
        "outputId": "31158efa-c300-40fa-97ec-bbc4272c30a1",
        "colab": {
          "base_uri": "https://localhost:8080/",
          "height": 269
        }
      },
      "cell_type": "code",
      "source": [
        "Y_pred = model.predict(X_test)\n",
        "\n",
        "plt.subplot(3, 1, 1)\n",
        "plt.plot(Y_test[:, 1], 'r')\n",
        "\n",
        "plt.subplot(3, 1, 2)\n",
        "plt.plot(Y_pred[:, 1], 'b')\n",
        "\n",
        "plt.subplot(3, 1, 3)\n",
        "plt.plot(Y_test[:, 1] - Y_pred[:, 1], 'g')\n",
        "\n",
        "plt.show()"
      ],
      "execution_count": 15,
      "outputs": [
        {
          "output_type": "display_data",
          "data": {
            "text/plain": [
              "<Figure size 432x288 with 3 Axes>"
            ],
            "image/png": "[encoded data removed]"
          },
          "metadata": {
            "tags": [],
            "needs_background": "light"
          }
        }
      ]
    },
    {
      "metadata": {
        "id": "IPTFOJh3DTgq",
        "colab_type": "code",
        "outputId": "708e0a90-fc2e-4afb-bf8e-832ce60b0e33",
        "colab": {
          "base_uri": "https://localhost:8080/",
          "height": 73
        }
      },
      "cell_type": "code",
      "source": [
        "now = datetime.datetime.now()\n",
        "\n",
        "# modelSaved = '{}-{}_{}_{}.h5'.format(folderNormal, folderFault, pretrainedModel, now.strftime('%m-%d-%H:%M:%S'))\n",
        "\n",
        "modelSaved = '{}-{}_{}_{}.h5'.format(folderNormal, folderFault, pretrainedModel, now.strftime('%m-%d-%H-%M-%S'))\n",
        "meanSaved = 'mean_{}.npy'.format(now.strftime('%m-%d-%H-%M-%S'))\n",
        "stdSaved = 'std_{}.npy'.format(now.strftime('%m-%d-%H-%M-%S'))\n",
        "\n",
        "inputStr = input('''Save Model as '{}'? (y/n)\\n'''.format(modelSaved))\n",
        "\n",
        "if (inputStr == 'y' or inputStr == 'Y'):  \n",
        "    model.save(modelPath + '/{}'.format(modelSaved))\n",
        "    np.save(modelPath + '/{}'.format(meanSaved), trainMean)\n",
        "    np.save(modelPath + '/{}'.format(stdSaved), trainStd)"
      ],
      "execution_count": 16,
      "outputs": [
        {
          "output_type": "stream",
          "text": [
            "Save Model as '['P1N1', 'P1N2', 'P2N1', 'P2N2']-['P1N5', 'P2N5', 'P3N5', 'P4N5', 'P5N1', 'P5N2', 'P5N3', 'P5N4', 'P5N5']_InceptionV3_11-19-15-27-34.h5'? (y/n)\n",
            "y\n"
          ],
          "name": "stdout"
        }
      ]
    }
  ]
}