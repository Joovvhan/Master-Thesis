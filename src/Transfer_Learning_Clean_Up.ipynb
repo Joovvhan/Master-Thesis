{
  "nbformat": 4,
  "nbformat_minor": 0,
  "metadata": {
    "colab": {
      "name": "Transfer Learning Clean Up.ipynb",
      "version": "0.3.2",
      "provenance": [],
      "include_colab_link": true
    },
    "kernelspec": {
      "name": "python3",
      "display_name": "Python 3"
    },
    "accelerator": "GPU"
  },
  "cells": [
    {
      "cell_type": "markdown",
      "metadata": {
        "id": "view-in-github",
        "colab_type": "text"
      },
      "source": [
        "[View in Colaboratory](https://colab.research.google.com/github/Joovvhan/Master-Thesis/blob/master/src/Transfer_Learning_Clean_Up.ipynb)"
      ]
    },
    {
      "metadata": {
        "id": "c3821KWLNey6",
        "colab_type": "code",
        "colab": {}
      },
      "cell_type": "code",
      "source": [
        "# Import necessary modules\n",
        "\n",
        "import os\n",
        "import matplotlib.pyplot as plt\n",
        "import numpy as np\n",
        "import scipy.io.wavfile as wf\n",
        "import time\n",
        "\n",
        "from tqdm import tqdm, trange"
      ],
      "execution_count": 0,
      "outputs": []
    },
    {
      "metadata": {
        "id": "nxSASpgF7unA",
        "colab_type": "code",
        "colab": {
          "base_uri": "https://localhost:8080/",
          "height": 142
        },
        "outputId": "24139b03-921b-4b25-dbfa-7fe02721d697"
      },
      "cell_type": "code",
      "source": [
        "# Mount google drive\n",
        "\n",
        "from google.colab import drive\n",
        "drive.mount('/content/gdrive')\n",
        "os.listdir('gdrive/My Drive/Colab')"
      ],
      "execution_count": 2,
      "outputs": [
        {
          "output_type": "stream",
          "text": [
            "Go to this URL in a browser: https://accounts.google.com/o/oauth2/auth?client_id=947318989803-6bn6qk8qdgf4n4g3pfee6491hc0brc4i.apps.googleusercontent.com&redirect_uri=urn%3Aietf%3Awg%3Aoauth%3A2.0%3Aoob&scope=email%20https%3A%2F%2Fwww.googleapis.com%2Fauth%2Fdocs.test%20https%3A%2F%2Fwww.googleapis.com%2Fauth%2Fdrive%20https%3A%2F%2Fwww.googleapis.com%2Fauth%2Fdrive.photos.readonly%20https%3A%2F%2Fwww.googleapis.com%2Fauth%2Fpeopleapi.readonly&response_type=code\n",
            "\n",
            "Enter your authorization code:\n",
            "··········\n",
            "Mounted at /content/gdrive\n"
          ],
          "name": "stdout"
        },
        {
          "output_type": "execute_result",
          "data": {
            "text/plain": [
              "['Model', 'Data']"
            ]
          },
          "metadata": {
            "tags": []
          },
          "execution_count": 2
        }
      ]
    },
    {
      "metadata": {
        "id": "StFo8tBm8-4s",
        "colab_type": "code",
        "colab": {}
      },
      "cell_type": "code",
      "source": [
        "# Set data directories\n",
        "\n",
        "dataPath = 'gdrive/My Drive/Colab/Data'\n",
        "\n",
        "# Changed variable names to normal and fault\n",
        "# Changed variable names from folder to path\n",
        "# Need to consider multiple folders\n",
        "# Need to add files to be tested\n",
        "\n",
        "folderNormal = 'A3F1P3'\n",
        "folderFault = 'A3F5P3'\n",
        "pathNormal = dataPath + '/' + folderNormal\n",
        "pathFault = dataPath + '/' + folderFault\n",
        "filesNormal = os.listdir(pathNormal)\n",
        "filesFault = os.listdir(pathFault)"
      ],
      "execution_count": 0,
      "outputs": []
    },
    {
      "metadata": {
        "id": "xgGP7PZO-rTA",
        "colab_type": "code",
        "colab": {}
      },
      "cell_type": "code",
      "source": [
        "# Specgram settings\n",
        "\n",
        "nsc = 1470\n",
        "nov = nsc/2\n",
        "nff = nsc \n",
        "imgSize = 224"
      ],
      "execution_count": 0,
      "outputs": []
    },
    {
      "metadata": {
        "id": "5AskF2qFT2xr",
        "colab_type": "code",
        "colab": {
          "base_uri": "https://localhost:8080/",
          "height": 34
        },
        "outputId": "e7a2efb6-e08a-44d3-c95b-83dc70c16ce5"
      },
      "cell_type": "code",
      "source": [
        "# Execution confirmed with new variable names\n",
        "# Let's add imaging saving features\n",
        "\n",
        "imgsNormal = np.zeros([len(filesNormal), imgSize, imgSize])\n",
        "\n",
        "for i in trange(len(filesNormal)):\n",
        "    fs, dataInt16 = wf.read(pathNormal + '/' + filesNormal[i])\n",
        "    dataFloat = dataInt16 / (2 ** 15)\n",
        "    Pxx, _, _, _ = plt.specgram(dataFloat, NFFT=nff, Fs=fs, noverlap=nov, \\\n",
        "                                       window=np.hamming(nsc), cmap='viridis')\n",
        "    plt.close()\n",
        "    imgsNormal[i, :, :] = 10 * np.log10(Pxx[0:imgSize, :])"
      ],
      "execution_count": 5,
      "outputs": [
        {
          "output_type": "stream",
          "text": [
            "100%|██████████| 1000/1000 [06:28<00:00,  2.94it/s]\n"
          ],
          "name": "stderr"
        }
      ]
    },
    {
      "metadata": {
        "id": "P_MZtpk3Br_i",
        "colab_type": "code",
        "colab": {
          "base_uri": "https://localhost:8080/",
          "height": 34
        },
        "outputId": "a9b2f863-5d52-4000-f2e5-80bbf2734bd9"
      },
      "cell_type": "code",
      "source": [
        "# Execution confined with new varible names\n",
        "\n",
        "imgsFault = np.zeros([len(filesFault), imgSize, imgSize])\n",
        "\n",
        "for i in trange(len(filesFault)):\n",
        "    fs, dataInt16 = wf.read(pathFault + '/' + filesFault[i])\n",
        "    dataFloat = dataInt16 / (2 ** 15)\n",
        "    Pxx, _, _, _ = plt.specgram(dataFloat, NFFT=nff, Fs=fs, noverlap=nov, \\\n",
        "                                       window=np.hamming(nsc), cmap='viridis')\n",
        "    plt.close()\n",
        "    imgsFault[i, :, :] = 10 * np.log10(Pxx[0:imgSize, :])"
      ],
      "execution_count": 8,
      "outputs": [
        {
          "output_type": "stream",
          "text": [
            "100%|██████████| 1000/1000 [06:24<00:00,  2.25it/s]\n"
          ],
          "name": "stderr"
        }
      ]
    },
    {
      "metadata": {
        "id": "e91QsAurSkIP",
        "colab_type": "code",
        "colab": {}
      },
      "cell_type": "code",
      "source": [
        "trainIdxF1 = np.random.choice(len(imgsF1) - 1, int(len(imgsF1) * 0.8), replace=False)\n",
        "testIdxF1 = list(set(range(0, len(imgsF1))) - set(trainIdxF1))\n",
        "\n",
        "trainImgsF1 = imgsF1[trainIdxF1, :, :]\n",
        "testImgsF1 = imgsF1[testIdxF1, :, :]\n",
        "\n",
        "trainIdxF5 = np.random.choice(len(imgsF5) - 1, int(len(imgsF5) * 0.8), replace=False)\n",
        "testIdxF5 = list(set(range(0, len(imgsF5))) - set(trainIdxF5))\n",
        "\n",
        "trainImgsF5 = imgsF5[trainIdxF5, :, :]\n",
        "testImgsF5 = imgsF5[testIdxF5, :, :]"
      ],
      "execution_count": 0,
      "outputs": []
    },
    {
      "metadata": {
        "id": "KtaG5p9lUcyq",
        "colab_type": "code",
        "colab": {}
      },
      "cell_type": "code",
      "source": [
        "trainImgs = np.vstack([trainImgsF1, trainImgsF5])\n",
        "testImgs = np.vstack([testImgsF1, testImgsF5])"
      ],
      "execution_count": 0,
      "outputs": []
    },
    {
      "metadata": {
        "id": "feQ_AHAcUgHD",
        "colab_type": "code",
        "colab": {}
      },
      "cell_type": "code",
      "source": [
        "trainMean = np.mean(trainImgs)\n",
        "trainStd = np.std(trainImgs)"
      ],
      "execution_count": 0,
      "outputs": []
    },
    {
      "metadata": {
        "id": "wUi9IuXNUpir",
        "colab_type": "code",
        "colab": {}
      },
      "cell_type": "code",
      "source": [
        "trainImgsNorm = (trainImgs - trainMean) / trainStd\n",
        "testImgsNorm = (testImgs - trainMean) / trainStd\n",
        "\n",
        "trainImgsNorm = trainImgsNorm.reshape(list(trainImgsNorm.shape) + [1])\n",
        "testImgsNorm = testImgsNorm.reshape(list(testImgsNorm.shape) + [1])"
      ],
      "execution_count": 0,
      "outputs": []
    },
    {
      "metadata": {
        "id": "aklxiPz1Ve4n",
        "colab_type": "code",
        "colab": {}
      },
      "cell_type": "code",
      "source": [
        "X_train = np.stack([trainImgsNorm[:, :, :, 0], trainImgsNorm[:, :, :, 0], trainImgsNorm[:, :, :, 0]], axis = -1)\n",
        "X_test = np.stack([testImgsNorm[:, :, :, 0], testImgsNorm[:, :, :, 0], testImgsNorm[:, :, :, 0]], axis = -1)"
      ],
      "execution_count": 0,
      "outputs": []
    },
    {
      "metadata": {
        "id": "sRgIPzT7K_YP",
        "colab_type": "code",
        "colab": {}
      },
      "cell_type": "code",
      "source": [
        "trainLabelF1 = np.stack((np.ones( int(len(imgsF1) * 0.8)), np.zeros( int(len(imgsF1) * 0.8))), axis = -1)\n",
        "testLabelF1 = np.stack((np.ones( int(len(imgsF1) * 0.2)), np.zeros( int(len(imgsF1) * 0.2))), axis = -1)\n",
        "\n",
        "trainLabelF5 = np.stack((np.zeros( int(len(imgsF5) * 0.8)), np.ones( int(len(imgsF5) * 0.8))), axis = -1)\n",
        "testLabelF5 = np.stack((np.zeros( int(len(imgsF5) * 0.2)), np.ones( int(len(imgsF5) * 0.2))), axis = -1)\n",
        "\n",
        "Y_train = np.vstack((trainLabelF1, trainLabelF5))\n",
        "Y_test = np.vstack((testLabelF1, testLabelF5))"
      ],
      "execution_count": 0,
      "outputs": []
    },
    {
      "metadata": {
        "id": "-m4Kq1y7YW0D",
        "colab_type": "code",
        "colab": {}
      },
      "cell_type": "code",
      "source": [
        "from keras.preprocessing import image\n",
        "from keras.layers import Input, Flatten, Dense, Dropout, GlobalAveragePooling2D\n",
        "from keras.models import Sequential"
      ],
      "execution_count": 0,
      "outputs": []
    },
    {
      "metadata": {
        "id": "wwsOP0NKGnkh",
        "colab_type": "code",
        "colab": {}
      },
      "cell_type": "code",
      "source": [
        "from keras.applications.inception_v3 import InceptionV3\n",
        "from keras import backend as K\n",
        "\n",
        "for i in range(100):\n",
        "\n",
        "    input_tensor = Input(shape=(224, 224, 3))\n",
        "    \n",
        "    modelInceptionV3WoTop = None\n",
        "    modelInceptionV3 = None\n",
        "\n",
        "    modelInceptionV3WoTop = InceptionV3(input_tensor=input_tensor, weights='imagenet', include_top=False)\n",
        "    # modelInceptionV3WoTop.summary()\n",
        "    # modelInceptionV3 = InceptionV3(input_tensor=input_tensor, weights='imagenet', include_top=True)\n",
        "    # modelInceptionV3.summary()\n",
        "\n",
        "    modelInceptionV3 = Sequential()\n",
        "\n",
        "    modelInceptionV3.add(modelInceptionV3WoTop)\n",
        "    modelInceptionV3.add(GlobalAveragePooling2D())\n",
        "    modelInceptionV3.add(Dense(2, activation='softmax'))\n",
        "\n",
        "    # modelInceptionV3.summary()\n",
        "\n",
        "    modelInceptionV3.compile(loss='binary_crossentropy',\n",
        "                  optimizer='adam',\n",
        "                  metrics=['accuracy'])\n",
        "\n",
        "    modelInceptionV3.fit(X_train, Y_train,\n",
        "              batch_size=4, epochs=6, verbose=1,\n",
        "              validation_data=(X_test, Y_test))\n",
        "    \n",
        "    K.clear_session()"
      ],
      "execution_count": 0,
      "outputs": []
    },
    {
      "metadata": {
        "id": "I184FR1dvkb8",
        "colab_type": "code",
        "colab": {}
      },
      "cell_type": "code",
      "source": [
        "from keras.applications import VGG19\n",
        "\n",
        "from keras import backend as K\n",
        "\n",
        "for i in range(100):\n",
        "    \n",
        "    input_tensor = Input(shape=(224, 224, 3))\n",
        "    \n",
        "    modelVGG19WoTop = None\n",
        "    modelVGG19 = None\n",
        "\n",
        "    modelVGG19WoTop = VGG19(input_tensor=input_tensor, weights='imagenet', include_top=False)\n",
        "\n",
        "    modelVGG19 = Sequential()\n",
        "\n",
        "    modelVGG19.add(modelVGG19WoTop)\n",
        "    modelVGG19.add(Flatten())\n",
        "    modelVGG19.add(Dense(4096, activation='relu'))\n",
        "    modelVGG19.add(Dropout(0.5))\n",
        "    modelVGG19.add(Dense(4096, activation='relu'))\n",
        "    modelVGG19.add(Dropout(0.5))\n",
        "    \n",
        "#     modelVGG19.add(Dense(128, activation='relu'))\n",
        "#     modelVGG19.add(Dropout(0.5))\n",
        "#     modelVGG19.add(Dense(128, activation='relu'))\n",
        "#     modelVGG19.add(Dropout(0.5))\n",
        "    \n",
        "    modelVGG19.add(Dense(2, activation='softmax'))\n",
        "\n",
        "    modelVGG19.compile(loss='binary_crossentropy',\n",
        "                  optimizer='adam',\n",
        "                  metrics=['accuracy'])\n",
        "\n",
        "    modelVGG19.fit(X_train, Y_train,\n",
        "              batch_size=2, epochs=8, verbose=1,\n",
        "              validation_data=(X_test, Y_test))\n",
        "    \n",
        "    K.clear_session()"
      ],
      "execution_count": 0,
      "outputs": []
    },
    {
      "metadata": {
        "id": "qOIMr0c6G3QD",
        "colab_type": "code",
        "colab": {}
      },
      "cell_type": "code",
      "source": [
        ""
      ],
      "execution_count": 0,
      "outputs": []
    },
    {
      "metadata": {
        "id": "UiWy-nF4RAFM",
        "colab_type": "code",
        "colab": {}
      },
      "cell_type": "code",
      "source": [
        "from keras.applications import VGG16\n",
        "\n",
        "input_tensor = Input(shape=(224, 224, 3))\n",
        "\n",
        "modelVGG16WoTop = None\n",
        "modelVGG16 = None\n",
        "\n",
        "modelVGG16WoTop = VGG16(input_tensor=input_tensor, weights='imagenet', include_top=False)\n",
        "\n",
        "modelVGG16 = Sequential()\n",
        "\n",
        "modelVGG16.add(modelVGG16WoTop)\n",
        "modelVGG16.add(Flatten())\n",
        "modelVGG16.add(Dense(100, activation='relu'))\n",
        "modelVGG16.add(Dropout(0.5))\n",
        "modelVGG16.add(Dense(100, activation='relu'))\n",
        "modelVGG16.add(Dropout(0.5))\n",
        "\n",
        "modelVGG16.add(Dense(2, activation='softmax'))\n",
        "\n",
        "modelVGG16.compile(loss='binary_crossentropy',\n",
        "              optimizer='adam',\n",
        "              metrics=['accuracy'])\n",
        "\n",
        "modelVGG16.fit(X_train, Y_train,\n",
        "          batch_size=2, epochs=2, verbose=1,\n",
        "          validation_data=(X_test, Y_test))"
      ],
      "execution_count": 0,
      "outputs": []
    },
    {
      "metadata": {
        "id": "VEDNxMjPT34S",
        "colab_type": "code",
        "colab": {}
      },
      "cell_type": "code",
      "source": [
        "from keras.applications.resnet50 import ResNet50\n",
        "from keras.applications.resnet50 import preprocess_input, decode_predictions\n",
        "\n",
        "modelResNet50WoTop = None\n",
        "modelResNet50 = None\n",
        "\n",
        "input_tensor = Input(shape=(224, 224, 3))\n",
        "modelResNet50WoTop = ResNet50(input_tensor=input_tensor, weights='imagenet', include_top=False)\n",
        "\n",
        "modelResNet50 = Sequential()\n",
        "\n",
        "modelResNet50.add(modelResNet50WoTop)\n",
        "modelResNet50.add(Flatten())\n",
        "modelResNet50.add(Dense(2, activation='softmax'))\n",
        "\n",
        "modelResNet50.compile(loss='binary_crossentropy',\n",
        "              optimizer='adam',\n",
        "              metrics=['accuracy'])\n",
        "\n",
        "modelResNet50.fit(X_train, Y_train,\n",
        "          batch_size=4, epochs=8, verbose=1,\n",
        "          validation_data=(X_test, Y_test))"
      ],
      "execution_count": 0,
      "outputs": []
    },
    {
      "metadata": {
        "id": "IPTFOJh3DTgq",
        "colab_type": "code",
        "colab": {}
      },
      "cell_type": "code",
      "source": [
        "from keras.models import load_model\n",
        "from sklearn.metrics import classification_report, confusion_matrix\n",
        "import datetime\n",
        "\n",
        "now = datetime.datetime.now()\n",
        "modelResNet50.save('gdrive/My Drive/Colab/Model/ResNet50 {}.h5'.format(now.strftime('%m-%d %H:%M:%S')))\n",
        "# modelResNet50_ = load_model('gdrive/My Drive/Colab/Model/ResNet50.h5')\n",
        "\n",
        "# Y_pred = modelResNet50_.predict(X_test)\n",
        "# print(confusion_matrix(np.argmax(Y_pred, axis = 1), np.argmax(Y_test, axis = 1)))"
      ],
      "execution_count": 0,
      "outputs": []
    },
    {
      "metadata": {
        "id": "FDhXm3brHs_I",
        "colab_type": "text"
      },
      "cell_type": "markdown",
      "source": [
        ""
      ]
    },
    {
      "metadata": {
        "id": "TgKGs_zL0nwC",
        "colab_type": "code",
        "colab": {}
      },
      "cell_type": "code",
      "source": [
        "# for i in range(1000, 1010):\n",
        "#     plt.figure()\n",
        "#     plt.imshow(X_train[i, :, :, 0]);\n",
        "#     plt.plot()\n",
        "\n"
      ],
      "execution_count": 0,
      "outputs": []
    }
  ]
}