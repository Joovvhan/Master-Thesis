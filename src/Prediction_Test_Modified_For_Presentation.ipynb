{
  "nbformat": 4,
  "nbformat_minor": 0,
  "metadata": {
    "colab": {
      "name": "Prediction Test Xception A3F1P3 vs A3F5P3.ipynb",
      "version": "0.3.2",
      "provenance": [],
      "include_colab_link": true
    },
    "kernelspec": {
      "name": "python3",
      "display_name": "Python 3"
    },
    "accelerator": "GPU"
  },
  "cells": [
    {
      "cell_type": "markdown",
      "metadata": {
        "id": "view-in-github",
        "colab_type": "text"
      },
      "source": [
        "[View in Colaboratory](https://colab.research.google.com/github/Joovvhan/Master-Thesis/blob/master/src/Prediction_Test_Modified_For_Presentation.ipynb)"
      ]
    },
    {
      "metadata": {
        "id": "trufzUj0TtaB",
        "colab_type": "code",
        "colab": {}
      },
      "cell_type": "code",
      "source": [
        "# Import library\n",
        "import os\n",
        "import glob\n",
        "import numpy as np"
      ],
      "execution_count": 0,
      "outputs": []
    },
    {
      "metadata": {
        "id": "ouO8oBRESKlo",
        "colab_type": "code",
        "colab": {
          "base_uri": "https://localhost:8080/",
          "height": 52
        },
        "outputId": "6179cf4d-300d-4035-9cf7-b7766fb2543a"
      },
      "cell_type": "code",
      "source": [
        "# Mount google drive\n",
        "\n",
        "from google.colab import drive\n",
        "\n",
        "drive.mount('/content/gdrive')\n",
        "os.listdir('gdrive/My Drive/Colab')"
      ],
      "execution_count": 2,
      "outputs": [
        {
          "output_type": "stream",
          "text": [
            "Mounted at /content/gdrive\n"
          ],
          "name": "stdout"
        },
        {
          "output_type": "execute_result",
          "data": {
            "text/plain": [
              "['Data_', 'Model', 'Data']"
            ]
          },
          "metadata": {
            "tags": []
          },
          "execution_count": 2
        }
      ]
    },
    {
      "metadata": {
        "id": "rpi5cqAkSf2W",
        "colab_type": "code",
        "colab": {
          "base_uri": "https://localhost:8080/",
          "height": 193
        },
        "outputId": "9658e97d-68ed-43e7-84f5-546080bfaf33"
      },
      "cell_type": "code",
      "source": [
        "from keras.models import load_model\n",
        "\n",
        "# Set model path\n",
        "\n",
        "modelPath = 'gdrive/My Drive/Colab/Model'\n",
        "\n",
        "dataPath = 'gdrive/My Drive/Colab/Data'\n",
        "\n",
        "modelList = glob.glob(modelPath + '/*h5')\n",
        "    \n",
        "numberModel = np.inf\n",
        "    \n",
        "while numberModel >= len(modelList): \n",
        "\n",
        "    for i in range(len(modelList)):\n",
        "        print('#{:d}: {}'.format(i, modelList[i]))\n",
        "    \n",
        "    numberModel = int(input('Type In Your Model Number:\\n'))\n",
        "\n",
        "    if numberModel < len(modelList):\n",
        "        print('Loading {}'.format(modelList[numberModel]))    \n",
        "        model = load_model(modelList[numberModel])\n",
        "        print('Loading Completed')    \n",
        "    else:\n",
        "        print('Invalid Model Number\\n')\n",
        "        \n"
      ],
      "execution_count": 3,
      "outputs": [
        {
          "output_type": "stream",
          "text": [
            "Using TensorFlow backend.\n"
          ],
          "name": "stderr"
        },
        {
          "output_type": "stream",
          "text": [
            "#0: gdrive/My Drive/Colab/Model/A3F3P1-A3F3P5_VGG19_10-08-11:28:34.h5\n",
            "#1: gdrive/My Drive/Colab/Model/A3F3P1-A3F3P5_ResNet50_10-08-10:48:42.h5\n",
            "#2: gdrive/My Drive/Colab/Model/A3F3P1-A3F3P5_Xception_10-08-05:15:07.h5\n",
            "#3: gdrive/My Drive/Colab/Model/A3F1P3-A3F5P3_Xception_10-06-17:14:18.h5\n",
            "#4: gdrive/My Drive/Colab/Model/A3F1P3 vs A3F5P3 ResNet50 10-06 05:30:50.h5\n",
            "Type In Your Model Number:\n",
            "3\n",
            "Loading gdrive/My Drive/Colab/Model/A3F1P3-A3F5P3_Xception_10-06-17:14:18.h5\n",
            "Loading Completed\n"
          ],
          "name": "stdout"
        }
      ]
    },
    {
      "metadata": {
        "id": "QsBhb9GsclLM",
        "colab_type": "code",
        "colab": {
          "base_uri": "https://localhost:8080/",
          "height": 54
        },
        "outputId": "db7d5766-4926-459a-c317-d951ff28f884"
      },
      "cell_type": "code",
      "source": [
        "creationDate = modelList[numberModel].split('_')[-1].replace('.h5', '')\n",
        "\n",
        "modelParamList = glob.glob(modelPath + '/*.npy')\n",
        "modelParam = [param for param in modelParamList if creationDate in param]\n",
        "\n",
        "print('Parameter npy File List: {}'.format(modelParam))\n",
        "\n",
        "trainMean = float(np.load([param for param in modelParam if 'mean' in param][0]))\n",
        "trainStd = float(np.load([param for param in modelParam if 'std' in param][0]))"
      ],
      "execution_count": 4,
      "outputs": [
        {
          "output_type": "stream",
          "text": [
            "Parameter npy File List: ['gdrive/My Drive/Colab/Model/std_10-06-17:14:18.npy', 'gdrive/My Drive/Colab/Model/mean_10-06-17:14:18.npy']\n"
          ],
          "name": "stdout"
        }
      ]
    },
    {
      "metadata": {
        "id": "7qL4qYE3WEEl",
        "colab_type": "code",
        "colab": {
          "base_uri": "https://localhost:8080/",
          "height": 72
        },
        "outputId": "0e38a6c9-b945-4718-e5c2-429d96791341"
      },
      "cell_type": "code",
      "source": [
        "dataPath = 'gdrive/My Drive/Colab/Data'\n",
        "\n",
        "foldersTest = ['A3F1P3', 'A3F2P3', 'A3F3P3', 'A3F4P3', 'A3F5P3']\n",
        "\n",
        "pathTests = [dataPath + '/' + folder for folder in foldersTest]\n",
        "print(pathTests)\n",
        "\n",
        "filesTest = list()\n",
        "\n",
        "for i in range(len(foldersTest)):\n",
        "    filesTest = filesTest + (glob.glob(pathTests[i] + '/*.wav'))\n",
        "    \n",
        "print(len(filesTest))"
      ],
      "execution_count": 5,
      "outputs": [
        {
          "output_type": "stream",
          "text": [
            "['gdrive/My Drive/Colab/Data/A3F1P3', 'gdrive/My Drive/Colab/Data/A3F2P3', 'gdrive/My Drive/Colab/Data/A3F3P3', 'gdrive/My Drive/Colab/Data/A3F4P3', 'gdrive/My Drive/Colab/Data/A3F5P3']\n",
            "5000\n"
          ],
          "name": "stdout"
        }
      ]
    },
    {
      "metadata": {
        "id": "DZq4XebhsEJD",
        "colab_type": "code",
        "colab": {
          "base_uri": "https://localhost:8080/",
          "height": 142
        },
        "outputId": "ac222101-6e73-489f-9830-9d56627425fb"
      },
      "cell_type": "code",
      "source": [
        "from tqdm import trange\n",
        "import numpy as np\n",
        "import matplotlib.pyplot as plt\n",
        "import scipy.io.wavfile as wf\n",
        "\n",
        "nsc = 1470\n",
        "nov = nsc/2\n",
        "nff = nsc\n",
        "\n",
        "imgSize = 224\n",
        "\n",
        "imgsTestList = list()\n",
        "\n",
        "for i in range(len(pathTests)):\n",
        "\n",
        "    npyTestPath = glob.glob(pathTests[i] + '/' + '*.npy')\n",
        "    \n",
        "    if (len(npyTestPath) == 1):\n",
        "        imgsTest = np.load(npyTestPath[0])\n",
        "\n",
        "    else:\n",
        "        \n",
        "        filesTest = glob.glob(pathTests[i] + '/*.wav')\n",
        "        \n",
        "        imgsTest = np.zeros([len(filesTest), imgSize, imgSize])\n",
        "\n",
        "        for j in trange(len(filesTest)):\n",
        "            fs, dataInt16 = wf.read(filesTest[j])\n",
        "            dataFloat = dataInt16 / (2 ** 15)\n",
        "            Pxx, _, _, _ = plt.specgram(dataFloat, NFFT=nff, Fs=fs, noverlap=nov, \\\n",
        "                                               window=np.hamming(nsc), cmap='viridis')\n",
        "            plt.close()\n",
        "            imgsTest[j, :, :] = 10 * np.log10(Pxx[0:imgSize, :])\n",
        "\n",
        "        np.save(pathTests[i] + '/' + foldersTest[i] + '.npy', imgsTest)\n",
        "\n",
        "    print('Test Image Shape From {}: {}'.format(foldersTest[i], imgsTest.shape))    \n",
        "    \n",
        "    imgsTestList.append(imgsTest)\n",
        "    \n",
        "imgsTestTotal = np.vstack(imgsTestList)\n",
        "\n",
        "print('Test Image Shape From {}: {}'.format(foldersTest, imgsTestTotal.shape))    \n",
        "    "
      ],
      "execution_count": 6,
      "outputs": [
        {
          "output_type": "stream",
          "text": [
            "Test Image Shape From A3F1P3: (1000, 224, 224)\n",
            "Test Image Shape From A3F2P3: (1000, 224, 224)\n",
            "Test Image Shape From A3F3P3: (1000, 224, 224)\n",
            "Test Image Shape From A3F4P3: (1000, 224, 224)\n",
            "Test Image Shape From A3F5P3: (1000, 224, 224)\n",
            "Test Image Shape From ['A3F1P3', 'A3F2P3', 'A3F3P3', 'A3F4P3', 'A3F5P3']: (5000, 224, 224)\n"
          ],
          "name": "stdout"
        }
      ]
    },
    {
      "metadata": {
        "id": "hJUemDTs1k96",
        "colab_type": "code",
        "colab": {
          "base_uri": "https://localhost:8080/",
          "height": 34
        },
        "outputId": "f1ebb796-01ea-4681-bdd3-008ca4ea7c7a"
      },
      "cell_type": "code",
      "source": [
        "imgsTestTotal.shape"
      ],
      "execution_count": 11,
      "outputs": [
        {
          "output_type": "execute_result",
          "data": {
            "text/plain": [
              "(5000, 224, 224)"
            ]
          },
          "metadata": {
            "tags": []
          },
          "execution_count": 11
        }
      ]
    },
    {
      "metadata": {
        "id": "Dek0RAZr8_dP",
        "colab_type": "code",
        "colab": {
          "base_uri": "https://localhost:8080/",
          "height": 193
        },
        "outputId": "c0e18446-d4c1-4345-a6ac-d37dae29e70d"
      },
      "cell_type": "code",
      "source": [
        "# Add saving mean and std with model\n",
        "\n",
        "chunkLength = 500\n",
        "\n",
        "for i in range(int(len(imgsTestTotal) / chunkLength)):\n",
        "\n",
        "    imgsTestChunk = imgsTestTotal[i * chunkLength:(i + 1) * chunkLength, :, :]\n",
        "\n",
        "    testImgsNorm = (imgsTestChunk - trainMean) / trainStd\n",
        "\n",
        "    testImgsNorm = testImgsNorm.reshape(list(testImgsNorm.shape) + [1])\n",
        "\n",
        "    X_test = np.stack([testImgsNorm[:, :, :, 0], testImgsNorm[:, :, :, 0], testImgsNorm[:, :, :, 0]], axis = -1)\n",
        "\n",
        "    Y_pred_chunk = model.predict(X_test, verbose=1)\n",
        "    \n",
        "    if i == 0:\n",
        "        Y_pred = Y_pred_chunk\n",
        "    else:\n",
        "        Y_pred = np.vstack((Y_pred, Y_pred_chunk))\n",
        "    "
      ],
      "execution_count": 21,
      "outputs": [
        {
          "output_type": "stream",
          "text": [
            "500/500 [==============================] - 7s 13ms/step\n",
            "500/500 [==============================] - 6s 13ms/step\n",
            "500/500 [==============================] - 6s 13ms/step\n",
            "500/500 [==============================] - 6s 13ms/step\n",
            "500/500 [==============================] - 6s 13ms/step\n",
            "500/500 [==============================] - 7s 13ms/step\n",
            "500/500 [==============================] - 6s 13ms/step\n",
            "500/500 [==============================] - 6s 13ms/step\n",
            "500/500 [==============================] - 6s 13ms/step\n",
            "500/500 [==============================] - 6s 13ms/step\n"
          ],
          "name": "stdout"
        }
      ]
    },
    {
      "metadata": {
        "id": "IbZ3KJcODx8Y",
        "colab_type": "code",
        "colab": {
          "base_uri": "https://localhost:8080/",
          "height": 34
        },
        "outputId": "92ae63ff-f27f-45ba-a6cb-de2240ea9ce8"
      },
      "cell_type": "code",
      "source": [
        "# Y_pred = model.predict(X_test, verbose=1)"
      ],
      "execution_count": 13,
      "outputs": [
        {
          "output_type": "stream",
          "text": [
            "500/500 [==============================] - 7s 13ms/step\n"
          ],
          "name": "stdout"
        }
      ]
    },
    {
      "metadata": {
        "id": "DWikV88O3Eea",
        "colab_type": "code",
        "colab": {
          "base_uri": "https://localhost:8080/",
          "height": 34
        },
        "outputId": "c608b1e0-d32d-43a0-f617-7d1add454de1"
      },
      "cell_type": "code",
      "source": [
        "Y_pred.shape"
      ],
      "execution_count": 23,
      "outputs": [
        {
          "output_type": "execute_result",
          "data": {
            "text/plain": [
              "(5000, 2)"
            ]
          },
          "metadata": {
            "tags": []
          },
          "execution_count": 23
        }
      ]
    },
    {
      "metadata": {
        "id": "D073gdBmEeap",
        "colab_type": "code",
        "colab": {
          "base_uri": "https://localhost:8080/",
          "height": 501
        },
        "outputId": "90e3347b-f5ca-41fe-b64c-824796862417"
      },
      "cell_type": "code",
      "source": [
        "X_ticks = np.zeros(len(Y_pred))\n",
        "\n",
        "for i in range(len(X_ticks)):\n",
        "    X_ticks[i] = float(filesTest[i].split('/')[-1].split('_')[1][1:-1])\n",
        "\n",
        "plt.figure(figsize=(8, 8))\n",
        "plt.plot(X_ticks, Y_pred[:, 1], '.')\n",
        "\n",
        "# Need to match file name with x axis"
      ],
      "execution_count": 24,
      "outputs": [
        {
          "output_type": "execute_result",
          "data": {
            "text/plain": [
              "[<matplotlib.lines.Line2D at 0x7f4c67a2ac50>]"
            ]
          },
          "metadata": {
            "tags": []
          },
          "execution_count": 24
        },
        {
          "output_type": "display_data",
          "data": {
            "image/png": "[encoded data removed]",
            "text/plain": [
              "<matplotlib.figure.Figure at 0x7f4c47d41f60>"
            ]
          },
          "metadata": {
            "tags": []
          }
        }
      ]
    },
    {
      "metadata": {
        "id": "MMsscfbdH94L",
        "colab_type": "code",
        "colab": {
          "base_uri": "https://localhost:8080/",
          "height": 365
        },
        "outputId": "6259ac3d-257e-4859-9608-210e7c47bb17"
      },
      "cell_type": "code",
      "source": [
        "x = np.stack((X_ticks, Y_pred[:, 1])).T\n",
        "y = np.asarray(sorted(x, key=lambda x: x[0]))\n",
        "# plt.plot(x[:, 0], x[:, 1])\n",
        "plt.plot(y[:, 0], y[:, 1])"
      ],
      "execution_count": 26,
      "outputs": [
        {
          "output_type": "execute_result",
          "data": {
            "text/plain": [
              "[<matplotlib.lines.Line2D at 0x7f4c43cd5c18>]"
            ]
          },
          "metadata": {
            "tags": []
          },
          "execution_count": 26
        },
        {
          "output_type": "display_data",
          "data": {
            "image/png": "[encoded data removed]",
            "text/plain": [
              "<matplotlib.figure.Figure at 0x7f4c47dbb8d0>"
            ]
          },
          "metadata": {
            "tags": []
          }
        }
      ]
    },
    {
      "metadata": {
        "id": "YWXttnb9PYVe",
        "colab_type": "code",
        "colab": {
          "base_uri": "https://localhost:8080/",
          "height": 678
        },
        "outputId": "dc1a2f45-e465-414c-cc02-cbbf1b0be7f4"
      },
      "cell_type": "code",
      "source": [
        "z = [round(val) for val in y[:, 1]]\n",
        "pit = y[:, 0]\n",
        "plt.plot(pit, z, '.')\n",
        "plt.show()\n",
        "\n",
        "plt.plot(pit, z, '.')\n",
        "plt.xlim((0.7, 1.1))\n",
        "plt.show()"
      ],
      "execution_count": 27,
      "outputs": [
        {
          "output_type": "display_data",
          "data": {
            "image/png": "[encoded data removed]",
            "text/plain": [
              "<matplotlib.figure.Figure at 0x7f4c4658d0f0>"
            ]
          },
          "metadata": {
            "tags": []
          }
        },
        {
          "output_type": "display_data",
          "data": {
            "image/png": "[encoded data removed]",
            "text/plain": [
              "<matplotlib.figure.Figure at 0x7f4c43c04ef0>"
            ]
          },
          "metadata": {
            "tags": []
          }
        }
      ]
    },
    {
      "metadata": {
        "id": "txrL-faGQcNl",
        "colab_type": "code",
        "colab": {
          "base_uri": "https://localhost:8080/",
          "height": 678
        },
        "outputId": "ac5ce606-5bcd-4c1b-d1da-c1ce9fb3fb24"
      },
      "cell_type": "code",
      "source": [
        "N = 50\n",
        "zMovMean = np.convolve(z, np.ones((N,))/N, mode='same')\n",
        "y2MovMean = np.convolve(y[:, 1], np.ones((N,))/N, mode='same')\n",
        "\n",
        "\n",
        "plt.plot(pit, zMovMean)\n",
        "plt.show()\n",
        "\n",
        "plt.plot(pit, y2MovMean)\n",
        "plt.show()"
      ],
      "execution_count": 0,
      "outputs": [
        {
          "output_type": "display_data",
          "data": {
            "image/png": "[encoded data removed]",
            "text/plain": [
              "<matplotlib.figure.Figure at 0x7f6a2ec15668>"
            ]
          },
          "metadata": {
            "tags": []
          }
        },
        {
          "output_type": "display_data",
          "data": {
            "image/png": "[encoded data removed]",
            "text/plain": [
              "<matplotlib.figure.Figure at 0x7f6a2e5a6d68>"
            ]
          },
          "metadata": {
            "tags": []
          }
        }
      ]
    },
    {
      "metadata": {
        "id": "bTYv9i53RQwy",
        "colab_type": "code",
        "colab": {
          "base_uri": "https://localhost:8080/",
          "height": 52
        },
        "outputId": "80453571-29ff-4d66-cc6f-6a4aa78c8ab9"
      },
      "cell_type": "code",
      "source": [
        "y[:, 1]\n",
        "zMovMean"
      ],
      "execution_count": 0,
      "outputs": [
        {
          "output_type": "execute_result",
          "data": {
            "text/plain": [
              "array([5.31149940e-06, 6.22010471e-06, 1.65341122e-05, ...,\n",
              "       7.99960852e-01, 6.99963284e-01, 5.99966645e-01])"
            ]
          },
          "metadata": {
            "tags": []
          },
          "execution_count": 30
        }
      ]
    }
  ]
}