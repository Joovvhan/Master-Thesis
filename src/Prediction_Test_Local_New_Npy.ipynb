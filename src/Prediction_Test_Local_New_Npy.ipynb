{
  "nbformat": 4,
  "nbformat_minor": 0,
  "metadata": {
    "colab": {
      "name": "Prediction Test Local.ipynb",
      "version": "0.3.2",
      "provenance": [],
      "include_colab_link": true
    },
    "kernelspec": {
      "name": "python3",
      "display_name": "Python 3"
    },
    "accelerator": "GPU"
  },
  "cells": [
    {
      "cell_type": "markdown",
      "metadata": {
        "id": "view-in-github",
        "colab_type": "text"
      },
      "source": [
        "[View in Colaboratory](https://colab.research.google.com/github/Joovvhan/Master-Thesis/blob/master/src/Prediction_Test_Local_New_Npy.ipynb)"
      ]
    },
    {
      "metadata": {
        "id": "trufzUj0TtaB",
        "colab_type": "code",
        "colab": {}
      },
      "cell_type": "code",
      "source": [
        "# Import library\n",
        "import os\n",
        "import glob\n",
        "import numpy as np\n"
      ],
      "execution_count": 0,
      "outputs": []
    },
    {
      "metadata": {
        "id": "ouO8oBRESKlo",
        "colab_type": "code",
        "colab": {}
      },
      "cell_type": "code",
      "source": [
        "# Mount google drive\n",
        "\n",
        "# from google.colab import drive\n",
        "\n",
        "# drive.mount('/content/gdrive')\n",
        "# os.listdir('gdrive/My Drive/Colab')"
      ],
      "execution_count": 0,
      "outputs": []
    },
    {
      "metadata": {
        "id": "rpi5cqAkSf2W",
        "colab_type": "code",
        "colab": {
          "base_uri": "https://localhost:8080/",
          "height": 305
        },
        "outputId": "06ff15b5-f8ba-4e7d-89f0-2f01f58ee43f"
      },
      "cell_type": "code",
      "source": [
        "from keras.models import load_model\n",
        "\n",
        "# Set model path\n",
        "\n",
        "# modelPath = 'gdrive/My Drive/Colab/Model'\n",
        "# dataPath = 'gdrive/My Drive/Colab/Data'\n",
        "\n",
        "dataPath = '''D:\\\\0_Joowhan's Paper\\\\Synthesized\\\\Total'''\n",
        "modelPath = '''D:/0_Joowhan's Paper/Synthesized/Total/Model'''\n",
        "\n",
        "modelList = glob.glob(modelPath + '/*h5')\n",
        "    \n",
        "numberModel = np.inf\n",
        "    \n",
        "while numberModel >= len(modelList): \n",
        "\n",
        "    for i in range(len(modelList)):\n",
        "        print('#{:d}: {}'.format(i, modelList[i]))\n",
        "    \n",
        "    numberModel = int(input('Type In Your Model Number:\\n'))\n",
        "\n",
        "    if numberModel < len(modelList):\n",
        "        print('Loading {}'.format(modelList[numberModel]))    \n",
        "        model = load_model(modelList[numberModel])\n",
        "        print('Loading Completed')    \n",
        "    else:\n",
        "        print('Invalid Model Number\\n')\n",
        "        \n"
      ],
      "execution_count": 29,
      "outputs": [
        {
          "output_type": "stream",
          "text": [
            "#0: D:/0_Joowhan's Paper/Synthesized/Total/Model\\A1F3P3-A5F3P3_ResNet50_10-08-20-03-31.h5\n",
            "#1: D:/0_Joowhan's Paper/Synthesized/Total/Model\\A1F3P3-A5F3P3_ResNet50_10-14-20-58-37.h5\n",
            "#2: D:/0_Joowhan's Paper/Synthesized/Total/Model\\A1F3P3-A5F3P3_Xception_10-08-19-21-36.h5\n",
            "#3: D:/0_Joowhan's Paper/Synthesized/Total/Model\\A1F3P3-A5F3P3_Xception_10-08-19-46-29.h5\n",
            "#4: D:/0_Joowhan's Paper/Synthesized/Total/Model\\A3F1P3-A3F5P3_ResNet50_10-14-14-48-59.h5\n",
            "#5: D:/0_Joowhan's Paper/Synthesized/Total/Model\\A3F1P3-A3F5P3_Xception_10-14-13-00-04.h5\n",
            "#6: D:/0_Joowhan's Paper/Synthesized/Total/Model\\Normal-Fault_ResNet50_10-15-17-07-45.h5\n",
            "#7: D:/0_Joowhan's Paper/Synthesized/Total/Model\\['A1F3P3', 'A2F3P3']-['A5F3P3']_Xception_10-15-11-34-51.h5\n",
            "#8: D:/0_Joowhan's Paper/Synthesized/Total/Model\\['A3F1P3', 'A3F2P3']-['A3F5P3']_Xception_10-15-12-17-11.h5\n",
            "#9: D:/0_Joowhan's Paper/Synthesized/Total/Model\\['A3F1P3', 'A3F2P3']-['A5F3P3']_Xception_10-15-12-08-02.h5\n",
            "#10: D:/0_Joowhan's Paper/Synthesized/Total/Model\\['A3F3P1', 'A3F3P2']-['A3F3P5']_ResNet50_10-15-15-17-07.h5\n",
            "#11: D:/0_Joowhan's Paper/Synthesized/Total/Model\\['A3F3P1', 'A3F3P2']-['A3F3P5']_Xception_10-15-12-32-36.h5\n",
            "Type In Your Model Number:\n",
            "9\n",
            "Loading D:/0_Joowhan's Paper/Synthesized/Total/Model\\['A3F1P3', 'A3F2P3']-['A5F3P3']_Xception_10-15-12-08-02.h5\n",
            "Loading Completed\n"
          ],
          "name": "stdout"
        }
      ]
    },
    {
      "metadata": {
        "id": "QsBhb9GsclLM",
        "colab_type": "code",
        "colab": {
          "base_uri": "https://localhost:8080/",
          "height": 35
        },
        "outputId": "b7f1f978-2f83-4325-b762-2c45396c3825"
      },
      "cell_type": "code",
      "source": [
        "creationDate = modelList[numberModel].split('_')[-1].replace('.h5', '')\n",
        "\n",
        "modelParamList = glob.glob(modelPath + '/*.npy')\n",
        "modelParam = [param for param in modelParamList if creationDate in param]\n",
        "\n",
        "print('Parameter npy File List: {}'.format(modelParam))\n",
        "\n",
        "trainMean = float(np.load([param for param in modelParam if 'mean' in param][0]))\n",
        "trainStd = float(np.load([param for param in modelParam if 'std' in param][0]))"
      ],
      "execution_count": 30,
      "outputs": [
        {
          "output_type": "stream",
          "text": [
            "Parameter npy File List: [\"D:/0_Joowhan's Paper/Synthesized/Total/Model\\\\mean_10-15-12-08-02.npy\", \"D:/0_Joowhan's Paper/Synthesized/Total/Model\\\\std_10-15-12-08-02.npy\"]\n"
          ],
          "name": "stdout"
        }
      ]
    },
    {
      "metadata": {
        "id": "7qL4qYE3WEEl",
        "colab_type": "code",
        "colab": {
          "base_uri": "https://localhost:8080/",
          "height": 73
        },
        "outputId": "7652d84b-23af-4c78-8b86-30e6aec3caad"
      },
      "cell_type": "code",
      "source": [
        "# dataPath = 'gdrive/My Drive/Colab/Data'\n",
        "\n",
        "foldersTest = list()\n",
        "\n",
        "for x in range(3, 4):\n",
        "    for y in range(1, 6):\n",
        "        for z in range(3, 4):\n",
        "#             if (x == 5 or y == 5 or z == 5):\n",
        "            foldersTest.append('A{}F{}P{}'.format(x, y, z))\n",
        "\n",
        "\n",
        "pathTests = [dataPath + '/' + folder for folder in foldersTest]\n",
        "print(pathTests)\n",
        "\n",
        "filesTestTotal = list()\n",
        "\n",
        "for i in range(len(foldersTest)):\n",
        "    filesTestTotal = filesTestTotal + (glob.glob(pathTests[i] + '/*.wav'))\n",
        "    \n",
        "print(len(filesTestTotal))"
      ],
      "execution_count": 33,
      "outputs": [
        {
          "output_type": "stream",
          "text": [
            "[\"D:\\\\0_Joowhan's Paper\\\\Synthesized\\\\Total/A3F1P3\", \"D:\\\\0_Joowhan's Paper\\\\Synthesized\\\\Total/A3F2P3\", \"D:\\\\0_Joowhan's Paper\\\\Synthesized\\\\Total/A3F3P3\", \"D:\\\\0_Joowhan's Paper\\\\Synthesized\\\\Total/A3F4P3\", \"D:\\\\0_Joowhan's Paper\\\\Synthesized\\\\Total/A3F5P3\"]\n",
            "5000\n"
          ],
          "name": "stdout"
        }
      ]
    },
    {
      "metadata": {
        "id": "DZq4XebhsEJD",
        "colab_type": "code",
        "colab": {
          "base_uri": "https://localhost:8080/",
          "height": 125
        },
        "outputId": "c079acee-7a13-4ff4-9919-90177f86039e"
      },
      "cell_type": "code",
      "source": [
        "from tqdm import trange\n",
        "import numpy as np\n",
        "import matplotlib.pyplot as plt\n",
        "import scipy.io.wavfile as wf\n",
        "\n",
        "nsc = 1470\n",
        "nov = nsc/2\n",
        "nff = nsc\n",
        "\n",
        "imgSize = 224\n",
        "\n",
        "imgsTestList = list()\n",
        "\n",
        "for i in range(len(pathTests)):\n",
        "\n",
        "    npyTestPath = glob.glob(pathTests[i] + '/' + '*.npy')\n",
        "    \n",
        "    if (len(npyTestPath) == 1):\n",
        "        imgsTest = np.load(npyTestPath[0])\n",
        "\n",
        "    else:\n",
        "        \n",
        "        filesTest = glob.glob(pathTests[i] + '/*.wav')\n",
        "        \n",
        "        imgsTest = np.zeros([len(filesTest), imgSize, imgSize])\n",
        "\n",
        "        for j in trange(len(filesTest)):\n",
        "            fs, dataInt16 = wf.read(filesTest[j])\n",
        "            dataFloat = dataInt16 / (2 ** 15)\n",
        "            Pxx, _, _, _ = plt.specgram(dataFloat, NFFT=nff, Fs=fs, noverlap=nov, \\\n",
        "                                               window=np.hamming(nsc), cmap='viridis')\n",
        "            plt.close()\n",
        "            imgsTest[j, :, :] = 10 * np.log10(Pxx[0:imgSize, :])\n",
        "\n",
        "        np.save(pathTests[i] + '/' + foldersTest[i] + '.npy', imgsTest)\n",
        "\n",
        "    print('Test Image Shape From {}: {}'.format(foldersTest[i], imgsTest.shape))    \n",
        "    \n",
        "    imgsTestList.append(imgsTest)\n",
        "    \n",
        "imgsTestTotal = np.vstack(imgsTestList)\n",
        "\n",
        "print('Test Image Shape From {}: {}'.format(foldersTest, imgsTestTotal.shape))    \n",
        "    "
      ],
      "execution_count": 0,
      "outputs": [
        {
          "output_type": "stream",
          "text": [
            "Test Image Shape From A1F3P3: (1000, 224, 224)\n",
            "Test Image Shape From A2F3P3: (1000, 224, 224)\n",
            "Test Image Shape From A3F3P3: (1000, 224, 224)\n",
            "Test Image Shape From A4F3P3: (1000, 224, 224)\n",
            "Test Image Shape From A5F3P3: (1000, 224, 224)\n",
            "Test Image Shape From ['A1F3P3', 'A2F3P3', 'A3F3P3', 'A4F3P3', 'A5F3P3']: (5000, 224, 224)\n"
          ],
          "name": "stdout"
        }
      ]
    },
    {
      "metadata": {
        "id": "Dek0RAZr8_dP",
        "colab_type": "code",
        "colab": {}
      },
      "cell_type": "code",
      "source": [
        "# Add saving mean and std with model\n",
        "\n",
        "# testImgsNorm = (imgsTestTotal - trainMean) / trainStd\n",
        "\n",
        "# testImgsNorm = testImgsNorm.reshape(list(testImgsNorm.shape) + [1])\n",
        "\n",
        "# X_test = np.stack([testImgsNorm[:, :, :, 0], testImgsNorm[:, :, :, 0], testImgsNorm[:, :, :, 0]], axis = -1)\n"
      ],
      "execution_count": 0,
      "outputs": []
    },
    {
      "metadata": {
        "id": "IbZ3KJcODx8Y",
        "colab_type": "code",
        "colab": {
          "base_uri": "https://localhost:8080/",
          "height": 197
        },
        "outputId": "743b1927-5fb4-476c-b00f-24dd514257ef"
      },
      "cell_type": "code",
      "source": [
        "# Y_pred = model.predict(X_test, verbose=1)\n",
        "\n",
        "chunkLength = 500\n",
        "\n",
        "for i in range(int(len(imgsTestTotal) / chunkLength)):\n",
        "\n",
        "    imgsTestChunk = imgsTestTotal[i * chunkLength:(i + 1) * chunkLength, :, :]\n",
        "\n",
        "    testImgsNorm = (imgsTestChunk - trainMean) / trainStd\n",
        "\n",
        "    testImgsNorm = testImgsNorm.reshape(list(testImgsNorm.shape) + [1])\n",
        "\n",
        "    X_test = np.stack([testImgsNorm[:, :, :, 0], testImgsNorm[:, :, :, 0], testImgsNorm[:, :, :, 0]], axis = -1)\n",
        "\n",
        "    Y_pred_chunk = model.predict(X_test, verbose=1)\n",
        "    \n",
        "    if i == 0:\n",
        "        Y_pred = Y_pred_chunk\n",
        "    else:\n",
        "        Y_pred = np.vstack((Y_pred, Y_pred_chunk))"
      ],
      "execution_count": 0,
      "outputs": [
        {
          "output_type": "stream",
          "text": [
            "500/500 [==============================] - 6s 12ms/step\n",
            "500/500 [==============================] - 3s 7ms/step\n",
            "500/500 [==============================] - 3s 7ms/step\n",
            "500/500 [==============================] - 3s 7ms/step\n",
            "500/500 [==============================] - 3s 7ms/step\n",
            "500/500 [==============================] - 3s 7ms/step\n",
            "500/500 [==============================] - 3s 7ms/step\n",
            "500/500 [==============================] - 3s 7ms/step\n",
            "500/500 [==============================] - 3s 7ms/step\n",
            "500/500 [==============================] - 3s 7ms/step\n"
          ],
          "name": "stdout"
        }
      ]
    },
    {
      "metadata": {
        "id": "D073gdBmEeap",
        "colab_type": "code",
        "colab": {
          "base_uri": "https://localhost:8080/",
          "height": 287
        },
        "outputId": "f31d70ff-b1eb-4738-a5e1-bd15bb3eab42"
      },
      "cell_type": "code",
      "source": [
        "X_ticks = np.zeros(len(Y_pred))\n",
        "\n",
        "for i in range(len(X_ticks)):\n",
        "    X_ticks[i] = float(filesTestTotal[i].replace('\\\\', '/').split('/')[-1].split('_')[0][1:-1])\n",
        "    \n",
        "\n",
        "plt.plot(X_ticks, Y_pred[:, 1], '.')\n",
        "\n",
        "# Need to match file name with x axis"
      ],
      "execution_count": 0,
      "outputs": [
        {
          "output_type": "execute_result",
          "data": {
            "text/plain": [
              "[<matplotlib.lines.Line2D at 0x183757f4cc0>]"
            ]
          },
          "metadata": {
            "tags": []
          },
          "execution_count": 8
        },
        {
          "output_type": "display_data",
          "data": {
            "text/plain": [
              "<Figure size 432x288 with 1 Axes>"
            ],
            "image/png": "[encoded data removed]"
          },
          "metadata": {
            "tags": [],
            "needs_background": "light"
          }
        }
      ]
    },
    {
      "metadata": {
        "id": "nRvCCfSlW1kP",
        "colab_type": "code",
        "colab": {
          "base_uri": "https://localhost:8080/",
          "height": 657
        },
        "outputId": "73843337-11a8-473b-dd1f-a1cce7cd2e91"
      },
      "cell_type": "code",
      "source": [
        "X_ticks = np.zeros(len(Y_pred))\n",
        "\n",
        "for i in range(len(X_ticks)):\n",
        "    X_ticks[i] = float(filesTestTotal[i].replace('\\\\', '/').split('/')[-1].split('_')[0][1:-1])\n",
        "\n",
        "plt.figure(figsize=(10, 8))\n",
        "plt.gca().set_facecolor((0.90, 0.90, 0.95))\n",
        "plt.grid(color='w', linestyle='-', linewidth=1)\n",
        "for i in range(len(X_ticks)):\n",
        "    normalC = np.asarray([0, 0.6, 1])\n",
        "    faultC = np.asarray([0.8, 0, 0])\n",
        "    dotC = Y_pred[i, 1] * faultC + (1 - Y_pred[i, 1]) * normalC\n",
        "    plt.plot(X_ticks[i], Y_pred[i, 1], '.', color=dotC)\n",
        "\n",
        "\n",
        "# plt.xticks([0, 0.4, 0.8, 1.2, 1.6, 2.0], fontsize=16)\n",
        "# plt.xlabel('Frequency(Hz)', fontsize=36, labelpad = 24)\n",
        "\n",
        "# plt.xticks([0, 0.8, 1.6, 2.4, 3.2, 4.0], fontsize=16)\n",
        "# plt.xlabel('Pitch(Hz)', fontsize=36, labelpad = 24)\n",
        "\n",
        "plt.xticks([0.5, 1.5, 2.5, 3.5, 4.5, 5.5], fontsize=16)\n",
        "plt.xlabel('Power', fontsize=36, labelpad = 24)\n",
        "\n",
        "plt.yticks([0, 0.25, 0.5, 0.75, 1.0], fontsize=16)\n",
        "\n",
        "# plt.ylabel('Fault Probability', fontsize=36, labelpad = 24)\n",
        "# plt.gca().get_yaxis().set_visible(False)"
      ],
      "execution_count": 0,
      "outputs": [
        {
          "output_type": "execute_result",
          "data": {
            "text/plain": [
              "([<matplotlib.axis.YTick at 0x184f72b8160>,\n",
              "  <matplotlib.axis.YTick at 0x184f72b39e8>,\n",
              "  <matplotlib.axis.YTick at 0x184f72cba58>,\n",
              "  <matplotlib.axis.YTick at 0x184fadc13c8>,\n",
              "  <matplotlib.axis.YTick at 0x184fadc1908>],\n",
              " <a list of 5 Text yticklabel objects>)"
            ]
          },
          "metadata": {
            "tags": []
          },
          "execution_count": 20
        },
        {
          "output_type": "display_data",
          "data": {
            "text/plain": [
              "<Figure size 720x576 with 1 Axes>"
            ],
            "image/png": "[encoded data removed]"
          },
          "metadata": {
            "tags": [],
            "needs_background": "light"
          }
        }
      ]
    },
    {
      "metadata": {
        "id": "MMsscfbdH94L",
        "colab_type": "code",
        "colab": {
          "base_uri": "https://localhost:8080/",
          "height": 287
        },
        "outputId": "fc49a223-d17a-4068-af0d-af0a2c782ced"
      },
      "cell_type": "code",
      "source": [
        "from operator import itemgetter\n",
        "\n",
        "x = np.stack((X_ticks, Y_pred[:, 1])).T\n",
        "y = np.asarray(sorted(x, key=lambda x: x[0]))\n",
        "# plt.plot(x[:, 0], x[:, 1])\n",
        "plt.plot(y[:, 0], y[:, 1])"
      ],
      "execution_count": 0,
      "outputs": [
        {
          "output_type": "execute_result",
          "data": {
            "text/plain": [
              "[<matplotlib.lines.Line2D at 0x184dae54400>]"
            ]
          },
          "metadata": {
            "tags": []
          },
          "execution_count": 10
        },
        {
          "output_type": "display_data",
          "data": {
            "text/plain": [
              "<Figure size 432x288 with 1 Axes>"
            ],
            "image/png": "[encoded data removed]"
          },
          "metadata": {
            "tags": [],
            "needs_background": "light"
          }
        }
      ]
    },
    {
      "metadata": {
        "id": "YWXttnb9PYVe",
        "colab_type": "code",
        "colab": {
          "base_uri": "https://localhost:8080/",
          "height": 521
        },
        "outputId": "a6acd80f-59ee-46aa-81b4-69d8e7a3ad02"
      },
      "cell_type": "code",
      "source": [
        "z = [round(val) for val in y[:, 1]]\n",
        "pit = y[:, 0]\n",
        "plt.plot(pit, z, '.')\n",
        "plt.show()\n",
        "\n",
        "plt.plot(pit, z, '.')\n",
        "plt.xlim((0.7, 1.1))\n",
        "plt.show()"
      ],
      "execution_count": 0,
      "outputs": [
        {
          "output_type": "display_data",
          "data": {
            "text/plain": [
              "<Figure size 432x288 with 1 Axes>"
            ],
            "image/png": "[encoded data removed]"
          },
          "metadata": {
            "tags": [],
            "needs_background": "light"
          }
        },
        {
          "output_type": "display_data",
          "data": {
            "text/plain": [
              "<Figure size 432x288 with 1 Axes>"
            ],
            "image/png": "[encoded data removed]"
          },
          "metadata": {
            "tags": [],
            "needs_background": "light"
          }
        }
      ]
    },
    {
      "metadata": {
        "id": "txrL-faGQcNl",
        "colab_type": "code",
        "colab": {
          "base_uri": "https://localhost:8080/",
          "height": 521
        },
        "outputId": "51347a4a-6862-42e1-a580-872d4c5b0d44"
      },
      "cell_type": "code",
      "source": [
        "N = 50\n",
        "zMovMean = np.convolve(z, np.ones((N,))/N, mode='same')\n",
        "y2MovMean = np.convolve(y[:, 1], np.ones((N,))/N, mode='same')\n",
        "\n",
        "\n",
        "plt.plot(pit, zMovMean)\n",
        "plt.show()\n",
        "\n",
        "plt.plot(pit, y2MovMean)\n",
        "plt.show()"
      ],
      "execution_count": 0,
      "outputs": [
        {
          "output_type": "display_data",
          "data": {
            "text/plain": [
              "<Figure size 432x288 with 1 Axes>"
            ],
            "image/png": "[encoded data removed]"
          },
          "metadata": {
            "tags": [],
            "needs_background": "light"
          }
        },
        {
          "output_type": "display_data",
          "data": {
            "text/plain": [
              "<Figure size 432x288 with 1 Axes>"
            ],
            "image/png": "[encoded data removed]"
          },
          "metadata": {
            "tags": [],
            "needs_background": "light"
          }
        }
      ]
    },
    {
      "metadata": {
        "id": "bTYv9i53RQwy",
        "colab_type": "code",
        "colab": {
          "base_uri": "https://localhost:8080/",
          "height": 35
        },
        "outputId": "03783944-55c6-4263-e8f1-af99653e7610"
      },
      "cell_type": "code",
      "source": [
        "y[:, 1]\n",
        "zMovMean"
      ],
      "execution_count": 0,
      "outputs": [
        {
          "output_type": "execute_result",
          "data": {
            "text/plain": [
              "array([0.  , 0.  , 0.  , ..., 0.56, 0.54, 0.52])"
            ]
          },
          "metadata": {
            "tags": []
          },
          "execution_count": 13
        }
      ]
    }
  ]
}