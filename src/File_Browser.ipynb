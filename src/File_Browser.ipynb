{
  "nbformat": 4,
  "nbformat_minor": 0,
  "metadata": {
    "colab": {
      "name": "File_Browser.ipynb",
      "version": "0.3.2",
      "provenance": [],
      "include_colab_link": true
    },
    "kernelspec": {
      "name": "python3",
      "display_name": "Python 3"
    }
  },
  "cells": [
    {
      "cell_type": "markdown",
      "metadata": {
        "id": "view-in-github",
        "colab_type": "text"
      },
      "source": [
        "[View in Colaboratory](https://colab.research.google.com/github/Joovvhan/Master-Thesis/blob/master/src/File_Browser.ipynb)"
      ]
    },
    {
      "metadata": {
        "id": "ZBn9bngNOzlo",
        "colab_type": "code",
        "colab": {
          "base_uri": "https://localhost:8080/",
          "height": 35
        },
        "outputId": "778fc941-2a2a-44ab-d765-3c21b857da38"
      },
      "cell_type": "code",
      "source": [
        "from google.colab import drive\n",
        "import os\n",
        "import glob\n",
        "\n",
        "drive.mount('/content/gdrive')\n",
        "os.listdir('gdrive/My Drive/Colab')\n",
        "dataPath = 'gdrive/My Drive/Colab/Data'"
      ],
      "execution_count": 2,
      "outputs": [
        {
          "output_type": "stream",
          "text": [
            "Mounted at /content/gdrive\n"
          ],
          "name": "stdout"
        }
      ]
    },
    {
      "metadata": {
        "id": "ldkDl_LHPkqk",
        "colab_type": "code",
        "colab": {
          "base_uri": "https://localhost:8080/",
          "height": 2285
        },
        "outputId": "2042e4fe-e970-4b63-fcf5-33a250cf7184"
      },
      "cell_type": "code",
      "source": [
        "folderList = os.listdir(dataPath)\n",
        "sum = 0\n",
        "\n",
        "for folder in folderList:\n",
        "    wavFileList = glob.glob(dataPath + '/' + folder + '/*wav')\n",
        "    print('{}: {}'.format(folder, len(wavFileList)))\n",
        "    sum += len(wavFileList)\n",
        "    \n",
        "print(sum)"
      ],
      "execution_count": 9,
      "outputs": [
        {
          "output_type": "stream",
          "text": [
            "A5F3P5: 1000\n",
            "A5F3P3: 1000\n",
            "A5F3P2: 1000\n",
            "A5F3P1: 1000\n",
            "A5F3P4: 1000\n",
            "A5F4P1: 1000\n",
            "A5F5P5: 1000\n",
            "A5F5P1: 1000\n",
            "A5F5P2: 1000\n",
            "A5F5P4: 1000\n",
            "A5F5P3: 1000\n",
            "A5F4P5: 1000\n",
            "A5F4P3: 1000\n",
            "A5F4P4: 1000\n",
            "A5F4P2: 1000\n",
            "A5F2P1: 1000\n",
            "A5F2P2: 1000\n",
            "A5F2P5: 1000\n",
            "A5F2P4: 1000\n",
            "A5F2P3: 1000\n",
            "A4F5P1: 1000\n",
            "A5F1P1: 1000\n",
            "A5F1P2: 1000\n",
            "A5F1P3: 1000\n",
            "A5F1P5: 1000\n",
            "A5F1P4: 1000\n",
            "A4F5P2: 1000\n",
            "A4F5P5: 1000\n",
            "A4F5P4: 1000\n",
            "A4F5P3: 1000\n",
            "A4F3P4: 1000\n",
            "A4F3P3: 1000\n",
            "A4F3P2: 1000\n",
            "A4F3P5: 1000\n",
            "A4F3P1: 1000\n",
            "A4F4P5: 1000\n",
            "A4F2P1: 1000\n",
            "A4F2P5: 1000\n",
            "A4F4P4: 1000\n",
            "A4F4P3: 1000\n",
            "A4F2P4: 1000\n",
            "A4F4P2: 1000\n",
            "A4F2P2: 1000\n",
            "A4F4P1: 1000\n",
            "A4F2P3: 1000\n",
            "A4F1P1: 1000\n",
            "A3F4P3: 1000\n",
            "A3F5P3: 1000\n",
            "A4F1P3: 1000\n",
            "A4F1P2: 1000\n",
            "A4F1P5: 1000\n",
            "A4F1P4: 1000\n",
            "A3F4P2: 1000\n",
            "A3F5P4: 1000\n",
            "A3F5P2: 1000\n",
            "A3F5P5: 1000\n",
            "A3F4P4: 1000\n",
            "A3F5P1: 1000\n",
            "A3F4P1: 1000\n",
            "A3F4P5: 1000\n",
            "A3F2P3: 1000\n",
            "A3F3P1: 1000\n",
            "A3F3P5: 1000\n",
            "A3F3P3: 1000\n",
            "A3F2P1: 1000\n",
            "A3F2P2: 1000\n",
            "A3F2P5: 1000\n",
            "A3F3P4: 1000\n",
            "A3F2P4: 1000\n",
            "A3F3P2: 1000\n",
            "A3F1P3: 1000\n",
            "A3F1P5: 1000\n",
            "A3F1P1: 1000\n",
            "A2F5P4: 1000\n",
            "A3F1P4: 1000\n",
            "A2F5P2: 1000\n",
            "A2F5P5: 1000\n",
            "A2F5P1: 1000\n",
            "A2F5P3: 1000\n",
            "A3F1P2: 1000\n",
            "A2F4P3: 1000\n",
            "A2F3P1: 1000\n",
            "A2F4P4: 1000\n",
            "A2F4P5: 1000\n",
            "A2F3P4: 1000\n",
            "A2F3P3: 1000\n",
            "A2F3P5: 1000\n",
            "A2F3P2: 1000\n",
            "A2F4P2: 1000\n",
            "A2F4P1: 1000\n",
            "A2F2P5: 1000\n",
            "A2F1P3: 1000\n",
            "A2F1P1: 1000\n",
            "A2F1P4: 1000\n",
            "A2F1P5: 1000\n",
            "A2F1P2: 1000\n",
            "A2F2P1: 1000\n",
            "A2F2P4: 1000\n",
            "A2F2P3: 1000\n",
            "A2F2P2: 1000\n",
            "A1F5P5: 1000\n",
            "A1F5P3: 1000\n",
            "A1F5P2: 1000\n",
            "A1F3P3: 1000\n",
            "A1F2P2: 1000\n",
            "A1F2P1: 1000\n",
            "A1F3P5: 1000\n",
            "A1F1P1: 1061\n",
            "A1F1P2: 1000\n",
            "A1F1P3: 1000\n",
            "A1F1P4: 1000\n",
            "A1F1P5: 1000\n",
            "A1F3P1: 1000\n",
            "A1F3P2: 1000\n",
            "A1F3P4: 1000\n",
            "A1F2P5: 1000\n",
            "A1F2P3: 1000\n",
            "A1F2P4: 1000\n",
            "A1F4P2: 1000\n",
            "A1F4P3: 1000\n",
            "A1F4P1: 1000\n",
            "A1F4P5: 1000\n",
            "A1F4P4: 1000\n",
            "A1F5P1: 1000\n",
            "A1F5P4: 1000\n",
            "125061\n"
          ],
          "name": "stdout"
        }
      ]
    }
  ]
}