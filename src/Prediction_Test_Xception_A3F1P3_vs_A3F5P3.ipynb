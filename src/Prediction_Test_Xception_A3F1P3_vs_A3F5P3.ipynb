{
  "nbformat": 4,
  "nbformat_minor": 0,
  "metadata": {
    "colab": {
      "name": "Prediction Test Xception A3F1P3 vs A3F5P3.ipynb",
      "version": "0.3.2",
      "provenance": [],
      "include_colab_link": true
    },
    "kernelspec": {
      "name": "python3",
      "display_name": "Python 3"
    },
    "accelerator": "GPU"
  },
  "cells": [
    {
      "cell_type": "markdown",
      "metadata": {
        "id": "view-in-github",
        "colab_type": "text"
      },
      "source": [
        "[View in Colaboratory](https://colab.research.google.com/github/Joovvhan/Master-Thesis/blob/master/src/Prediction_Test_Xception_A3F1P3_vs_A3F5P3.ipynb)"
      ]
    },
    {
      "metadata": {
        "id": "trufzUj0TtaB",
        "colab_type": "code",
        "colab": {}
      },
      "cell_type": "code",
      "source": [
        "# Import library\n",
        "import os\n",
        "import glob\n"
      ],
      "execution_count": 0,
      "outputs": []
    },
    {
      "metadata": {
        "id": "ouO8oBRESKlo",
        "colab_type": "code",
        "colab": {
          "base_uri": "https://localhost:8080/",
          "height": 142
        },
        "outputId": "f3ac84c2-8bf5-4906-b4ae-d285fb2fe3f0"
      },
      "cell_type": "code",
      "source": [
        "# Mount google drive\n",
        "\n",
        "from google.colab import drive\n",
        "\n",
        "drive.mount('/content/gdrive')\n",
        "os.listdir('gdrive/My Drive/Colab')"
      ],
      "execution_count": 3,
      "outputs": [
        {
          "output_type": "stream",
          "text": [
            "Go to this URL in a browser: https://accounts.google.com/o/oauth2/auth?client_id=947318989803-6bn6qk8qdgf4n4g3pfee6491hc0brc4i.apps.googleusercontent.com&redirect_uri=urn%3Aietf%3Awg%3Aoauth%3A2.0%3Aoob&scope=email%20https%3A%2F%2Fwww.googleapis.com%2Fauth%2Fdocs.test%20https%3A%2F%2Fwww.googleapis.com%2Fauth%2Fdrive%20https%3A%2F%2Fwww.googleapis.com%2Fauth%2Fdrive.photos.readonly%20https%3A%2F%2Fwww.googleapis.com%2Fauth%2Fpeopleapi.readonly&response_type=code\n",
            "\n",
            "Enter your authorization code:\n",
            "··········\n",
            "Mounted at /content/gdrive\n"
          ],
          "name": "stdout"
        },
        {
          "output_type": "execute_result",
          "data": {
            "text/plain": [
              "['Model', 'Data']"
            ]
          },
          "metadata": {
            "tags": []
          },
          "execution_count": 3
        }
      ]
    },
    {
      "metadata": {
        "id": "rpi5cqAkSf2W",
        "colab_type": "code",
        "colab": {
          "base_uri": "https://localhost:8080/",
          "height": 228
        },
        "outputId": "7342bc21-b810-4563-ae60-a14c2015b26a"
      },
      "cell_type": "code",
      "source": [
        "from keras.models import load_model\n",
        "\n",
        "# Set model path\n",
        "\n",
        "modelPath = 'gdrive/My Drive/Colab/Model'\n",
        "\n",
        "dataPath = 'gdrive/My Drive/Colab/Data'\n",
        "\n",
        "modelList = glob.glob(modelPath + '/*h5')\n",
        "    \n",
        "numberModel = np.inf\n",
        "    \n",
        "while numberModel >= len(modelList): \n",
        "\n",
        "    for i in range(len(modelList)):\n",
        "        print('#{:d}: {}'.format(i, modelList[i]))\n",
        "    \n",
        "    numberModel = int(input('Type In Your Model Number:\\n'))\n",
        "\n",
        "    if numberModel < len(modelList):\n",
        "        print('Loading {}'.format(modelList[numberModel]))    \n",
        "        model = load_model(modelList[numberModel])\n",
        "        print('Loading Completed')    \n",
        "    else:\n",
        "        print('Invalid Model Number\\n')\n",
        "        \n"
      ],
      "execution_count": 20,
      "outputs": [
        {
          "output_type": "stream",
          "text": [
            "#0: gdrive/My Drive/Colab/Model/A3F1P3-A3F5P3_Xception_10-06-17:14:18.h5\n",
            "#1: gdrive/My Drive/Colab/Model/A3F1P3 vs A3F5P3 ResNet50 10-06 05:30:50.h5\n",
            "Type In Your Model Number:\n",
            "2\n",
            "Invalid Model Number\n",
            "\n",
            "#0: gdrive/My Drive/Colab/Model/A3F1P3-A3F5P3_Xception_10-06-17:14:18.h5\n",
            "#1: gdrive/My Drive/Colab/Model/A3F1P3 vs A3F5P3 ResNet50 10-06 05:30:50.h5\n",
            "Type In Your Model Number:\n",
            "0\n",
            "Loading gdrive/My Drive/Colab/Model/A3F1P3-A3F5P3_Xception_10-06-17:14:18.h5\n",
            "Loading Completed\n"
          ],
          "name": "stdout"
        }
      ]
    },
    {
      "metadata": {
        "id": "QsBhb9GsclLM",
        "colab_type": "code",
        "colab": {
          "base_uri": "https://localhost:8080/",
          "height": 34
        },
        "outputId": "68f5ddf7-6d40-4012-849c-58d29c31f721"
      },
      "cell_type": "code",
      "source": [
        "creationDate = modelList[numberModel].split('_')[-1].replace('.h5', '')\n",
        "\n",
        "modelParamList = glob.glob(modelPath + '/*.npy')\n",
        "modelParam = [param for param in modelParamList if creationDate in param]\n",
        "\n",
        "print('Parameter npy File List: {}'.format(modelParam))\n",
        "\n",
        "trainMean = float(np.load([param for param in modelParam if 'mean' in param][0]))\n",
        "trainStd = float(np.load([param for param in modelParam if 'std' in param][0]))"
      ],
      "execution_count": 54,
      "outputs": [
        {
          "output_type": "stream",
          "text": [
            "Parameter npy File List: ['gdrive/My Drive/Colab/Model/std_10-06-17:14:18.npy', 'gdrive/My Drive/Colab/Model/mean_10-06-17:14:18.npy']\n"
          ],
          "name": "stdout"
        }
      ]
    },
    {
      "metadata": {
        "id": "7qL4qYE3WEEl",
        "colab_type": "code",
        "colab": {
          "base_uri": "https://localhost:8080/",
          "height": 52
        },
        "outputId": "78f31d67-9b44-4d35-83fe-d8bb7d09c86e"
      },
      "cell_type": "code",
      "source": [
        "dataPath = 'gdrive/My Drive/Colab/Data'\n",
        "\n",
        "foldersTest = ['A3F2P3', 'A3F3P3', 'A3F4P3']\n",
        "\n",
        "pathTests = [dataPath + '/' + folder for folder in foldersTest]\n",
        "print(pathTests)\n",
        "\n",
        "filesTest = list()\n",
        "\n",
        "for i in range(len(foldersTest)):\n",
        "    filesTest = filesTest + (glob.glob(pathTests[i] + '/*.wav'))\n",
        "    \n",
        "print(len(filesTest))"
      ],
      "execution_count": 55,
      "outputs": [
        {
          "output_type": "stream",
          "text": [
            "['gdrive/My Drive/Colab/Data/A3F2P3', 'gdrive/My Drive/Colab/Data/A3F3P3', 'gdrive/My Drive/Colab/Data/A3F4P3']\n",
            "3000\n"
          ],
          "name": "stdout"
        }
      ]
    },
    {
      "metadata": {
        "id": "DZq4XebhsEJD",
        "colab_type": "code",
        "colab": {
          "base_uri": "https://localhost:8080/",
          "height": 87
        },
        "outputId": "c1533265-5b6e-4c46-b6c1-36d40f2d2368"
      },
      "cell_type": "code",
      "source": [
        "from tqdm import trange\n",
        "import numpy as np\n",
        "import matplotlib.pyplot as plt\n",
        "import scipy.io.wavfile as wf\n",
        "\n",
        "nsc = 1470\n",
        "nov = nsc/2\n",
        "nff = nsc\n",
        "\n",
        "imgSize = 224\n",
        "\n",
        "imgsTestList = list()\n",
        "\n",
        "for i in range(len(pathTests)):\n",
        "\n",
        "    npyTestPath = glob.glob(pathTests[i] + '/' + '*.npy')\n",
        "    \n",
        "    if (len(npyTestPath) == 1):\n",
        "        imgsTest = np.load(npyTestPath[0])\n",
        "\n",
        "    else:\n",
        "        \n",
        "        filesTest = glob.glob(pathTests[i] + '/*.wav')\n",
        "        \n",
        "        imgsTest = np.zeros([len(filesTest), imgSize, imgSize])\n",
        "\n",
        "        for j in trange(len(filesTest)):\n",
        "            fs, dataInt16 = wf.read(filesTest[j])\n",
        "            dataFloat = dataInt16 / (2 ** 15)\n",
        "            Pxx, _, _, _ = plt.specgram(dataFloat, NFFT=nff, Fs=fs, noverlap=nov, \\\n",
        "                                               window=np.hamming(nsc), cmap='viridis')\n",
        "            plt.close()\n",
        "            imgsTest[j, :, :] = 10 * np.log10(Pxx[0:imgSize, :])\n",
        "\n",
        "        np.save(pathTests[i] + '/' + foldersTest[i] + '.npy', imgsTest)\n",
        "\n",
        "    print('Test Image Shape From {}: {}'.format(foldersTest[i], imgsTest.shape))    \n",
        "    \n",
        "    imgsTestList.append(imgsTest)\n",
        "    \n",
        "imgsTestTotal = np.vstack(imgsTestList)\n",
        "\n",
        "print('Test Image Shape From {}: {}'.format(foldersTest, imgsTestTotal.shape))    \n",
        "    "
      ],
      "execution_count": 56,
      "outputs": [
        {
          "output_type": "stream",
          "text": [
            "Test Image Shape From A3F2P3: (1000, 224, 224)\n",
            "Test Image Shape From A3F3P3: (1000, 224, 224)\n",
            "Test Image Shape From A3F4P3: (1000, 224, 224)\n",
            "Test Image Shape From ['A3F2P3', 'A3F3P3', 'A3F4P3']: (3000, 224, 224)\n"
          ],
          "name": "stdout"
        }
      ]
    },
    {
      "metadata": {
        "id": "Dek0RAZr8_dP",
        "colab_type": "code",
        "colab": {}
      },
      "cell_type": "code",
      "source": [
        "# Add saving mean and std with model\n",
        "\n",
        "testImgsNorm = (imgsTestTotal - trainMean) / trainStd\n",
        "\n",
        "testImgsNorm = testImgsNorm.reshape(list(testImgsNorm.shape) + [1])\n",
        "\n",
        "X_test = np.stack([testImgsNorm[:, :, :, 0], testImgsNorm[:, :, :, 0], testImgsNorm[:, :, :, 0]], axis = -1)\n"
      ],
      "execution_count": 0,
      "outputs": []
    },
    {
      "metadata": {
        "id": "IbZ3KJcODx8Y",
        "colab_type": "code",
        "colab": {
          "base_uri": "https://localhost:8080/",
          "height": 34
        },
        "outputId": "fdfabefb-18fa-4000-8212-736ade89a418"
      },
      "cell_type": "code",
      "source": [
        "Y_pred = model.predict(X_test, verbose=1)"
      ],
      "execution_count": 59,
      "outputs": [
        {
          "output_type": "stream",
          "text": [
            "3000/3000 [==============================] - 43s 14ms/step\n"
          ],
          "name": "stdout"
        }
      ]
    },
    {
      "metadata": {
        "id": "D073gdBmEeap",
        "colab_type": "code",
        "colab": {
          "base_uri": "https://localhost:8080/",
          "height": 365
        },
        "outputId": "5a6916ad-fc1b-42b8-8b83-0720b6e5f08c"
      },
      "cell_type": "code",
      "source": [
        "X_ticks = np.zeros(len(Y_pred))\n",
        "\n",
        "for i in range(len(X_ticks)):\n",
        "    X_ticks[i] = float(filesTest[i].split('/')[-1].split('_')[1][1:-1])\n",
        "    \n",
        "\n",
        "plt.plot(X_ticks, Y_pred[:, 1], '.')\n",
        "\n",
        "# Need to match file name with x axis"
      ],
      "execution_count": 63,
      "outputs": [
        {
          "output_type": "execute_result",
          "data": {
            "text/plain": [
              "[<matplotlib.lines.Line2D at 0x7fca15e3c0f0>]"
            ]
          },
          "metadata": {
            "tags": []
          },
          "execution_count": 63
        },
        {
          "output_type": "display_data",
          "data": {
            "image/png": "[encoded data removed]",
            "text/plain": [
              "<matplotlib.figure.Figure at 0x7fcbe11d92e8>"
            ]
          },
          "metadata": {
            "tags": []
          }
        }
      ]
    },
    {
      "metadata": {
        "id": "MMsscfbdH94L",
        "colab_type": "code",
        "colab": {
          "base_uri": "https://localhost:8080/",
          "height": 365
        },
        "outputId": "dc848cbe-406e-4f25-a927-fc39cc77a6d4"
      },
      "cell_type": "code",
      "source": [
        "from operator import itemgetter\n",
        "\n",
        "x = np.stack((X_ticks, Y_pred[:, 1])).T\n",
        "y = np.asarray(sorted(x, key=lambda x: x[0]))\n",
        "# plt.plot(x[:, 0], x[:, 1])\n",
        "plt.plot(y[:, 0], y[:, 1])"
      ],
      "execution_count": 61,
      "outputs": [
        {
          "output_type": "execute_result",
          "data": {
            "text/plain": [
              "[<matplotlib.lines.Line2D at 0x7fca15ef6b00>]"
            ]
          },
          "metadata": {
            "tags": []
          },
          "execution_count": 61
        },
        {
          "output_type": "display_data",
          "data": {
            "image/png": "[encoded data removed]",
            "text/plain": [
              "<matplotlib.figure.Figure at 0x7fcc24c1d5f8>"
            ]
          },
          "metadata": {
            "tags": []
          }
        }
      ]
    }
  ]
}