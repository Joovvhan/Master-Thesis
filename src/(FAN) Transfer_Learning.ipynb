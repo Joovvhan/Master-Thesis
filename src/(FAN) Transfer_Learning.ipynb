{
  "nbformat": 4,
  "nbformat_minor": 0,
  "metadata": {
    "colab": {
      "name": "Transfer Learning Clean Up.ipynb",
      "version": "0.3.2",
      "provenance": [],
      "include_colab_link": true
    },
    "kernelspec": {
      "name": "python3",
      "display_name": "Python 3"
    },
    "accelerator": "GPU"
  },
  "cells": [
    {
      "cell_type": "markdown",
      "metadata": {
        "id": "view-in-github",
        "colab_type": "text"
      },
      "source": [
        "<a href=\"https://colab.research.google.com/github/Joovvhan/Master-Thesis/blob/master/src/(FAN)%20Transfer_Learning.ipynb\" target=\"_parent\"><img src=\"https://colab.research.google.com/assets/colab-badge.svg\" alt=\"Open In Colab\"/></a>"
      ]
    },
    {
      "metadata": {
        "id": "c3821KWLNey6",
        "colab_type": "code",
        "outputId": "19399946-73c2-478c-fe88-18ac0b356905",
        "colab": {
          "base_uri": "https://localhost:8080/",
          "height": 35
        }
      },
      "cell_type": "code",
      "source": [
        "# Import necessary modules\n",
        "\n",
        "import os\n",
        "import matplotlib.pyplot as plt\n",
        "import numpy as np\n",
        "import scipy.io.wavfile as wf\n",
        "import time\n",
        "import glob\n",
        "import datetime\n",
        "\n",
        "from tqdm import trange\n",
        "\n",
        "# Import Keras modules\n",
        "\n",
        "from keras.preprocessing import image\n",
        "from keras.layers import Input, Flatten, Dense, Dropout, GlobalAveragePooling2D\n",
        "from keras.models import Sequential\n",
        "from keras import backend as K\n",
        "from keras.models import load_model\n"
      ],
      "execution_count": 0,
      "outputs": [
        {
          "output_type": "stream",
          "text": [
            "Using TensorFlow backend.\n"
          ],
          "name": "stderr"
        }
      ]
    },
    {
      "metadata": {
        "id": "nxSASpgF7unA",
        "colab_type": "code",
        "colab": {}
      },
      "cell_type": "code",
      "source": [
        "# Mount google drive\n",
        "\n",
        "# from google.colab import drive\n",
        "# drive.mount('/content/gdrive')\n",
        "# os.listdir('gdrive/My Drive/Colab')"
      ],
      "execution_count": 0,
      "outputs": []
    },
    {
      "metadata": {
        "id": "rw9NU8Xjwcz2",
        "colab_type": "code",
        "colab": {}
      },
      "cell_type": "code",
      "source": [
        "# Set data directories\n",
        "\n",
        "# dataPath = 'gdrive/My Drive/Colab/Data'\n",
        "dataPath = '''D:\\\\0_Joowhan's Paper\\\\Synthesized\\\\Total'''\n",
        "modelPath = '''D:/0_Joowhan's Paper/Synthesized/Total/Model'''\n",
        "\n",
        "# Changed variable names to normal and fault\n",
        "# Changed variable names from folder to path\n",
        "# Need to consider multiple folders\n",
        "# Need to add files to be tested\n",
        "\n",
        "# folderNormal = 'A3F1P3'\n",
        "# folderFault = 'A3F5P3'\n",
        "\n",
        "folderNormal = ['A1F1P1', 'A2F1P1', 'A1F2P1', 'A1F1P2', 'A2F2P1', 'A1F2P2', 'A2F1P2', 'A2F2P2']\n",
        "\n",
        "folderFault = list()\n",
        "\n",
        "for x in range(1, 6):\n",
        "    for y in range(1, 6):\n",
        "        for z in range(1, 6):\n",
        "            if (x == 5 or y == 5 or z == 5):\n",
        "                folderFault.append('A{}F{}P{}'.format(x, y, z))\n",
        "\n",
        "pathNormal = list()\n",
        "pathFault = list()\n",
        "\n",
        "for i in range(len(folderNormal)):\n",
        "    pathNormal.append(dataPath + '/' + folderNormal[i])\n",
        "    \n",
        "for i in range(len(folderFault)):\n",
        "    pathFault.append(dataPath + '/' + folderFault[i])\n",
        "\n",
        "normIdx = list()\n",
        "faultIdx = list()\n",
        "filesNormal = list()\n",
        "filesFault = list()\n",
        "\n",
        "for i in range(len(pathNormal)):\n",
        "    filesNormalTemp = os.listdir(pathNormal[i])\n",
        "    filesNormalTemp = [file for file in filesNormalTemp if file.endswith('.wav')]\n",
        "    \n",
        "    randIdx = np.random.choice(range(1000), round(2 * 1000/len(pathNormal)), replace=False)\n",
        "    randIdx.sort()\n",
        "    normIdx.append(randIdx)\n",
        "    \n",
        "    filesNormalSelected = [pathNormal[i] + '/' + filesNormalTemp[j] for j in randIdx]\n",
        "    \n",
        "    filesNormal = filesNormal + filesNormalSelected\n",
        "    \n",
        "    \n",
        "for i in range(len(pathFault)):\n",
        "    filesFaultTemp = os.listdir(pathFault[i])\n",
        "    filesFaultTemp = [file for file in filesFaultTemp if file.endswith('.wav')]\n",
        "    \n",
        "    randIdx = np.random.choice(range(1000), round(2 * 1000/len(pathFault)), replace=False)\n",
        "    randIdx.sort()\n",
        "    faultIdx.append(randIdx)\n",
        "    \n",
        "    filesFaultSelected = [pathFault[i] + '/' + filesFaultTemp[j] for j in randIdx]\n",
        "    \n",
        "    filesFault = filesFault + filesFaultSelected"
      ],
      "execution_count": 0,
      "outputs": []
    },
    {
      "metadata": {
        "id": "v-31z7C-eUEt",
        "colab_type": "code",
        "collapsed": true,
        "outputId": "2e512198-368b-4b03-d446-6f63d3bf149b",
        "colab": {
          "base_uri": "https://localhost:8080/",
          "height": 53
        }
      },
      "cell_type": "code",
      "source": [
        "print(len(filesNormal))\n",
        "print(len(filesFault))"
      ],
      "execution_count": 0,
      "outputs": [
        {
          "output_type": "stream",
          "text": [
            "2000\n",
            "2013\n"
          ],
          "name": "stdout"
        }
      ]
    },
    {
      "metadata": {
        "id": "xgGP7PZO-rTA",
        "colab_type": "code",
        "colab": {}
      },
      "cell_type": "code",
      "source": [
        "# Specgram settings\n",
        "\n",
        "nsc = 1470\n",
        "nov = nsc/2\n",
        "nff = nsc \n",
        "imgSize = 224\n",
        "\n",
        "pretrainedModel = 'VGG19'\n",
        "pretrainedModel = 'Xception'\n",
        "pretrainedModel = 'ResNet50'\n",
        "\n",
        "lastActivation = 'softmax'\n",
        "sizeBatch = 4\n",
        "numEpochs = 8\n",
        "verb = 1\n",
        "\n",
        "\n",
        "# Learning parameters\n",
        "\n",
        "trainingRatio = 0.8"
      ],
      "execution_count": 0,
      "outputs": []
    },
    {
      "metadata": {
        "id": "5AskF2qFT2xr",
        "colab_type": "code",
        "outputId": "e179de0e-d0e9-42a5-8533-5eeaf06d99b0",
        "colab": {
          "base_uri": "https://localhost:8080/",
          "height": 53
        }
      },
      "cell_type": "code",
      "source": [
        "# Execution confirmed with new variable names\n",
        "\n",
        "# Check whether npy file exists \n",
        "\n",
        "#npyNormalPath = glob.glob(pathNormal + '/' + '*.npy')\n",
        "\n",
        "\n",
        "if len(folderNormal) == 1:\n",
        "    npyNormalPath = glob.glob(pathNormal[0] + '/' + '*.npy')\n",
        "else:\n",
        "    npyNormalPath = list()\n",
        "    \n",
        "if (len(npyNormalPath) == 1):\n",
        "    imgsNormal = np.load(npyNormalPath[0])\n",
        "\n",
        "else:\n",
        "    imgsNormal = np.zeros([len(filesNormal), imgSize, imgSize])\n",
        "    \n",
        "    for i in trange(len(filesNormal)):\n",
        "        fs, dataInt16 = wf.read(filesNormal[i])\n",
        "        dataFloat = dataInt16 / (2 ** 15)\n",
        "        Pxx, _, _, _ = plt.specgram(dataFloat, NFFT=nff, Fs=fs, noverlap=nov, \\\n",
        "                                           window=np.hamming(nsc), cmap='viridis')\n",
        "        plt.close()\n",
        "        imgsNormal[i, :, :] = 10 * np.log10(Pxx[0:imgSize, :])\n",
        "        \n",
        "#     np.save(pathNormal + '/' + folderNormal + '.npy', imgsNormal)\n",
        "        \n",
        "print('Normal Image Shape: {}'.format(imgsNormal.shape))"
      ],
      "execution_count": 0,
      "outputs": [
        {
          "output_type": "stream",
          "text": [
            "100%|██████████████████████████████████████████████████████████████████████████████| 2000/2000 [01:27<00:00, 20.40it/s]\n"
          ],
          "name": "stderr"
        },
        {
          "output_type": "stream",
          "text": [
            "Normal Image Shape: (2000, 224, 224)\n"
          ],
          "name": "stdout"
        }
      ]
    },
    {
      "metadata": {
        "id": "P_MZtpk3Br_i",
        "colab_type": "code",
        "outputId": "6dc7948e-92b6-4df2-c4bf-641522b19eda",
        "colab": {
          "base_uri": "https://localhost:8080/",
          "height": 53
        }
      },
      "cell_type": "code",
      "source": [
        "# Execution confined with new varible names\n",
        "\n",
        "# Check whether npy file exists\n",
        "\n",
        "\n",
        "if len(folderFault) == 1:\n",
        "    npyFaultPath = glob.glob(pathFault[0] + '/' + '*.npy')\n",
        "else:\n",
        "    npyFaultPath = list()\n",
        "\n",
        "if (len(npyFaultPath) == 1):\n",
        "    imgsFault = np.load(npyFaultPath[0])\n",
        "\n",
        "else:\n",
        "    imgsFault = np.zeros([len(filesFault), imgSize, imgSize])\n",
        "\n",
        "    for i in trange(len(filesFault)):\n",
        "        fs, dataInt16 = wf.read(filesFault[i])\n",
        "        dataFloat = dataInt16 / (2 ** 15)\n",
        "        Pxx, _, _, _ = plt.specgram(dataFloat, NFFT=nff, Fs=fs, noverlap=nov, \\\n",
        "                                           window=np.hamming(nsc), cmap='viridis')\n",
        "        plt.close()\n",
        "        imgsFault[i, :, :] = 10 * np.log10(Pxx[0:imgSize, :])\n",
        "        \n",
        "#     np.save(pathFault + '/' + folderFault + '.npy', imgsFault)\n",
        "        \n",
        "print('Fault Image Shape: {}'.format(imgsFault.shape))"
      ],
      "execution_count": 0,
      "outputs": [
        {
          "output_type": "stream",
          "text": [
            "100%|██████████████████████████████████████████████████████████████████████████████| 2013/2013 [01:31<00:00, 22.10it/s]\n"
          ],
          "name": "stderr"
        },
        {
          "output_type": "stream",
          "text": [
            "Fault Image Shape: (2013, 224, 224)\n"
          ],
          "name": "stdout"
        }
      ]
    },
    {
      "metadata": {
        "id": "e91QsAurSkIP",
        "colab_type": "code",
        "outputId": "8aba1fb5-5c64-4b72-e500-15376ee1edab",
        "colab": {
          "base_uri": "https://localhost:8080/",
          "height": 215
        }
      },
      "cell_type": "code",
      "source": [
        "# Change name from imgsF1 or imgsF5 to imgsNormal and imgsFault\n",
        "\n",
        "dataNumNormal = len(imgsNormal)\n",
        "dataNumFault = len(imgsFault)\n",
        "dataNumNormalTrain = int(dataNumNormal * trainingRatio)\n",
        "dataNumFaultTrain = int(dataNumFault * trainingRatio)\n",
        "dataNumNormalTest = dataNumNormal - dataNumNormalTrain\n",
        "dataNumFaultTest = dataNumFault - dataNumFaultTrain\n",
        "\n",
        "print('Normal Train:Test = {:d}:{:d}'.format(dataNumNormalTrain, dataNumNormalTest))\n",
        "print('Fault  Train:Test = {:d}:{:d}\\n'.format(dataNumFaultTrain, dataNumFaultTest))\n",
        "\n",
        "trainIdxNormal = np.random.choice(dataNumNormal - 1, dataNumNormalTrain, replace=False)\n",
        "testIdxNormal = list(set(range(0, dataNumNormal)) - set(trainIdxNormal))\n",
        "\n",
        "trainImgsNormal = imgsNormal[trainIdxNormal, :, :]\n",
        "testImgsNormal = imgsNormal[testIdxNormal, :, :]\n",
        "\n",
        "print('Normal Training Image Shape {}'.format(trainImgsNormal.shape))\n",
        "print('Normal Test Image Shape {}\\n'.format(testImgsNormal.shape))\n",
        "\n",
        "trainIdxFault  = np.random.choice(dataNumFault - 1, dataNumFaultTrain, replace=False)\n",
        "testIdxFault = list(set(range(0, dataNumFault)) - set(trainIdxFault))\n",
        "\n",
        "trainImgsFault = imgsFault[trainIdxFault, :, :]\n",
        "testImgsFault = imgsFault[testIdxFault, :, :]\n",
        "\n",
        "print('Fault Training Image Shape {}'.format(trainImgsFault.shape))\n",
        "print('Fault Test Image Shape {}\\n'.format(testImgsFault.shape))\n",
        "\n",
        "trainImgs = np.vstack([trainImgsNormal, trainImgsFault])\n",
        "testImgs = np.vstack([testImgsNormal, testImgsFault])\n",
        "\n",
        "print('Training Image Shape {}'.format(trainImgs.shape))\n",
        "print('Test Image Shape {}'.format(testImgs.shape))"
      ],
      "execution_count": 0,
      "outputs": [
        {
          "output_type": "stream",
          "text": [
            "Normal Train:Test = 1600:400\n",
            "Fault  Train:Test = 1610:403\n",
            "\n",
            "Normal Training Image Shape (1600, 224, 224)\n",
            "Normal Test Image Shape (400, 224, 224)\n",
            "\n",
            "Fault Training Image Shape (1610, 224, 224)\n",
            "Fault Test Image Shape (403, 224, 224)\n",
            "\n",
            "Training Image Shape (3210, 224, 224)\n",
            "Test Image Shape (803, 224, 224)\n"
          ],
          "name": "stdout"
        }
      ]
    },
    {
      "metadata": {
        "id": "feQ_AHAcUgHD",
        "colab_type": "code",
        "outputId": "22f41b95-2b97-4bfc-e883-f5e1c1442d22",
        "colab": {
          "base_uri": "https://localhost:8080/",
          "height": 53
        }
      },
      "cell_type": "code",
      "source": [
        "trainMean = np.mean(trainImgs)\n",
        "trainStd = np.std(trainImgs)\n",
        "\n",
        "print('Mean of Training Image: {}'.format(trainMean))\n",
        "print('Standard Deviation of Training Image: {}'.format(trainStd))"
      ],
      "execution_count": 0,
      "outputs": [
        {
          "output_type": "stream",
          "text": [
            "Mean of Training Image: -78.73910851966106\n",
            "Standard Deviation of Training Image: 8.920973145586164\n"
          ],
          "name": "stdout"
        }
      ]
    },
    {
      "metadata": {
        "id": "wUi9IuXNUpir",
        "colab_type": "code",
        "colab": {}
      },
      "cell_type": "code",
      "source": [
        "# Should Change Norm to Normalized\n",
        "\n",
        "trainImgsNorm = (trainImgs - trainMean) / trainStd\n",
        "testImgsNorm = (testImgs - trainMean) / trainStd\n",
        "\n",
        "trainImgsNorm = trainImgsNorm.reshape(list(trainImgsNorm.shape) + [1])\n",
        "testImgsNorm = testImgsNorm.reshape(list(testImgsNorm.shape) + [1])"
      ],
      "execution_count": 0,
      "outputs": []
    },
    {
      "metadata": {
        "id": "aklxiPz1Ve4n",
        "colab_type": "code",
        "outputId": "5caa1def-99d3-4cdd-d530-a968c41c301e",
        "colab": {
          "base_uri": "https://localhost:8080/",
          "height": 53
        }
      },
      "cell_type": "code",
      "source": [
        "X_train = np.stack([trainImgsNorm[:, :, :, 0], trainImgsNorm[:, :, :, 0], trainImgsNorm[:, :, :, 0]], axis = -1)\n",
        "X_test = np.stack([testImgsNorm[:, :, :, 0], testImgsNorm[:, :, :, 0], testImgsNorm[:, :, :, 0]], axis = -1)\n",
        "\n",
        "print('X_train Shape: {}'.format(X_train.shape))\n",
        "print('X_test  Shape: {}'.format(X_test.shape))"
      ],
      "execution_count": 0,
      "outputs": [
        {
          "output_type": "stream",
          "text": [
            "X_train Shape: (3210, 224, 224, 3)\n",
            "X_test  Shape: (803, 224, 224, 3)\n"
          ],
          "name": "stdout"
        }
      ]
    },
    {
      "metadata": {
        "id": "sRgIPzT7K_YP",
        "colab_type": "code",
        "outputId": "5185a39c-e7dd-4042-ce00-056ea2d84d37",
        "colab": {
          "base_uri": "https://localhost:8080/",
          "height": 53
        }
      },
      "cell_type": "code",
      "source": [
        "trainLabelNormal = np.stack((np.ones(dataNumNormalTrain), np.zeros(dataNumNormalTrain)), axis = -1)\n",
        "testLabelNormal = np.stack((np.ones(dataNumNormalTest), np.zeros(dataNumNormalTest)), axis = -1)\n",
        "\n",
        "trainLabelFault = np.stack((np.zeros(dataNumFaultTrain), np.ones(dataNumFaultTrain)), axis = -1)\n",
        "testLabelFault = np.stack((np.zeros(dataNumFaultTest), np.ones(dataNumFaultTest)), axis = -1)\n",
        "\n",
        "Y_train = np.vstack((trainLabelNormal, trainLabelFault))\n",
        "Y_test = np.vstack((testLabelNormal, testLabelFault))\n",
        "\n",
        "print('Y_train Normal:Fault = {:d}:{:d}'.format(len(trainLabelNormal), len(trainLabelFault)))\n",
        "print('Y_test  Normal:Fault = {:d}:{:d}'.format(len(testLabelNormal), len(testLabelFault)))"
      ],
      "execution_count": 0,
      "outputs": [
        {
          "output_type": "stream",
          "text": [
            "Y_train Normal:Fault = 1600:1610\n",
            "Y_test  Normal:Fault = 400:403\n"
          ],
          "name": "stdout"
        }
      ]
    },
    {
      "metadata": {
        "id": "kczwZk7Tbp5C",
        "colab_type": "code",
        "outputId": "40987db2-13a4-4b8f-8d9f-d0e907dc33ab",
        "colab": {
          "base_uri": "https://localhost:8080/",
          "height": 71
        }
      },
      "cell_type": "code",
      "source": [
        "from keras.applications import VGG19\n",
        "from keras.applications import VGG16\n",
        "from keras.applications.resnet50 import ResNet50\n",
        "from keras.applications.xception import Xception\n",
        "from keras.applications.densenet import DenseNet169\n",
        "from keras.applications.densenet import DenseNet201\n",
        "from keras.applications.inception_v3 import InceptionV3\n",
        "\n",
        "# pretrainedModel = 'ResNet50'\n",
        "# lastActivation = 'softmax'\n",
        "# lossFunction = 'binary_crossentropy'\n",
        "# sizeBatch = 2\n",
        "# numEpochs = 2\n",
        "# verb = 1\n",
        "\n",
        "# Refresh all background variables\n",
        "K.clear_session()\n",
        "\n",
        "input_tensor = Input(shape=(imgSize, imgSize, 3))\n",
        "\n",
        "# Building sequential model with name 'model'\n",
        "model = Sequential()\n",
        "\n",
        "# Model selection\n",
        "\n",
        "if (pretrainedModel == 'VGG16'):\n",
        "    \n",
        "    modelWoTop = VGG16(input_tensor=input_tensor, weights='imagenet', include_top=False)\n",
        "    model.add(modelWoTop)\n",
        "    model.add(Flatten())\n",
        "    model.add(Dense(4096, activation='relu'))\n",
        "    model.add(Dropout(0.5))\n",
        "    model.add(Dense(4096, activation='relu'))\n",
        "    model.add(Dropout(0.5))\n",
        "    model.add(Dense(2, activation=lastActivation))\n",
        "    \n",
        "elif (pretrainedModel == 'VGG19'):\n",
        "    \n",
        "    modelWoTop = VGG19(input_tensor=input_tensor, weights='imagenet', include_top=False)\n",
        "    model.add(modelWoTop)\n",
        "    model.add(Flatten())\n",
        "    model.add(Dense(4096, activation='relu'))\n",
        "    model.add(Dropout(0.5))\n",
        "    model.add(Dense(4096, activation='relu'))\n",
        "    model.add(Dropout(0.5))\n",
        "    model.add(Dense(2, activation=lastActivation))\n",
        "              \n",
        "elif pretrainedModel == 'ResNet50':\n",
        "    \n",
        "    modelWoTop = ResNet50(input_tensor=input_tensor, weights='imagenet', include_top=False)\n",
        "    model.add(modelWoTop)\n",
        "    model.add(Flatten())\n",
        "    model.add(Dense(2, activation=lastActivation))\n",
        "              \n",
        "elif (pretrainedModel == 'InceptionV3'):\n",
        "    modelWoTop = InceptionV3(input_tensor=input_tensor, weights='imagenet', include_top=False)\n",
        "    model.add(modelWoTop)\n",
        "    model.add(GlobalAveragePooling2D())\n",
        "    model.add(Dense(2, activation=lastActivation))\n",
        "    \n",
        "elif (pretrainedModel == 'Xception'):\n",
        "    modelWoTop = Xception(input_tensor=input_tensor, weights='imagenet', include_top=False)\n",
        "    model.add(modelWoTop)\n",
        "    model.add(GlobalAveragePooling2D())\n",
        "    model.add(Dense(2, activation=lastActivation))\n",
        "                      \n",
        "elif (pretrainedModel == 'DenseNet169'):\n",
        "\n",
        "    modelWoTop = DenseNet169(input_tensor=input_tensor, weights='imagenet', include_top=False)\n",
        "    model.add(modelWoTop)\n",
        "    model.add(GlobalAveragePooling2D())\n",
        "    model.add(Dense(2, activation=lastActivation))\n",
        "              \n",
        "elif (pretrainedModel == 'DenseNet201'):\n",
        "    modelWoTop = DenseNet201(input_tensor=input_tensor, weights='imagenet', include_top=False)\n",
        "    model.add(modelWoTop)\n",
        "    model.add(GlobalAveragePooling2D())\n",
        "    model.add(Dense(2, activation=lastActivation))\n",
        "              \n",
        "else:\n",
        "    print('Invalid Pretrained Model Selection')\n",
        "    \n",
        "              \n",
        "\n",
        "# Model compiling\n",
        "\n",
        "print('Compiling Pretrained {} Model'.format(model.layers[0].name))\n",
        "              \n",
        "model.compile(loss='binary_crossentropy',\n",
        "              optimizer='adam',\n",
        "              metrics=['accuracy'])"
      ],
      "execution_count": 0,
      "outputs": [
        {
          "output_type": "stream",
          "text": [
            "c:\\users\\주환\\appdata\\local\\conda\\conda\\envs\\paper\\lib\\site-packages\\keras_applications\\resnet50.py:263: UserWarning: The output shape of `ResNet50(include_top=False)` has been changed since Keras 2.2.0.\n",
            "  warnings.warn('The output shape of `ResNet50(include_top=False)` '\n"
          ],
          "name": "stderr"
        },
        {
          "output_type": "stream",
          "text": [
            "Compiling Pretrained resnet50 Model\n"
          ],
          "name": "stdout"
        }
      ]
    },
    {
      "metadata": {
        "id": "eA9GZhLGe5X9",
        "colab_type": "code",
        "collapsed": true,
        "outputId": "566f081e-bc9c-4f65-c5de-85d5f13f8880",
        "colab": {
          "base_uri": "https://localhost:8080/",
          "height": 377
        }
      },
      "cell_type": "code",
      "source": [
        "print('Training Pretrained {} Model'.format(model.layers[0].name))\n",
        "print('Batch Size: {}\\t Epochs: {}\\t\\n'.format(sizeBatch, numEpochs))\n",
        "\n",
        "model.fit(X_train, Y_train,\n",
        "          batch_size=sizeBatch, epochs=numEpochs, verbose=1,\n",
        "          validation_data=(X_test, Y_test))\n",
        "\n",
        "Y_pred = model.predict(X_test)"
      ],
      "execution_count": 0,
      "outputs": [
        {
          "output_type": "stream",
          "text": [
            "Training Pretrained resnet50 Model\n",
            "Batch Size: 4\t Epochs: 8\t\n",
            "\n",
            "Train on 3210 samples, validate on 803 samples\n",
            "Epoch 1/8\n",
            "3210/3210 [==============================] - 146s 46ms/step - loss: 3.3483 - acc: 0.6399 - val_loss: 7.3937 - val_acc: 0.3935\n",
            "Epoch 2/8\n",
            "3210/3210 [==============================] - 135s 42ms/step - loss: 2.0102 - acc: 0.7757 - val_loss: 5.8416 - val_acc: 0.6065\n",
            "Epoch 3/8\n",
            "3210/3210 [==============================] - 134s 42ms/step - loss: 1.0598 - acc: 0.8682 - val_loss: 0.5361 - val_acc: 0.9103\n",
            "Epoch 4/8\n",
            "3210/3210 [==============================] - 134s 42ms/step - loss: 1.1773 - acc: 0.8533 - val_loss: 0.8054 - val_acc: 0.8144\n",
            "Epoch 5/8\n",
            "3210/3210 [==============================] - 135s 42ms/step - loss: 0.9336 - acc: 0.8713 - val_loss: 0.2796 - val_acc: 0.9390\n",
            "Epoch 6/8\n",
            "3210/3210 [==============================] - 134s 42ms/step - loss: 0.9254 - acc: 0.8813 - val_loss: 0.3036 - val_acc: 0.9440\n",
            "Epoch 7/8\n",
            "3210/3210 [==============================] - 134s 42ms/step - loss: 1.1204 - acc: 0.8573 - val_loss: 0.3921 - val_acc: 0.9328\n",
            "Epoch 8/8\n",
            "3210/3210 [==============================] - 134s 42ms/step - loss: 1.0426 - acc: 0.8629 - val_loss: 4.6856 - val_acc: 0.6762\n"
          ],
          "name": "stdout"
        }
      ]
    },
    {
      "metadata": {
        "id": "ZKhxVwgRquB5",
        "colab_type": "code",
        "outputId": "f59a0245-eab8-43c0-dfe1-dff5338fa9d9",
        "colab": {
          "base_uri": "https://localhost:8080/",
          "height": 341
        }
      },
      "cell_type": "code",
      "source": [
        "model.fit(X_train, Y_train,\n",
        "          batch_size=sizeBatch, epochs=8, verbose=1,\n",
        "          validation_data=(X_test, Y_test))"
      ],
      "execution_count": 0,
      "outputs": [
        {
          "output_type": "stream",
          "text": [
            "Train on 3210 samples, validate on 803 samples\n",
            "Epoch 1/8\n",
            "3210/3210 [==============================] - 134s 42ms/step - loss: 0.7968 - acc: 0.8688 - val_loss: 0.1884 - val_acc: 0.9315\n",
            "Epoch 2/8\n",
            "3210/3210 [==============================] - 135s 42ms/step - loss: 0.7971 - acc: 0.8891 - val_loss: 0.3949 - val_acc: 0.8854\n",
            "Epoch 3/8\n",
            "3210/3210 [==============================] - 135s 42ms/step - loss: 0.7327 - acc: 0.9003 - val_loss: 0.1601 - val_acc: 0.9452\n",
            "Epoch 4/8\n",
            "3210/3210 [==============================] - 134s 42ms/step - loss: 0.7035 - acc: 0.9078 - val_loss: 0.1490 - val_acc: 0.9514\n",
            "Epoch 5/8\n",
            "3210/3210 [==============================] - 132s 41ms/step - loss: 0.7781 - acc: 0.9040 - val_loss: 1.9993 - val_acc: 0.8443\n",
            "Epoch 6/8\n",
            "3210/3210 [==============================] - 135s 42ms/step - loss: 0.7409 - acc: 0.9019 - val_loss: 0.1311 - val_acc: 0.9601\n",
            "Epoch 7/8\n",
            "3210/3210 [==============================] - 134s 42ms/step - loss: 0.7017 - acc: 0.9140 - val_loss: 0.1646 - val_acc: 0.9415\n",
            "Epoch 8/8\n",
            "3210/3210 [==============================] - 135s 42ms/step - loss: 1.8691 - acc: 0.8283 - val_loss: 0.2258 - val_acc: 0.8904\n"
          ],
          "name": "stdout"
        },
        {
          "output_type": "execute_result",
          "data": {
            "text/plain": [
              "<keras.callbacks.History at 0x2837632ae10>"
            ]
          },
          "metadata": {
            "tags": []
          },
          "execution_count": 15
        }
      ]
    },
    {
      "metadata": {
        "id": "c7iXn7OjCwsK",
        "colab_type": "code",
        "outputId": "ec7b5294-fd6b-41c3-941c-a0a1034e2b51",
        "colab": {
          "base_uri": "https://localhost:8080/",
          "height": 593
        }
      },
      "cell_type": "code",
      "source": [
        "model.fit(X_train, Y_train,\n",
        "          batch_size=6, epochs=15, verbose=1,\n",
        "          validation_data=(X_test, Y_test))"
      ],
      "execution_count": 0,
      "outputs": [
        {
          "output_type": "stream",
          "text": [
            "Train on 3210 samples, validate on 803 samples\n",
            "Epoch 1/15\n",
            "3210/3210 [==============================] - 103s 32ms/step - loss: 1.7855 - acc: 0.8308 - val_loss: 7.1453 - val_acc: 0.5467\n",
            "Epoch 2/15\n",
            "3210/3210 [==============================] - 98s 31ms/step - loss: 1.7554 - acc: 0.8489 - val_loss: 2.3184 - val_acc: 0.8294\n",
            "Epoch 3/15\n",
            "3210/3210 [==============================] - 98s 31ms/step - loss: 2.4889 - acc: 0.7919 - val_loss: 1.3336 - val_acc: 0.8817\n",
            "Epoch 4/15\n",
            "3210/3210 [==============================] - 98s 30ms/step - loss: 2.9599 - acc: 0.7673 - val_loss: 2.4098 - val_acc: 0.8082\n",
            "Epoch 5/15\n",
            "3210/3210 [==============================] - 98s 31ms/step - loss: 2.4762 - acc: 0.7953 - val_loss: 2.2964 - val_acc: 0.8232\n",
            "Epoch 6/15\n",
            "3210/3210 [==============================] - 98s 31ms/step - loss: 1.5194 - acc: 0.8523 - val_loss: 0.8571 - val_acc: 0.9141\n",
            "Epoch 7/15\n",
            "3210/3210 [==============================] - 98s 31ms/step - loss: 1.5202 - acc: 0.8639 - val_loss: 0.4340 - val_acc: 0.9390\n",
            "Epoch 8/15\n",
            "3210/3210 [==============================] - 98s 31ms/step - loss: 1.5446 - acc: 0.8636 - val_loss: 0.8583 - val_acc: 0.8979\n",
            "Epoch 9/15\n",
            "3210/3210 [==============================] - 97s 30ms/step - loss: 1.4898 - acc: 0.8657 - val_loss: 0.7670 - val_acc: 0.9228\n",
            "Epoch 10/15\n",
            "3210/3210 [==============================] - 97s 30ms/step - loss: 1.0362 - acc: 0.8860 - val_loss: 0.7860 - val_acc: 0.9041\n",
            "Epoch 11/15\n",
            "3210/3210 [==============================] - 98s 30ms/step - loss: 0.5033 - acc: 0.9265 - val_loss: 0.1564 - val_acc: 0.9552\n",
            "Epoch 12/15\n",
            "3210/3210 [==============================] - 98s 30ms/step - loss: 0.3404 - acc: 0.9377 - val_loss: 0.1361 - val_acc: 0.9589\n",
            "Epoch 13/15\n",
            "3210/3210 [==============================] - 98s 31ms/step - loss: 0.2892 - acc: 0.9480 - val_loss: 0.1317 - val_acc: 0.9577\n",
            "Epoch 14/15\n",
            "3210/3210 [==============================] - 98s 31ms/step - loss: 0.2659 - acc: 0.9486 - val_loss: 0.1431 - val_acc: 0.9539\n",
            "Epoch 15/15\n",
            "3210/3210 [==============================] - 98s 31ms/step - loss: 0.2988 - acc: 0.9458 - val_loss: 0.1939 - val_acc: 0.9365\n"
          ],
          "name": "stdout"
        },
        {
          "output_type": "execute_result",
          "data": {
            "text/plain": [
              "<keras.callbacks.History at 0x283763126d8>"
            ]
          },
          "metadata": {
            "tags": []
          },
          "execution_count": 16
        }
      ]
    },
    {
      "metadata": {
        "id": "pnWrdh66NvxQ",
        "colab_type": "code",
        "outputId": "90484fa0-6277-4471-d4c7-fb94e3fc708b",
        "colab": {
          "base_uri": "https://localhost:8080/",
          "height": 413
        }
      },
      "cell_type": "code",
      "source": [
        "model.fit(X_train, Y_train,\n",
        "          batch_size=6, epochs=10, verbose=1,\n",
        "          validation_data=(X_test, Y_test))"
      ],
      "execution_count": 0,
      "outputs": [
        {
          "output_type": "stream",
          "text": [
            "Train on 3210 samples, validate on 803 samples\n",
            "Epoch 1/10\n",
            "3210/3210 [==============================] - 97s 30ms/step - loss: 0.2344 - acc: 0.9536 - val_loss: 1.5700 - val_acc: 0.5255\n",
            "Epoch 2/10\n",
            "3210/3210 [==============================] - 97s 30ms/step - loss: 0.3033 - acc: 0.9445 - val_loss: 0.1409 - val_acc: 0.9589\n",
            "Epoch 3/10\n",
            "3210/3210 [==============================] - 98s 30ms/step - loss: 0.2893 - acc: 0.9464 - val_loss: 0.1272 - val_acc: 0.9639\n",
            "Epoch 4/10\n",
            "3210/3210 [==============================] - 97s 30ms/step - loss: 0.6095 - acc: 0.9156 - val_loss: 0.2471 - val_acc: 0.9539\n",
            "Epoch 5/10\n",
            "3210/3210 [==============================] - 98s 30ms/step - loss: 0.4011 - acc: 0.9377 - val_loss: 0.1295 - val_acc: 0.9614\n",
            "Epoch 6/10\n",
            "3210/3210 [==============================] - 98s 30ms/step - loss: 0.2674 - acc: 0.9477 - val_loss: 0.1590 - val_acc: 0.9527\n",
            "Epoch 7/10\n",
            "3210/3210 [==============================] - 98s 31ms/step - loss: 0.3108 - acc: 0.9492 - val_loss: 0.1244 - val_acc: 0.9614\n",
            "Epoch 8/10\n",
            "3210/3210 [==============================] - 98s 31ms/step - loss: 0.6391 - acc: 0.9268 - val_loss: 1.5322 - val_acc: 0.8468\n",
            "Epoch 9/10\n",
            "3210/3210 [==============================] - 97s 30ms/step - loss: 0.4141 - acc: 0.9336 - val_loss: 0.1352 - val_acc: 0.9527\n",
            "Epoch 10/10\n",
            "3210/3210 [==============================] - 98s 31ms/step - loss: 0.2883 - acc: 0.9452 - val_loss: 0.1343 - val_acc: 0.9601\n"
          ],
          "name": "stdout"
        },
        {
          "output_type": "execute_result",
          "data": {
            "text/plain": [
              "<keras.callbacks.History at 0x283381abb00>"
            ]
          },
          "metadata": {
            "tags": []
          },
          "execution_count": 17
        }
      ]
    },
    {
      "metadata": {
        "id": "MKig5TD9R7eX",
        "colab_type": "code",
        "outputId": "ab4cb4fa-b712-4f1e-ecbd-9f56b74ef4ef",
        "colab": {
          "base_uri": "https://localhost:8080/",
          "height": 125
        }
      },
      "cell_type": "code",
      "source": [
        "model.fit(X_train, Y_train,\n",
        "          batch_size=6, epochs=2, verbose=1,\n",
        "          validation_data=(X_test, Y_test))"
      ],
      "execution_count": 0,
      "outputs": [
        {
          "output_type": "stream",
          "text": [
            "Train on 3210 samples, validate on 803 samples\n",
            "Epoch 1/2\n",
            "3210/3210 [==============================] - 98s 31ms/step - loss: 0.2894 - acc: 0.9502 - val_loss: 0.1948 - val_acc: 0.9514\n",
            "Epoch 2/2\n",
            "3210/3210 [==============================] - 98s 31ms/step - loss: 0.2697 - acc: 0.9495 - val_loss: 0.1942 - val_acc: 0.9365\n"
          ],
          "name": "stdout"
        },
        {
          "output_type": "execute_result",
          "data": {
            "text/plain": [
              "<keras.callbacks.History at 0x28336157278>"
            ]
          },
          "metadata": {
            "tags": []
          },
          "execution_count": 18
        }
      ]
    },
    {
      "metadata": {
        "id": "eqCVWl1xSfeO",
        "colab_type": "code",
        "outputId": "cb4619eb-c4b1-4db1-99ce-4e1697d2f6bb",
        "colab": {
          "base_uri": "https://localhost:8080/",
          "height": 125
        }
      },
      "cell_type": "code",
      "source": [
        "model.fit(X_train, Y_train,\n",
        "          batch_size=6, epochs=2, verbose=1,\n",
        "          validation_data=(X_test, Y_test))"
      ],
      "execution_count": 0,
      "outputs": [
        {
          "output_type": "stream",
          "text": [
            "Train on 3210 samples, validate on 803 samples\n",
            "Epoch 1/2\n",
            "3210/3210 [==============================] - 98s 31ms/step - loss: 0.2714 - acc: 0.9498 - val_loss: 0.1715 - val_acc: 0.9440\n",
            "Epoch 2/2\n",
            "3210/3210 [==============================] - 99s 31ms/step - loss: 0.2981 - acc: 0.9452 - val_loss: 0.1542 - val_acc: 0.9477\n"
          ],
          "name": "stdout"
        },
        {
          "output_type": "execute_result",
          "data": {
            "text/plain": [
              "<keras.callbacks.History at 0x283381aad68>"
            ]
          },
          "metadata": {
            "tags": []
          },
          "execution_count": 19
        }
      ]
    },
    {
      "metadata": {
        "id": "UxTvWlWzsRk-",
        "colab_type": "code",
        "outputId": "7fb51ba4-ad75-4bb6-e1ab-6831c1cdc717",
        "colab": {
          "base_uri": "https://localhost:8080/",
          "height": 341
        }
      },
      "cell_type": "code",
      "source": [
        "model.fit(X_train, Y_train,\n",
        "          batch_size=6, epochs=8, verbose=1,\n",
        "          validation_data=(X_test, Y_test))"
      ],
      "execution_count": 0,
      "outputs": [
        {
          "output_type": "stream",
          "text": [
            "Train on 3210 samples, validate on 803 samples\n",
            "Epoch 1/8\n",
            "3210/3210 [==============================] - 98s 31ms/step - loss: 0.2730 - acc: 0.9530 - val_loss: 0.1885 - val_acc: 0.9477\n",
            "Epoch 2/8\n",
            "3210/3210 [==============================] - 98s 31ms/step - loss: 0.5541 - acc: 0.9255 - val_loss: 0.5834 - val_acc: 0.8929\n",
            "Epoch 3/8\n",
            "3210/3210 [==============================] - 98s 30ms/step - loss: 0.5621 - acc: 0.9355 - val_loss: 0.2055 - val_acc: 0.9514\n",
            "Epoch 4/8\n",
            "3210/3210 [==============================] - 98s 31ms/step - loss: 0.4645 - acc: 0.9442 - val_loss: 0.1658 - val_acc: 0.9390\n",
            "Epoch 5/8\n",
            "3210/3210 [==============================] - 97s 30ms/step - loss: 0.2584 - acc: 0.9520 - val_loss: 0.1363 - val_acc: 0.9589\n",
            "Epoch 6/8\n",
            "3210/3210 [==============================] - 97s 30ms/step - loss: 0.2819 - acc: 0.9505 - val_loss: 0.1608 - val_acc: 0.9489\n",
            "Epoch 7/8\n",
            "3210/3210 [==============================] - 97s 30ms/step - loss: 0.3103 - acc: 0.9502 - val_loss: 0.1485 - val_acc: 0.9564\n",
            "Epoch 8/8\n",
            "3210/3210 [==============================] - 97s 30ms/step - loss: 0.3206 - acc: 0.9495 - val_loss: 0.1401 - val_acc: 0.9465\n"
          ],
          "name": "stdout"
        },
        {
          "output_type": "execute_result",
          "data": {
            "text/plain": [
              "<keras.callbacks.History at 0x2837632a710>"
            ]
          },
          "metadata": {
            "tags": []
          },
          "execution_count": 22
        }
      ]
    },
    {
      "metadata": {
        "id": "qexmaPZVz04q",
        "colab_type": "code",
        "outputId": "b281bc3f-b007-4d93-d425-f8ed0daa1644",
        "colab": {
          "base_uri": "https://localhost:8080/",
          "height": 269
        }
      },
      "cell_type": "code",
      "source": [
        "Y_pred = model.predict(X_test)\n",
        "\n",
        "plt.subplot(3, 1, 1)\n",
        "plt.plot(Y_test[:, 1], 'r')\n",
        "\n",
        "plt.subplot(3, 1, 2)\n",
        "plt.plot(Y_pred[:, 1], 'b')\n",
        "\n",
        "plt.subplot(3, 1, 3)\n",
        "plt.plot(Y_test[:, 1] - Y_pred[:, 1], 'g')\n",
        "\n",
        "plt.show()"
      ],
      "execution_count": 0,
      "outputs": [
        {
          "output_type": "display_data",
          "data": {
            "text/plain": [
              "<Figure size 432x288 with 3 Axes>"
            ],
            "image/png": "[encoded data removed]"
          },
          "metadata": {
            "tags": [],
            "needs_background": "light"
          }
        }
      ]
    },
    {
      "metadata": {
        "id": "IPTFOJh3DTgq",
        "colab_type": "code",
        "outputId": "e23718ac-369b-4d46-cfb1-dc4750995c93",
        "colab": {
          "base_uri": "https://localhost:8080/",
          "height": 53
        }
      },
      "cell_type": "code",
      "source": [
        "# : is not allowed in file name in windows OS\n",
        "now = datetime.datetime.now()\n",
        "\n",
        "modelSaved = '{}-{}_{}_{}.h5'.format(folderNormal, folderFault, pretrainedModel, now.strftime('%m-%d-%H-%M-%S'))\n",
        "modelSaved = '{}-{}_{}_{}.h5'.format('Normal', 'Fault', pretrainedModel, now.strftime('%m-%d-%H-%M-%S'))\n",
        "meanSaved = 'mean_{}.npy'.format(now.strftime('%m-%d-%H-%M-%S'))\n",
        "stdSaved = 'std_{}.npy'.format(now.strftime('%m-%d-%H-%M-%S'))\n",
        "\n",
        "inputStr = input('''Save Model as '{}'? (y/n)\\n'''.format(modelSaved))\n",
        "\n",
        "if (inputStr == 'y' or inputStr == 'Y'):  \n",
        "    \n",
        "    np.save(modelPath + '/' + meanSaved, trainMean)\n",
        "    np.save(modelPath + '/' + stdSaved, trainStd)\n",
        "    model.save(modelPath + '/' + modelSaved)\n",
        "\n"
      ],
      "execution_count": 0,
      "outputs": [
        {
          "output_type": "stream",
          "text": [
            "Save Model as 'Normal-Fault_ResNet50_10-15-17-07-45.h5'? (y/n)\n",
            "y\n"
          ],
          "name": "stdout"
        }
      ]
    }
  ]
}